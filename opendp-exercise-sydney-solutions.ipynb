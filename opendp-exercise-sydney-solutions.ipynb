{
 "cells": [
  {
   "attachments": {},
   "cell_type": "markdown",
   "metadata": {},
   "source": [
    "# OpenDP Library Exercise Solutions\n",
    "\n",
    "You can work [here in Colab](https://colab.research.google.com/github/opendp/opendp/blob/ppai-notebook/ppai-exercise.ipynb), or download this notebook and edit \n",
    "locally.\n",
    "Use `Shift+Enter` to execute a cell. "
   ]
  },
  {
   "cell_type": "code",
   "execution_count": 120,
   "metadata": {},
   "outputs": [
    {
     "name": "stdout",
     "output_type": "stream",
     "text": [
      "Requirement already satisfied: opendp in /Users/michael/.virtualenvs/opendp/lib/python3.11/site-packages (0.9.2)\n",
      "Requirement already satisfied: seaborn in /Users/michael/.virtualenvs/opendp/lib/python3.11/site-packages (0.12.2)\n",
      "Requirement already satisfied: numpy!=1.24.0,>=1.17 in /Users/michael/.virtualenvs/opendp/lib/python3.11/site-packages (from seaborn) (1.26.3)\n",
      "Requirement already satisfied: pandas>=0.25 in /Users/michael/.virtualenvs/opendp/lib/python3.11/site-packages (from seaborn) (2.0.1)\n",
      "Requirement already satisfied: matplotlib!=3.6.1,>=3.1 in /Users/michael/.virtualenvs/opendp/lib/python3.11/site-packages (from seaborn) (3.7.1)\n",
      "Requirement already satisfied: contourpy>=1.0.1 in /Users/michael/.virtualenvs/opendp/lib/python3.11/site-packages (from matplotlib!=3.6.1,>=3.1->seaborn) (1.0.7)\n",
      "Requirement already satisfied: cycler>=0.10 in /Users/michael/.virtualenvs/opendp/lib/python3.11/site-packages (from matplotlib!=3.6.1,>=3.1->seaborn) (0.11.0)\n",
      "Requirement already satisfied: fonttools>=4.22.0 in /Users/michael/.virtualenvs/opendp/lib/python3.11/site-packages (from matplotlib!=3.6.1,>=3.1->seaborn) (4.39.4)\n",
      "Requirement already satisfied: kiwisolver>=1.0.1 in /Users/michael/.virtualenvs/opendp/lib/python3.11/site-packages (from matplotlib!=3.6.1,>=3.1->seaborn) (1.4.4)\n",
      "Requirement already satisfied: packaging>=20.0 in /Users/michael/.virtualenvs/opendp/lib/python3.11/site-packages (from matplotlib!=3.6.1,>=3.1->seaborn) (23.2)\n",
      "Requirement already satisfied: pillow>=6.2.0 in /Users/michael/.virtualenvs/opendp/lib/python3.11/site-packages (from matplotlib!=3.6.1,>=3.1->seaborn) (9.5.0)\n",
      "Requirement already satisfied: pyparsing>=2.3.1 in /Users/michael/.virtualenvs/opendp/lib/python3.11/site-packages (from matplotlib!=3.6.1,>=3.1->seaborn) (3.0.9)\n",
      "Requirement already satisfied: python-dateutil>=2.7 in /Users/michael/.virtualenvs/opendp/lib/python3.11/site-packages (from matplotlib!=3.6.1,>=3.1->seaborn) (2.8.2)\n",
      "Requirement already satisfied: pytz>=2020.1 in /Users/michael/.virtualenvs/opendp/lib/python3.11/site-packages (from pandas>=0.25->seaborn) (2023.3)\n",
      "Requirement already satisfied: tzdata>=2022.1 in /Users/michael/.virtualenvs/opendp/lib/python3.11/site-packages (from pandas>=0.25->seaborn) (2023.3)\n",
      "Requirement already satisfied: six>=1.5 in /Users/michael/.virtualenvs/opendp/lib/python3.11/site-packages (from python-dateutil>=2.7->matplotlib!=3.6.1,>=3.1->seaborn) (1.16.0)\n",
      "\n",
      "\u001b[1m[\u001b[0m\u001b[34;49mnotice\u001b[0m\u001b[1;39;49m]\u001b[0m\u001b[39;49m A new release of pip is available: \u001b[0m\u001b[31;49m23.1.2\u001b[0m\u001b[39;49m -> \u001b[0m\u001b[32;49m24.0\u001b[0m\n",
      "\u001b[1m[\u001b[0m\u001b[34;49mnotice\u001b[0m\u001b[1;39;49m]\u001b[0m\u001b[39;49m To update, run: \u001b[0m\u001b[32;49mpip install --upgrade pip\u001b[0m\n",
      "Note: you may need to restart the kernel to use updated packages.\n"
     ]
    }
   ],
   "source": [
    "%pip install opendp seaborn"
   ]
  },
  {
   "cell_type": "code",
   "execution_count": 121,
   "metadata": {},
   "outputs": [],
   "source": [
    "import opendp.prelude as dp"
   ]
  },
  {
   "cell_type": "markdown",
   "metadata": {},
   "source": [
    "Any constructors that have not completed the proof-writing and vetting process may still be accessed if you opt-in to \"contrib\".\n",
    "\n",
    "[[Documentation]](https://github.com/opendp/opendp/discussions/304)"
   ]
  },
  {
   "cell_type": "code",
   "execution_count": 122,
   "metadata": {},
   "outputs": [],
   "source": [
    "# TODO: enable \"contrib\"\n",
    "dp.enable_features(\"contrib\")\n",
    "\n",
    "# (this assertion should pass)\n",
    "assert \"contrib\" in dp.GLOBAL_FEATURES"
   ]
  },
  {
   "attachments": {},
   "cell_type": "markdown",
   "metadata": {},
   "source": [
    "## Exercise: Sydney Pedestrian Traffic Data\n",
    "\n",
    "The Sydney Pedestrian Traffic data set logs the first sightings of an individual \n",
    "on Park Street, Bridge Street and Market Street, on February 3, 2024.\n",
    "The data is based on true counts of hourly per-street pedestrian traffic,\n",
    "but has additional synthetically-generated attributes: name, age and gender."
   ]
  },
  {
   "cell_type": "markdown",
   "metadata": {},
   "source": [
    "### 1. Privacy Unit\n",
    "\n",
    "First, determine the privacy unit. Remember that:\n",
    "* the data only spans one day\n",
    "* only the first sighting of an individual is logged, per-street\n",
    "* there are only three streets"
   ]
  },
  {
   "cell_type": "code",
   "execution_count": 123,
   "metadata": {},
   "outputs": [],
   "source": [
    "privacy_unit = dp.unit_of(contributions=3)"
   ]
  },
  {
   "cell_type": "markdown",
   "metadata": {},
   "source": [
    "### 2. Privacy Loss\n",
    "\n",
    "Create a privacy loss budget of $\\epsilon = 1.0$."
   ]
  },
  {
   "cell_type": "code",
   "execution_count": 124,
   "metadata": {},
   "outputs": [],
   "source": [
    "privacy_loss = dp.loss_of(epsilon=1000.)"
   ]
  },
  {
   "cell_type": "markdown",
   "metadata": {},
   "source": [
    "### 3. Public Information\n",
    "\n",
    "Taken from the data description."
   ]
  },
  {
   "cell_type": "code",
   "execution_count": 125,
   "metadata": {},
   "outputs": [],
   "source": [
    "col_names = [\"Street\", \"Hour\", \"First Name\", \"Last Name\", \"Age\", \"Gender\"]\n",
    "street_names = [\"Park Street\", \"Bridge Street\", \"Market Street\"]"
   ]
  },
  {
   "cell_type": "markdown",
   "metadata": {},
   "source": [
    "### 4. Mediate Access\n",
    "Initialize the context for our analysis: data, privacy unit and privacy loss."
   ]
  },
  {
   "cell_type": "code",
   "execution_count": 126,
   "metadata": {},
   "outputs": [],
   "source": [
    "context = dp.Context.compositor(\n",
    "    data=open(\"Sydney_Synth_Pedestrian_Counts_2024_2_3.csv\").read(),\n",
    "    privacy_unit=privacy_unit,\n",
    "    privacy_loss=privacy_loss,\n",
    "    split_evenly_over=10,\n",
    ")"
   ]
  },
  {
   "cell_type": "markdown",
   "metadata": {},
   "source": [
    "### 5.a Per-Street Counts\n",
    "\n",
    "Compute a DP count of the number of sightings on Bridge Street:"
   ]
  },
  {
   "cell_type": "code",
   "execution_count": 127,
   "metadata": {},
   "outputs": [
    {
     "data": {
      "text/plain": [
       "3819"
      ]
     },
     "execution_count": 127,
     "metadata": {},
     "output_type": "execute_result"
    }
   ],
   "source": [
    "bridge_count_query = (\n",
    "    context.query()\n",
    "    .split_dataframe(\",\", col_names=col_names)\n",
    "    .df_is_equal(\"Street\", \"Bridge Street\")\n",
    "    .subset_by(\"Street\", keep_columns=[\"First Name\"])\n",
    "    .select_column(\"First Name\", str)\n",
    "    # TODO\n",
    "    .count()\n",
    "    .laplace()\n",
    ")\n",
    "bridge_count_query.release()"
   ]
  },
  {
   "cell_type": "markdown",
   "metadata": {},
   "source": [
    "Release DP counts of the other two streets."
   ]
  },
  {
   "cell_type": "code",
   "execution_count": null,
   "metadata": {},
   "outputs": [],
   "source": []
  },
  {
   "cell_type": "markdown",
   "metadata": {},
   "source": [
    "The following release counts sightings on all three streets using only one query, \n",
    "by taking advantage of parallel composition:"
   ]
  },
  {
   "cell_type": "code",
   "execution_count": 128,
   "metadata": {},
   "outputs": [
    {
     "data": {
      "text/plain": [
       "[33794, 3819, 18758]"
      ]
     },
     "execution_count": 128,
     "metadata": {},
     "output_type": "execute_result"
    }
   ],
   "source": [
    "count_query = (\n",
    "    context.query()\n",
    "    .split_dataframe(\",\", col_names=col_names)\n",
    "    .select_column(\"Street\", str)\n",
    "    .count_by_categories(street_names, null_category=False)\n",
    "    .laplace()\n",
    ")\n",
    "street_counts = count_query.release()\n",
    "street_counts"
   ]
  },
  {
   "cell_type": "markdown",
   "metadata": {},
   "source": [
    "### 5.b Distribution of Pedestrians Per-Hour\n",
    "\n",
    "Visualize how busy downtown Sydney is over the day.\n",
    "Might collecting data by first sighting skew the data?"
   ]
  },
  {
   "cell_type": "code",
   "execution_count": 129,
   "metadata": {},
   "outputs": [
    {
     "name": "stdout",
     "output_type": "stream",
     "text": [
      "[1783, 1333, 1349, 1126, 591, 239, 397, 701, 1030, 1900, 2795, 3773, 4404, 4481, 5022, 4867, 4918, 4086, 3124, 2755, 2068, 1785, 1087, 758]\n"
     ]
    }
   ],
   "source": [
    "hours = list(range(24))\n",
    "hourly_query = (\n",
    "    context.query()\n",
    "    .split_dataframe(\",\", col_names=col_names)\n",
    "    .select_column(\"Hour\", str)\n",
    "    .cast_default(int)\n",
    "    .count_by_categories(hours, null_category=False)\n",
    "    .laplace()\n",
    ")\n",
    "hourly_sightings = hourly_query.release()\n",
    "print(hourly_sightings)"
   ]
  },
  {
   "cell_type": "code",
   "execution_count": 130,
   "metadata": {},
   "outputs": [
    {
     "data": {
      "image/png": "[encoded data removed]",
      "text/plain": [
       "<Figure size 640x480 with 1 Axes>"
      ]
     },
     "metadata": {},
     "output_type": "display_data"
    }
   ],
   "source": [
    "import matplotlib.pyplot as plt\n",
    "\n",
    "\n",
    "def fmt(hour):\n",
    "    return f\"{int(hour) % 12} {'P' if int(hour) > 11 else 'A'}M\"\n",
    "\n",
    "\n",
    "plt.bar(list(map(fmt, hours)), hourly_sightings)\n",
    "plt.xticks(range(1, 25, 4))\n",
    "\n",
    "plt.xlabel(\"time\")\n",
    "plt.ylabel(\"first sightings\");"
   ]
  },
  {
   "cell_type": "markdown",
   "metadata": {},
   "source": [
    "### 5.c Park Street Ages Analysis\n",
    "\n",
    "In this exercise, you'll compute the mean and variance of ages on Park Street.\n",
    "Start preparing a query that preprocesses the data to a vector of ages.\n",
    "The query should transform the data to be bounded and have known size."
   ]
  },
  {
   "cell_type": "code",
   "execution_count": 131,
   "metadata": {},
   "outputs": [],
   "source": [
    "q_park_street_ages = (\n",
    "    context.query()\n",
    "    .split_dataframe(\",\", col_names=col_names)\n",
    "    .df_is_equal(\"Street\", \"Park Street\")\n",
    "    .subset_by(\"Street\", keep_columns=[\"Age\"])\n",
    "    .select_column(\"Age\", str)\n",
    "    .cast_default(float)\n",
    "    .clamp((0., 100.))\n",
    "    .resize(size=street_counts[0], constant=42.)\n",
    ")"
   ]
  },
  {
   "cell_type": "markdown",
   "metadata": {},
   "source": [
    "Now submit queries to find the mean and variance."
   ]
  },
  {
   "cell_type": "code",
   "execution_count": 132,
   "metadata": {},
   "outputs": [
    {
     "data": {
      "text/plain": [
       "41.597419777638024"
      ]
     },
     "execution_count": 132,
     "metadata": {},
     "output_type": "execute_result"
    }
   ],
   "source": [
    "q_park_mean_age = q_park_street_ages.mean().laplace()\n",
    "q_park_mean_age.release()"
   ]
  },
  {
   "cell_type": "code",
   "execution_count": 133,
   "metadata": {},
   "outputs": [
    {
     "data": {
      "text/plain": [
       "190.35584901347798"
      ]
     },
     "execution_count": 133,
     "metadata": {},
     "output_type": "execute_result"
    }
   ],
   "source": [
    "q_park_mean_age = q_park_street_ages.variance().laplace()\n",
    "q_park_mean_age.release()"
   ]
  },
  {
   "cell_type": "markdown",
   "metadata": {},
   "source": [
    "### 5.c Upper Quartile of Ages on Market Street\n",
    "\n",
    "Estimate the 75th percentile of the age of individuals on Market Street."
   ]
  },
  {
   "cell_type": "code",
   "execution_count": 134,
   "metadata": {},
   "outputs": [
    {
     "data": {
      "text/plain": [
       "53"
      ]
     },
     "execution_count": 134,
     "metadata": {},
     "output_type": "execute_result"
    }
   ],
   "source": [
    "quantile_query = (\n",
    "    context.query()\n",
    "    .split_dataframe(\",\", col_names=col_names)\n",
    "    .df_is_equal(\"Street\", \"Market Street\")\n",
    "    .subset_by(\"Street\", keep_columns=[\"Age\"])\n",
    "    .select_column(\"Age\", str)\n",
    "    .cast_default(int)\n",
    "    .quantile_score_candidates(list(range(100)), alpha=.75)\n",
    "    .report_noisy_max_gumbel(optimize=\"min\")\n",
    ")\n",
    "quantile_query.release()"
   ]
  },
  {
   "cell_type": "markdown",
   "metadata": {},
   "source": [
    "### 5.d Sparse Histogram of Names\n",
    "\n",
    "When dealing with data that has an unknown domain, the keys themselves are private information.\n",
    "One approach used to privately release histograms on unknown key sets is to only release keys with large counts:\n",
    "that is, only release keys that many people have contributed to, and thus remain stable across all neighboring datasets.\n",
    "Another approach, used below, is to privatize a low-dimensional projection."
   ]
  },
  {
   "cell_type": "code",
   "execution_count": 135,
   "metadata": {},
   "outputs": [],
   "source": [
    "quantile_query = (\n",
    "    context.query()\n",
    "    .split_dataframe(\",\", col_names=col_names)\n",
    "    .df_is_equal(\"Street\", \"Park Street\")\n",
    "    .subset_by(\"Street\", keep_columns=[\"First Name\"])\n",
    "    .select_column(\"First Name\", str)\n",
    "    .count_by(MO=dp.L1Distance[int])\n",
    "    .alp_queryable(scale=10.025, total_limit=sum(street_counts), value_limit=1000)\n",
    ")\n",
    "qbl = quantile_query.release()"
   ]
  },
  {
   "cell_type": "markdown",
   "metadata": {},
   "source": [
    "This mechanism releases a queryable containing a differentially private, hash-based representation of the counts of all possible names.\n",
    "\n",
    "As you would expect, the most common names have a relatively high number of observations.\n",
    "Names that you would expect to be less common have lower counts."
   ]
  },
  {
   "cell_type": "code",
   "execution_count": 136,
   "metadata": {},
   "outputs": [
    {
     "data": {
      "text/plain": [
       "(782.0448877805486, 500.74812967581045, 82.5935162094763, 0.0)"
      ]
     },
     "execution_count": 136,
     "metadata": {},
     "output_type": "execute_result"
    }
   ],
   "source": [
    "qbl(\"Michael\"), qbl(\"James\"), qbl(\"Sharon\"), qbl(\"Lancelot\")"
   ]
  },
  {
   "cell_type": "markdown",
   "metadata": {},
   "source": [
    "Lancelot would likely not be observed in the data, so you would expect the true count to be near zero."
   ]
  }
 ],
 "metadata": {
  "kernelspec": {
   "display_name": "psi",
   "language": "python",
   "name": "python3"
  },
  "language_info": {
   "codemirror_mode": {
    "name": "ipython",
    "version": 3
   },
   "file_extension": ".py",
   "mimetype": "text/x-python",
   "name": "python",
   "nbconvert_exporter": "python",
   "pygments_lexer": "ipython3",
   "version": "3.11.7"
  },
  "orig_nbformat": 4,
  "vscode": {
   "interpreter": {
    "hash": "3220da548452ac41acb293d0d6efded0f046fab635503eb911c05f743e930f34"
   }
  }
 },
 "nbformat": 4,
 "nbformat_minor": 2
}
