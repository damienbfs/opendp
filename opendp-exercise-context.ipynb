{
 "cells": [
  {
   "attachments": {},
   "cell_type": "markdown",
   "metadata": {},
   "source": [
    "# OpenDP Library Exercise\n",
    "\n",
    "Use `Shift+Enter` to execute a cell. \n",
    "Don't forget to look at the linked documentation and examples if you need help!\n",
    "\n",
    "### Install dependencies"
   ]
  },
  {
   "cell_type": "code",
   "execution_count": null,
   "metadata": {},
   "outputs": [],
   "source": [
    "%pip install opendp"
   ]
  },
  {
   "attachments": {},
   "cell_type": "markdown",
   "metadata": {},
   "source": [
    "## Exercise 1: MBTA Ridership\n",
    "\n",
    "### 1.1. Enable \"contrib\" flag. \n",
    "\n",
    "Any constructors that have not completed the proof-writing and vetting process may still be accessed if you opt-in to \"contrib\".\n",
    "Please contact us if you are interested in proof-writing. Thank you!\n",
    "\n",
    "[[Documentation]](https://github.com/opendp/opendp/discussions/304)"
   ]
  },
  {
   "cell_type": "code",
   "execution_count": null,
   "metadata": {},
   "outputs": [],
   "source": [
    "import opendp.prelude as dp\n",
    "# TODO: enable \"contrib\"\n",
    "\n",
    "# (this assertion should pass)\n",
    "assert \"contrib\" in dp.GLOBAL_FEATURES"
   ]
  },
  {
   "attachments": {},
   "cell_type": "markdown",
   "metadata": {},
   "source": [
    "### 1.2. Get the dataset\n",
    "\n",
    "Say you have an MBTA ridership dataset, where each row consists of the number of rides an individual has taken over the last month."
   ]
  },
  {
   "cell_type": "code",
   "execution_count": null,
   "metadata": {},
   "outputs": [],
   "source": [
    "# our mock dataset consists of random integers between 0 and 50\n",
    "from random import randint\n",
    "mock_dataset = [randint(0, 50) for _ in range(1_000)]"
   ]
  },
  {
   "cell_type": "markdown",
   "metadata": {},
   "source": [
    "### 1.3. Set up the Context\n",
    "\n",
    "Now construct an OpenDP context with the dataset."
   ]
  },
  {
   "cell_type": "code",
   "execution_count": null,
   "metadata": {},
   "outputs": [],
   "source": [
    "context = dp.Context.compositor(\n",
    "    data=mock_dataset,\n",
    "    # how many rows can an invididual influence in the dataset?\n",
    "    privacy_unit=dp.unit_of(contributions=\"TODO\"),\n",
    "    # what is the overall privacy spend?\n",
    "    privacy_loss=dp.loss_of(epsilon=\"TODO\"),\n",
    "    split_evenly_over=3\n",
    ")"
   ]
  },
  {
   "cell_type": "markdown",
   "metadata": {},
   "source": [
    "### 1.4 DP Count\n",
    "\n",
    "Query the context to find a DP count, estimating the number of individuals in the dataset."
   ]
  },
  {
   "cell_type": "code",
   "execution_count": null,
   "metadata": {},
   "outputs": [],
   "source": [
    "context.query().count().laplace().release()"
   ]
  },
  {
   "attachments": {},
   "cell_type": "markdown",
   "metadata": {},
   "source": [
    "### 1.5. DP Sum\n",
    "Query the context to find the DP sum."
   ]
  },
  {
   "cell_type": "code",
   "execution_count": null,
   "metadata": {},
   "outputs": [],
   "source": [
    "# what is a reasonable range of ridership?\n",
    "bounds = (\"TODO\", \"TODO\")\n",
    "\n",
    "context.query().clamp(bounds).sum().laplace().release()"
   ]
  },
  {
   "cell_type": "markdown",
   "metadata": {},
   "source": [
    "## Exercise 2: zCDP?\n",
    "\n",
    "### 2.1 Define Context"
   ]
  },
  {
   "cell_type": "code",
   "execution_count": null,
   "metadata": {},
   "outputs": [],
   "source": [
    "# Overall privacy budget is in terms of approximate DP\n",
    "context = dp.Context.compositor(\n",
    "    data=mock_dataset,\n",
    "    # how many rows can an invididual influence in the dataset?\n",
    "    privacy_unit=dp.unit_of(contributions=\"TODO\"),\n",
    "    # what is the overall privacy spend?\n",
    "    privacy_loss=dp.loss_of(epsilon=\"TODO\", delta=\"TODO\"),\n",
    "    split_evenly_over=1\n",
    ")"
   ]
  },
  {
   "cell_type": "markdown",
   "metadata": {},
   "source": [
    "### 2.2 Make a zCDP compositor\n",
    "\n",
    "Spend the budget to spawn a zCDP compositor."
   ]
  },
  {
   "cell_type": "code",
   "execution_count": null,
   "metadata": {},
   "outputs": [],
   "source": [
    "# but internally operates under zCDP\n",
    "zCDP_context = context.query().compositor(\n",
    "    split_evenly_over=2,\n",
    "    output_measure=dp.zero_concentrated_divergence(T=float)\n",
    ").release()"
   ]
  },
  {
   "cell_type": "markdown",
   "metadata": {},
   "source": [
    "### 2.3 Submit queries under zCDP\n",
    "\n",
    "Now that you have a context under zCDP, submit some queries!\n",
    "HINT: Use `.gaussian` instead of `.laplace`."
   ]
  },
  {
   "cell_type": "code",
   "execution_count": null,
   "metadata": {},
   "outputs": [],
   "source": [
    "\"TODO\""
   ]
  }
 ],
 "metadata": {
  "kernelspec": {
   "display_name": "psi",
   "language": "python",
   "name": "python3"
  },
  "language_info": {
   "codemirror_mode": {
    "name": "ipython",
    "version": 3
   },
   "file_extension": ".py",
   "mimetype": "text/x-python",
   "name": "python",
   "nbconvert_exporter": "python",
   "pygments_lexer": "ipython3",
   "version": "3.11.3"
  },
  "orig_nbformat": 4,
  "vscode": {
   "interpreter": {
    "hash": "3220da548452ac41acb293d0d6efded0f046fab635503eb911c05f743e930f34"
   }
  }
 },
 "nbformat": 4,
 "nbformat_minor": 2
}
