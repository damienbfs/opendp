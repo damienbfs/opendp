{
 "cells": [
  {
   "attachments": {},
   "cell_type": "markdown",
   "metadata": {},
   "source": [
    "# OpenDP Library Audience Exercise\n",
    "\n",
    "Welcome to PPAI-23!\n"
   ]
  },
  {
   "attachments": {},
   "cell_type": "markdown",
   "metadata": {},
   "source": [
    "## 1. Enable \"contrib\" flag. \n",
    "\n",
    "Any constructors that have not completed the proof-writing and vetting process may still be accessed if you opt-in to \"contrib\".\n",
    "Please contact us if you are interested in proof-writing. Thank you!\n",
    "\n",
    "[[Documentation]](https://github.com/opendp/opendp/discussions/304)"
   ]
  },
  {
   "cell_type": "code",
   "execution_count": null,
   "metadata": {},
   "outputs": [],
   "source": []
  },
  {
   "attachments": {},
   "cell_type": "markdown",
   "metadata": {},
   "source": [
    "## 2. Load data from a CSV\n",
    "\n",
    "Construct a transformation that loads data from a CSV and select a column.\n",
    "\n",
    "[[Documentation]](https://docs.opendp.org/en/stable/user/transformations.html#dataframe)"
   ]
  },
  {
   "cell_type": "code",
   "execution_count": 8,
   "metadata": {},
   "outputs": [],
   "source": [
    "# download a test dataset\n",
    "pums_path = \"pums_1000.csv\"\n",
    "\n",
    "def download_pums_data():\n",
    "    import os, requests\n",
    "    pums_url = \"https://raw.githubusercontent.com/opendp/dp-test-datasets/master/data/PUMS_california_demographics_1000/data.csv\"\n",
    "    if not os.path.exists(pums_path):\n",
    "        open(pums_path, \"wb\").write(requests.get(pums_url).content)    \n",
    "\n",
    "download_pums_data()"
   ]
  },
  {
   "cell_type": "code",
   "execution_count": 9,
   "metadata": {},
   "outputs": [],
   "source": [
    "csv_loader_trans = \"TODO\"\n",
    "\n",
    "# you should be able to pass data through and get a vector of strings\n",
    "# csv_loader_trans(open(pums_path))"
   ]
  },
  {
   "attachments": {},
   "cell_type": "markdown",
   "metadata": {},
   "source": [
    "## 3. Data Preprocessing\n",
    "\n",
    "Extend your transformation to cast the data to a vector of floating-point numbers, \n",
    "and then clamp the data.\n",
    "\n",
    "[[Casting Documentation]](https://docs.opendp.org/en/stable/user/transformations.html#casting)\n",
    "[[Clamping Documentation]](https://docs.opendp.org/en/stable/user/transformations.html#clamping)"
   ]
  },
  {
   "cell_type": "code",
   "execution_count": 10,
   "metadata": {},
   "outputs": [],
   "source": [
    "bounded_data_trans = \"TODO\"\n",
    "\n",
    "# bounded_data_trans([1., 2., 3.])\n",
    "\n",
    "# chain the two transformations you've made!\n",
    "# csv_loader_trans >> bounded_data_trans"
   ]
  },
  {
   "attachments": {},
   "cell_type": "markdown",
   "metadata": {},
   "source": [
    "## 4. Construct a non-DP Sum Transformation\n",
    "\n",
    "[[Documentation]](https://docs.opendp.org/en/stable/user/transformations.html#aggregators)"
   ]
  },
  {
   "cell_type": "code",
   "execution_count": 11,
   "metadata": {},
   "outputs": [],
   "source": [
    "bounded_sum_trans = \"TODO\""
   ]
  },
  {
   "attachments": {},
   "cell_type": "markdown",
   "metadata": {},
   "source": [
    "## 5. Apply a Differentially Private Mechanism\n",
    "Extend the exact sum with a measurement, to privatize the result.\n",
    "\n",
    "[[Documentation]](https://docs.opendp.org/en/stable/user/measurements/additive-noise-mechanisms.html)\n"
   ]
  },
  {
   "cell_type": "code",
   "execution_count": 12,
   "metadata": {},
   "outputs": [],
   "source": [
    "dp_sum_meas = \"TODO\"\n",
    "\n",
    "# you should be able to pass in a bound on contributions and get back an ε\n",
    "dp_sum_meas.map(1)"
   ]
  }
 ],
 "metadata": {
  "kernelspec": {
   "display_name": "psi",
   "language": "python",
   "name": "python3"
  },
  "language_info": {
   "codemirror_mode": {
    "name": "ipython",
    "version": 3
   },
   "file_extension": ".py",
   "mimetype": "text/x-python",
   "name": "python",
   "nbconvert_exporter": "python",
   "pygments_lexer": "ipython3",
   "version": "3.8.13"
  },
  "orig_nbformat": 4,
  "vscode": {
   "interpreter": {
    "hash": "3220da548452ac41acb293d0d6efded0f046fab635503eb911c05f743e930f34"
   }
  }
 },
 "nbformat": 4,
 "nbformat_minor": 2
}
