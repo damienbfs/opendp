{
 "cells": [
  {
   "attachments": {},
   "cell_type": "markdown",
   "metadata": {},
   "source": [
    "# OpenDP Library Audience Exercise\n",
    "\n",
    "Welcome to PPAI-23!\n"
   ]
  },
  {
   "attachments": {},
   "cell_type": "markdown",
   "metadata": {},
   "source": [
    "## Exercise 1: DP Sum\n",
    "\n",
    "### 1.1. Enable \"contrib\" flag. \n",
    "\n",
    "Any constructors that have not completed the proof-writing and vetting process may still be accessed if you opt-in to \"contrib\".\n",
    "Please contact us if you are interested in proof-writing. Thank you!\n",
    "\n",
    "[[Documentation]](https://github.com/opendp/opendp/discussions/304)"
   ]
  },
  {
   "attachments": {},
   "cell_type": "markdown",
   "metadata": {},
   "source": [
    "### 1.2. Data Preprocessing\n",
    "\n",
    "Write a transformation to cast the data to a vector of floating-point numbers, \n",
    "and then clamp the data.\n",
    "\n",
    "[[Example]](https://docs.opendp.org/en/stable/user/getting-started.html#Transformation-Example:-Clamp)"
   ]
  },
  {
   "cell_type": "code",
   "execution_count": 6,
   "metadata": {},
   "outputs": [],
   "source": [
    "from opendp.transformations import make_cast_default, make_clamp\n",
    "\n",
    "mock_dataset = [\"1.\", \"2.\", \"3.\"]\n",
    "caster = make_cast_default(str, int)\n",
    "\n",
    "# set bounds to be used for the rest of our computation:\n",
    "bounds = (\"TODO\", \"TODO\")\n",
    "\n",
    "# construct a clamper!\n",
    "clamper = \"TODO\"\n",
    "\n",
    "# chain the caster and clamper together!\n",
    "bounded_data_trans = \"TODO\"\n",
    "\n",
    "# bounded_data_trans(mock_dataset)"
   ]
  },
  {
   "attachments": {},
   "cell_type": "markdown",
   "metadata": {},
   "source": [
    "## 1.3. Construct a non-DP Sum Transformation\n",
    "\n",
    "This sum transformation should be able to chain with the clamp transformation in the previous section.\n",
    "\n",
    "[[Documentation]](https://docs.opendp.org/en/stable/user/getting-started.html#Transformation-Example:-Sum)"
   ]
  },
  {
   "cell_type": "code",
   "execution_count": 7,
   "metadata": {},
   "outputs": [],
   "source": [
    "from opendp.transformations import make_bounded_sum\n",
    "\n",
    "sum_trans = \"TODO\"\n",
    "\n",
    "# chain the two transformations you've made!\n",
    "# bounded_sum_trans = bounded_data_trans >> sum_trans"
   ]
  },
  {
   "attachments": {},
   "cell_type": "markdown",
   "metadata": {},
   "source": [
    "## 1.5. Apply a Differentially Private Mechanism\n",
    "Build a DP Sum measurement by chaining the exact sum with a laplace noise measurement.\n",
    "\n",
    "[[Documentation]](https://docs.opendp.org/en/stable/user/getting-started.html#The-Laplace-Mechanism)"
   ]
  },
  {
   "cell_type": "code",
   "execution_count": 8,
   "metadata": {},
   "outputs": [],
   "source": [
    "from opendp.measurements import make_base_laplace\n",
    "\n",
    "base_laplace = \"TODO\"\n",
    "\n",
    "# chain the bounded sum transformation\n",
    "dp_sum_meas = \"TODO\"\n",
    "\n",
    "# if you use laplace noise, you should be able to pass in a bound on contributions and get back an ε\n",
    "# dp_sum_meas.map(1)"
   ]
  },
  {
   "attachments": {},
   "cell_type": "markdown",
   "metadata": {},
   "source": [
    "## Exercise 2: Privatizing a Poll\n",
    "This code snip downloads a dataset that we'll use for this exercise. Don't forget to comment out the lines indicated by the `TODO`!"
   ]
  },
  {
   "cell_type": "code",
   "execution_count": 1,
   "metadata": {},
   "outputs": [],
   "source": [
    "# download a dataset\n",
    "dataset_url = \"https://raw.githubusercontent.com/opendp/dp-test-datasets/main/poll_data.csv\"\n",
    "dataset_path = \"poll_data.csv\"\n",
    "\n",
    "# TODO: comment these lines to use the poll data instead\n",
    "dataset_url = \"https://raw.githubusercontent.com/opendp/dp-test-datasets/master/data/PUMS_california_demographics_1000/data.csv\"\n",
    "dataset_path = \"pums_1000.csv\"\n",
    "\n",
    "# download the data\n",
    "import os, requests\n",
    "if not os.path.exists(dataset_path):\n",
    "    open(dataset_path, \"wb\").write(requests.get(dataset_url).content)    \n",
    "\n",
    "csv_dataset = open(dataset_path).read()"
   ]
  },
  {
   "attachments": {},
   "cell_type": "markdown",
   "metadata": {},
   "source": [
    "### 2.1. Load data from a CSV\n",
    "\n",
    "Construct a transformation that loads data from a CSV and selects a column.\n",
    "\n",
    "[[Documentation]](https://docs.opendp.org/en/stable/user/transformations.html#dataframe)"
   ]
  },
  {
   "cell_type": "code",
   "execution_count": 10,
   "metadata": {},
   "outputs": [],
   "source": [
    "from opendp.transformations import make_split_dataframe, make_select_column\n",
    "\n",
    "# TODO: replace the column names with the names from your dataset\n",
    "col_names = [\"age\", \"sex\", \"educ\", \"race\", \"income\", \"married\"]\n",
    "df_loader = make_split_dataframe(\",\", col_names=col_names)\n",
    "\n",
    "# TODO: replace \"age\" with the column of interest\n",
    "column_selector = make_select_column(\"age\", TOA=str)\n",
    "\n",
    "# chain the transformations together!\n",
    "csv_loader_trans = \"TODO\"\n",
    "\n",
    "# you should be able to pass data through and get a vector of strings\n",
    "# csv_loader_trans(csv_dataset)"
   ]
  },
  {
   "attachments": {},
   "cell_type": "markdown",
   "metadata": {},
   "source": [
    "### 2.2. Compute non-DP Histogram\n",
    "Look for `make_count_by_categories`: \n",
    "\n",
    "[[Documentation]](https://docs.opendp.org/en/stable/user/transformations.html#aggregators)\n"
   ]
  },
  {
   "cell_type": "code",
   "execution_count": 12,
   "metadata": {},
   "outputs": [],
   "source": [
    "from opendp.transformations import make_count_by_categories\n",
    "categories = [\"North America\", \"South America\", \"Asia\", \"Europe\", \"Africa\", \"Australia\"]\n",
    "histogram_trans = \"TODO\"\n",
    "\n",
    "# TODO: This assertion should pass:\n",
    "# assert histogram_trans([\"North America\"] * 2 + [\"South America\"]) == [2, 1, 0, 0, 0, 0, 0]"
   ]
  },
  {
   "attachments": {},
   "cell_type": "markdown",
   "metadata": {},
   "source": [
    "### 2.3. Apply a Differentially Private Mechanism\n",
    "\n",
    "The additive noise notebook explains how to add vector-valued noise:\n",
    "[[Documentation]](https://docs.opendp.org/en/stable/user/measurements/additive-noise-mechanisms.html#Domain:-Scalar-vs.%C2%A0Vector)"
   ]
  },
  {
   "cell_type": "code",
   "execution_count": null,
   "metadata": {},
   "outputs": [],
   "source": [
    "base_vector_laplace = \"TODO\"\n",
    "\n",
    "# chain the csv_loader_trans, histogram_trans and vector laplace mechanism, like usual:\n",
    "dp_histogram = \"TODO\"\n",
    "\n",
    "# dp_histogram(csv_dataset)\n",
    "# dp_histogram.map(1)"
   ]
  },
  {
   "attachments": {},
   "cell_type": "markdown",
   "metadata": {},
   "source": [
    "## Exercise 3: Combinators\n",
    "\n",
    "### 3.1. Non-Interactive Composition\n",
    "\n",
    "More than one measurement can be composed together into a single measurement:\n",
    "[[Documentation]](https://docs.opendp.org/en/stable/user/combinators.html#composition)\n",
    "\n",
    "You can reuse measurements we've previously constructed as arguments to the basic composition combinator."
   ]
  },
  {
   "cell_type": "code",
   "execution_count": null,
   "metadata": {},
   "outputs": [],
   "source": [
    "from opendp.combinators import make_basic_composition\n",
    "\n",
    "basic_composition_meas = \"TODO\"\n",
    "\n",
    "# basic_composition_meas(csv_dataset)"
   ]
  },
  {
   "attachments": {},
   "cell_type": "markdown",
   "metadata": {},
   "source": [
    "### 3.2. Measure Casting\n",
    "\n",
    "You can use a measure-cast combinator to wrap a measurement in a new measurement that gives a privacy guarantee under a different definition of privacy.\n",
    "\n",
    "[[Documentation]](https://docs.opendp.org/en/stable/user/combinators.html#measure-casting)\n",
    "\n",
    "The Gaussian measurement gives a guarantee in terms of zero-Concentrated Differential Privacy.\n",
    "Can you write the equivalent measurement in terms of ε(δ)-DP?"
   ]
  },
  {
   "cell_type": "code",
   "execution_count": null,
   "metadata": {},
   "outputs": [],
   "source": [
    "from opendp.measurements import make_base_gaussian\n",
    "base_zCDP_gaussian = \"TODO\"\n",
    "\n",
    "from opendp.combinators import make_zCDP_to_approxDP\n",
    "base_approxDP_gaussian = \"TODO\""
   ]
  },
  {
   "attachments": {},
   "cell_type": "markdown",
   "metadata": {},
   "source": [
    "Can you determine $\\epsilon$ when $scale = 4.$, $\\delta = 1e-7$ and $\\Delta = 0.5$?"
   ]
  },
  {
   "cell_type": "code",
   "execution_count": null,
   "metadata": {},
   "outputs": [],
   "source": [
    "# epsilon_curve = base_approxDP_gaussian.map(d_in=0.5)"
   ]
  },
  {
   "attachments": {},
   "cell_type": "markdown",
   "metadata": {},
   "source": [
    "### 3.3 User-Defined Callbacks\n",
    "\n",
    "The OpenDP Library can incorporate measurements defined in other libraries.\n",
    "In this exercise, your own measurement that wraps a mechanism in PyDP.\n",
    "\n",
    "This code snip uses [PyDP](https://github.com/OpenMined/PyDP) to release a DP Count:"
   ]
  },
  {
   "cell_type": "code",
   "execution_count": null,
   "metadata": {},
   "outputs": [
    {
     "data": {
      "text/plain": [
       "9"
      ]
     },
     "execution_count": 61,
     "metadata": {},
     "output_type": "execute_result"
    }
   ],
   "source": [
    "# import the Count algorithm from py-DP\n",
    "from pydp.algorithms.laplacian import Count\n",
    "\n",
    "x = Count(0.6)\n",
    "\n",
    "x.quick_result(list(range(10)))"
   ]
  },
  {
   "attachments": {},
   "cell_type": "markdown",
   "metadata": {},
   "source": [
    "Use the documentation provided here to wrap the this primitive from PyDP in a measurement:\n",
    "[[Documentation]](https://docs.opendp.org/en/stable/user/combinators.html#user-defined-callbacks)"
   ]
  },
  {
   "cell_type": "code",
   "execution_count": null,
   "metadata": {},
   "outputs": [],
   "source": [
    "from opendp.typing import *\n",
    "from opendp.combinators import make_default_user_measurement"
   ]
  },
  {
   "cell_type": "code",
   "execution_count": null,
   "metadata": {},
   "outputs": [
    {
     "data": {
      "text/plain": [
       "2"
      ]
     },
     "execution_count": 65,
     "metadata": {},
     "output_type": "execute_result"
    }
   ],
   "source": [
    "from opendp.mod import enable_features\n",
    "enable_features(\"honest-but-curious\")\n",
    "\n",
    "\n",
    "def pyDP_count(epsilon):\n",
    "\n",
    "    from pydp.algorithms.laplacian import Count\n",
    "    x = Count(0.6)\n",
    "\n",
    "    def function(data):\n",
    "        return \"TODO\"\n",
    "\n",
    "    def privacy_map(d_in):\n",
    "        return \"TODO\"\n",
    "\n",
    "    return make_default_user_measurement(\n",
    "        function,\n",
    "        privacy_map,\n",
    "        DI=VectorDomain[AllDomain[i32]],\n",
    "        DO=AllDomain[i32],\n",
    "        MI=SymmetricDistance,\n",
    "        MO=MaxDivergence[f64]\n",
    "    )\n",
    "\n",
    "\n",
    "meas = pyDP_count(epsilon=1.)\n",
    "\n",
    "meas([1, 2, 3])"
   ]
  }
 ],
 "metadata": {
  "kernelspec": {
   "display_name": "psi",
   "language": "python",
   "name": "python3"
  },
  "language_info": {
   "codemirror_mode": {
    "name": "ipython",
    "version": 3
   },
   "file_extension": ".py",
   "mimetype": "text/x-python",
   "name": "python",
   "nbconvert_exporter": "python",
   "pygments_lexer": "ipython3",
   "version": "3.8.13"
  },
  "orig_nbformat": 4,
  "vscode": {
   "interpreter": {
    "hash": "3220da548452ac41acb293d0d6efded0f046fab635503eb911c05f743e930f34"
   }
  }
 },
 "nbformat": 4,
 "nbformat_minor": 2
}
