{
 "cells": [
  {
   "attachments": {},
   "cell_type": "markdown",
   "metadata": {},
   "source": [
    "# OpenDP Library Audience Exercise\n",
    "\n",
    "Welcome to PPAI-23!\n"
   ]
  },
  {
   "attachments": {},
   "cell_type": "markdown",
   "metadata": {},
   "source": [
    "## Exercise 1: DP Sum\n",
    "\n",
    "### 1.1. Enable \"contrib\" flag. \n",
    "\n",
    "Any constructors that have not completed the proof-writing and vetting process may still be accessed if you opt-in to \"contrib\".\n",
    "Please contact us if you are interested in proof-writing. Thank you!\n",
    "\n",
    "[[Documentation]](https://github.com/opendp/opendp/discussions/304)"
   ]
  },
  {
   "attachments": {},
   "cell_type": "markdown",
   "metadata": {},
   "source": [
    "### 1.2. Data Preprocessing\n",
    "\n",
    "Extend your transformation to cast the data to a vector of floating-point numbers, \n",
    "and then clamp the data.\n",
    "\n",
    "[[Casting Documentation]](https://docs.opendp.org/en/stable/user/transformations.html#casting)\n",
    "[[Clamping Documentation]](https://docs.opendp.org/en/stable/user/transformations.html#clamping)"
   ]
  },
  {
   "cell_type": "code",
   "execution_count": 52,
   "metadata": {},
   "outputs": [],
   "source": [
    "mock_dataset = [1., 2., 3.]\n",
    "bounded_data_trans = \"TODO\"\n",
    "\n",
    "# bounded_data_trans(mock_dataset)"
   ]
  },
  {
   "attachments": {},
   "cell_type": "markdown",
   "metadata": {},
   "source": [
    "## 1.3. Construct a non-DP Sum Transformation\n",
    "\n",
    "[[Documentation]](https://docs.opendp.org/en/stable/user/transformations.html#aggregators)"
   ]
  },
  {
   "cell_type": "code",
   "execution_count": 53,
   "metadata": {},
   "outputs": [],
   "source": [
    "bounded_sum_trans = \"TODO\"\n",
    "\n",
    "# chain the two transformations you've made!\n",
    "# bounded_data_trans >> bounded_sum_trans"
   ]
  },
  {
   "attachments": {},
   "cell_type": "markdown",
   "metadata": {},
   "source": [
    "## 1.5. Apply a Differentially Private Mechanism\n",
    "Extend the exact sum with a measurement, to privatize the result.\n",
    "\n",
    "[[Documentation]](https://docs.opendp.org/en/stable/user/measurements/additive-noise-mechanisms.html)\n"
   ]
  },
  {
   "cell_type": "code",
   "execution_count": 54,
   "metadata": {},
   "outputs": [],
   "source": [
    "dp_sum_meas = \"TODO\"\n",
    "\n",
    "# if you use laplace noise, you should be able to pass in a bound on contributions and get back an ε\n",
    "# dp_sum_meas.map(1)"
   ]
  },
  {
   "attachments": {},
   "cell_type": "markdown",
   "metadata": {},
   "source": [
    "## Exercise 2: Strawpoll Histogram\n",
    "\n",
    "### 2.1. Load data from a CSV\n",
    "\n",
    "Construct a transformation that loads data from a CSV and select a column.\n",
    "\n",
    "[[Documentation]](https://docs.opendp.org/en/stable/user/transformations.html#dataframe)\n"
   ]
  },
  {
   "cell_type": "code",
   "execution_count": 55,
   "metadata": {},
   "outputs": [],
   "source": [
    "# download a dataset\n",
    "dataset_url = \"https://raw.githubusercontent.com/opendp/dp-test-datasets/master/data/PUMS_california_demographics_1000/data.csv\"\n",
    "dataset_path = \"pums_1000.csv\"\n",
    "\n",
    "def download_pums_data():\n",
    "    import os, requests\n",
    "    if not os.path.exists(dataset_path):\n",
    "        open(dataset_path, \"wb\").write(requests.get(dataset_url).content)    \n",
    "\n",
    "download_pums_data()\n",
    "\n",
    "dataset = open(dataset_path).read()"
   ]
  },
  {
   "cell_type": "code",
   "execution_count": 56,
   "metadata": {},
   "outputs": [],
   "source": [
    "csv_loader_trans = \"TODO\"\n",
    "\n",
    "# you should be able to pass data through and get a vector of strings\n",
    "# csv_loader_trans(csv_dataset)"
   ]
  },
  {
   "attachments": {},
   "cell_type": "markdown",
   "metadata": {},
   "source": [
    "### 2.2. Compute non-DP Histogram\n",
    "Look for `make_count_by_categories`: \n",
    "[[Documentation]](https://docs.opendp.org/en/stable/user/transformations.html#aggregators)\n"
   ]
  },
  {
   "cell_type": "code",
   "execution_count": 57,
   "metadata": {},
   "outputs": [],
   "source": [
    "histogram_trans = \"TODO\""
   ]
  },
  {
   "attachments": {},
   "cell_type": "markdown",
   "metadata": {},
   "source": [
    "### 2.3. Apply a Differentially Private Mechanism\n",
    "\n",
    "The additive noise notebook explains how to add vector-valued noise:\n",
    "[[Documentation]](https://docs.opendp.org/en/stable/user/measurements/additive-noise-mechanisms.html#Domain:-Scalar-vs.%C2%A0Vector)"
   ]
  },
  {
   "cell_type": "code",
   "execution_count": 58,
   "metadata": {},
   "outputs": [],
   "source": [
    "dp_histogram_meas = \"TODO\"\n",
    "\n",
    "# dp_histogram_meas.map(1)"
   ]
  },
  {
   "attachments": {},
   "cell_type": "markdown",
   "metadata": {},
   "source": [
    "## Exercise 3: Combinators\n",
    "\n",
    "### 3.1. Non-Interactive Composition\n",
    "\n",
    "More than one measurement can be composed together into a single measurement:\n",
    "[[Documentation]](https://docs.opendp.org/en/stable/user/combinators.html#composition)\n",
    "\n",
    "You can pass a measurement from a previous exercise into the basic composition combinator."
   ]
  },
  {
   "cell_type": "code",
   "execution_count": 59,
   "metadata": {},
   "outputs": [],
   "source": [
    "basic_composition_meas = \"TODO\"\n",
    "\n",
    "# basic_composition_meas(csv_dataset)"
   ]
  },
  {
   "attachments": {},
   "cell_type": "markdown",
   "metadata": {},
   "source": [
    "### 3.2. Measure Casting\n",
    "\n",
    "You can use a measure-cast combinator to wrap a measurement in a new measurement that gives a privacy guarantee under a different definition of privacy.\n",
    "\n",
    "[[Documentation]](https://docs.opendp.org/en/stable/user/combinators.html#measure-casting)\n",
    "\n",
    "The Gaussian measurement gives a guarantee in terms of zero-Concentrated Differential Privacy.\n",
    "Can you write the equivalent measurement in terms of ε(δ)-DP?"
   ]
  },
  {
   "cell_type": "code",
   "execution_count": 60,
   "metadata": {},
   "outputs": [],
   "source": [
    "from opendp.measurements import make_base_gaussian\n",
    "\n",
    "# base_gaussian = make_base_gaussian(1.)"
   ]
  },
  {
   "attachments": {},
   "cell_type": "markdown",
   "metadata": {},
   "source": [
    "### 3.3 User-Defined Callbacks\n",
    "\n",
    "The OpenDP Library can incorporate measurements defined in other libraries.\n",
    "In this exercise, your own measurement that wraps a mechanism in PyDP.\n",
    "\n",
    "This code snip uses [PyDP](https://github.com/OpenMined/PyDP) to release a DP Count:"
   ]
  },
  {
   "cell_type": "code",
   "execution_count": 61,
   "metadata": {},
   "outputs": [
    {
     "data": {
      "text/plain": [
       "9"
      ]
     },
     "execution_count": 61,
     "metadata": {},
     "output_type": "execute_result"
    }
   ],
   "source": [
    "# Import the Count algorithm\n",
    "from pydp.algorithms.laplacian import Count\n",
    "\n",
    "x = Count(0.6)\n",
    "\n",
    "x.quick_result(list(range(10)))"
   ]
  },
  {
   "attachments": {},
   "cell_type": "markdown",
   "metadata": {},
   "source": [
    "Use the documentation provided here to wrap the this primitive from PyDP in a measurement:\n",
    "[[Documentation]](https://docs.opendp.org/en/stable/user/combinators.html#user-defined-callbacks)"
   ]
  },
  {
   "cell_type": "code",
   "execution_count": 62,
   "metadata": {},
   "outputs": [],
   "source": [
    "from opendp.typing import *\n",
    "from opendp.combinators import make_default_user_measurement"
   ]
  }
 ],
 "metadata": {
  "kernelspec": {
   "display_name": "psi",
   "language": "python",
   "name": "python3"
  },
  "language_info": {
   "codemirror_mode": {
    "name": "ipython",
    "version": 3
   },
   "file_extension": ".py",
   "mimetype": "text/x-python",
   "name": "python",
   "nbconvert_exporter": "python",
   "pygments_lexer": "ipython3",
   "version": "3.8.13"
  },
  "orig_nbformat": 4,
  "vscode": {
   "interpreter": {
    "hash": "3220da548452ac41acb293d0d6efded0f046fab635503eb911c05f743e930f34"
   }
  }
 },
 "nbformat": 4,
 "nbformat_minor": 2
}
