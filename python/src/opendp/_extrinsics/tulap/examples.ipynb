{
 "cells": [
  {
   "cell_type": "markdown",
   "metadata": {},
   "source": [
    "# Tulap Mechanism"
   ]
  },
  {
   "cell_type": "markdown",
   "metadata": {},
   "source": []
  },
  {
   "cell_type": "code",
   "execution_count": 2,
   "metadata": {},
   "outputs": [
    {
     "name": "stdout",
     "output_type": "stream",
     "text": [
      "Collecting opendp\n",
      "  Downloading opendp-0.9.2-py3-none-any.whl.metadata (5.0 kB)\n",
      "Downloading opendp-0.9.2-py3-none-any.whl (35.9 MB)\n",
      "\u001b[2K   \u001b[90m━━━━━━━━━━━━━━━━━━━━━━━━━━━━━━━━━━━━━━━━\u001b[0m \u001b[32m35.9/35.9 MB\u001b[0m \u001b[31m39.0 MB/s\u001b[0m eta \u001b[36m0:00:00\u001b[0m00:01\u001b[0m00:01\u001b[0m\n",
      "\u001b[?25hInstalling collected packages: opendp\n",
      "Successfully installed opendp-0.9.2\n",
      "\n",
      "\u001b[1m[\u001b[0m\u001b[34;49mnotice\u001b[0m\u001b[1;39;49m]\u001b[0m\u001b[39;49m A new release of pip is available: \u001b[0m\u001b[31;49m23.3.1\u001b[0m\u001b[39;49m -> \u001b[0m\u001b[32;49m24.0\u001b[0m\n",
      "\u001b[1m[\u001b[0m\u001b[34;49mnotice\u001b[0m\u001b[1;39;49m]\u001b[0m\u001b[39;49m To update, run: \u001b[0m\u001b[32;49mpython3.10 -m pip install --upgrade pip\u001b[0m\n",
      "Note: you may need to restart the kernel to use updated packages.\n"
     ]
    }
   ],
   "source": [
    "pip install opendp\n"
   ]
  },
  {
   "cell_type": "code",
   "execution_count": 5,
   "metadata": {},
   "outputs": [],
   "source": [
    "import numpy as np\n",
    "import scipy.optimize\n",
    "from scipy.stats import binom\n",
    "import math\n",
    "from postprocessors import \n",
    "import opendp.prelude as dp\n",
    "dp.enable_features(\"contrib\")"
   ]
  },
  {
   "cell_type": "code",
   "execution_count": 8,
   "metadata": {},
   "outputs": [],
   "source": [
    "# binomial data\n",
    "import numpy as np\n",
    "\n",
    "\n",
    "reps = 10  \n",
    "n = 10      \n",
    "truth = 0.5 \n",
    "\n",
    "\n",
    "X = np.random.binomial(n, truth, reps)\n"
   ]
  },
  {
   "cell_type": "code",
   "execution_count": 10,
   "metadata": {},
   "outputs": [],
   "source": [
    "\n",
    "ump_result = binomial_tulap.ump_test(alpha, tail)\n",
    "print(\"UMP Test Result:\", ump_result)"
   ]
  },
  {
   "cell_type": "code",
   "execution_count": null,
   "metadata": {},
   "outputs": [],
   "source": []
  },
  {
   "cell_type": "code",
   "execution_count": 11,
   "metadata": {},
   "outputs": [],
   "source": [
    "from opendp.mod import enable_features\n",
    "enable_features(\"contrib\")"
   ]
  },
  {
   "cell_type": "code",
   "execution_count": 12,
   "metadata": {},
   "outputs": [],
   "source": [
    "from opendp.transformations import make_split_dataframe, make_select_column"
   ]
  },
  {
   "cell_type": "code",
   "execution_count": null,
   "metadata": {},
   "outputs": [],
   "source": [
    "from opendp.transformations import make_split_dataframe, make_select_column\n",
    "age_trans = (\n",
    "    make_split_dataframe(separator=\",\", col_names=metadata[\"column_names\"]) >>\n",
    "    make_select_column(\"age\", str)\n",
    ")"
   ]
  },
  {
   "cell_type": "code",
   "execution_count": null,
   "metadata": {},
   "outputs": [],
   "source": [
    "epsilon = 1\n",
    "delta = 0.01\n",
    "theta = 0.5  \n",
    "size = len(data)\n",
    "alpha = 0.05\n",
    "tail = \"left\"\n",
    "\n",
    "\n",
    "binomial_tulap = Tulap(data, epsilon, delta, theta, size)\n",
    "\n",
    "\n",
    "ump_result = binomial_tulap.ump_test(alpha, tail)\n",
    "print(\"UMP Test Result:\", ump_result)"
   ]
  },
  {
   "cell_type": "code",
   "execution_count": null,
   "metadata": {},
   "outputs": [],
   "source": [
    "# Compute a two-sided confidence interval\n",
    "ci_twoside_result = binomial_tulap.CI(alpha)\n",
    "print(\"Two-sided Confidence Interval:\", ci_twoside_result)\n",
    "\n",
    "# Compute a one-sided confidence interval (lower)\n",
    "ci_oneside_lower_result = binomial_tulap.CI(alpha, \"lower\")\n",
    "print(\"One-sided (Lower) Confidence Interval:\", ci_oneside_lower_result)"
   ]
  },
  {
   "cell_type": "code",
   "execution_count": null,
   "metadata": {},
   "outputs": [],
   "source": [
    "# Calculate a two-sided p-value\n",
    "p_value_twoside = binomial_tulap.p_value()\n",
    "print(\"Two-sided P-value:\", p_value_twoside)\n",
    "\n",
    "# Calculate a one-sided p-value (left tail)\n",
    "p_value_oneside_left = binomial_tulap.p_value(\"left\")\n",
    "print(\"One-sided (Left) P-value:\", p_value_oneside_left)\n"
   ]
  }
 ],
 "metadata": {
  "kernelspec": {
   "display_name": "Python 3",
   "language": "python",
   "name": "python3"
  },
  "language_info": {
   "codemirror_mode": {
    "name": "ipython",
    "version": 3
   },
   "file_extension": ".py",
   "mimetype": "text/x-python",
   "name": "python",
   "nbconvert_exporter": "python",
   "pygments_lexer": "ipython3",
   "version": "3.10.13"
  },
  "orig_nbformat": 4
 },
 "nbformat": 4,
 "nbformat_minor": 2
}
