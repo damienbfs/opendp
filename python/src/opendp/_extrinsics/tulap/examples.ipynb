{
 "cells": [
  {
   "cell_type": "markdown",
   "metadata": {},
   "source": [
    "# Tulap Mechanism"
   ]
  },
  {
   "cell_type": "markdown",
   "metadata": {},
   "source": []
  },
  {
   "cell_type": "code",
   "execution_count": 1,
   "metadata": {},
   "outputs": [
    {
     "name": "stdout",
     "output_type": "stream",
     "text": [
      "Requirement already satisfied: opendp in /opt/homebrew/lib/python3.10/site-packages (0.9.2)\n",
      "\n",
      "\u001b[1m[\u001b[0m\u001b[34;49mnotice\u001b[0m\u001b[1;39;49m]\u001b[0m\u001b[39;49m A new release of pip is available: \u001b[0m\u001b[31;49m23.3.1\u001b[0m\u001b[39;49m -> \u001b[0m\u001b[32;49m24.0\u001b[0m\n",
      "\u001b[1m[\u001b[0m\u001b[34;49mnotice\u001b[0m\u001b[1;39;49m]\u001b[0m\u001b[39;49m To update, run: \u001b[0m\u001b[32;49mpython3.10 -m pip install --upgrade pip\u001b[0m\n",
      "Note: you may need to restart the kernel to use updated packages.\n"
     ]
    }
   ],
   "source": [
    "pip install opendp"
   ]
  },
  {
   "cell_type": "code",
   "execution_count": 2,
   "metadata": {},
   "outputs": [],
   "source": [
    "import numpy as np\n",
    "import scipy.optimize\n",
    "from scipy.stats import binom\n",
    "import math\n",
    "import pandas as pd\n",
    "import scipy.optimize\n",
    "from postprocessors import Tulap\n",
    "import opendp.prelude as dp\n",
    "from opendp.transformations import make_split_dataframe, make_select_column\n",
    "dp.enable_features(\"contrib\")\n"
   ]
  },
  {
   "cell_type": "markdown",
   "metadata": {},
   "source": [
    "In this example we will use the California demographics data. Here we get the data from the URL below: \n",
    "We see that the age, sex, education, race, income and whether an individual is married or not is captured."
   ]
  },
  {
   "cell_type": "code",
   "execution_count": 3,
   "metadata": {},
   "outputs": [
    {
     "data": {
      "text/html": [
       "<div>\n",
       "<style scoped>\n",
       "    .dataframe tbody tr th:only-of-type {\n",
       "        vertical-align: middle;\n",
       "    }\n",
       "\n",
       "    .dataframe tbody tr th {\n",
       "        vertical-align: top;\n",
       "    }\n",
       "\n",
       "    .dataframe thead th {\n",
       "        text-align: right;\n",
       "    }\n",
       "</style>\n",
       "<table border=\"1\" class=\"dataframe\">\n",
       "  <thead>\n",
       "    <tr style=\"text-align: right;\">\n",
       "      <th></th>\n",
       "      <th>age</th>\n",
       "      <th>sex</th>\n",
       "      <th>educ</th>\n",
       "      <th>race</th>\n",
       "      <th>income</th>\n",
       "      <th>married</th>\n",
       "    </tr>\n",
       "  </thead>\n",
       "  <tbody>\n",
       "    <tr>\n",
       "      <th>0</th>\n",
       "      <td>59</td>\n",
       "      <td>1</td>\n",
       "      <td>9</td>\n",
       "      <td>1</td>\n",
       "      <td>0.0</td>\n",
       "      <td>1</td>\n",
       "    </tr>\n",
       "    <tr>\n",
       "      <th>1</th>\n",
       "      <td>31</td>\n",
       "      <td>0</td>\n",
       "      <td>1</td>\n",
       "      <td>3</td>\n",
       "      <td>17000.0</td>\n",
       "      <td>0</td>\n",
       "    </tr>\n",
       "    <tr>\n",
       "      <th>2</th>\n",
       "      <td>36</td>\n",
       "      <td>1</td>\n",
       "      <td>11</td>\n",
       "      <td>1</td>\n",
       "      <td>0.0</td>\n",
       "      <td>1</td>\n",
       "    </tr>\n",
       "    <tr>\n",
       "      <th>3</th>\n",
       "      <td>54</td>\n",
       "      <td>1</td>\n",
       "      <td>11</td>\n",
       "      <td>1</td>\n",
       "      <td>9100.0</td>\n",
       "      <td>1</td>\n",
       "    </tr>\n",
       "    <tr>\n",
       "      <th>4</th>\n",
       "      <td>39</td>\n",
       "      <td>0</td>\n",
       "      <td>5</td>\n",
       "      <td>3</td>\n",
       "      <td>37000.0</td>\n",
       "      <td>0</td>\n",
       "    </tr>\n",
       "  </tbody>\n",
       "</table>\n",
       "</div>"
      ],
      "text/plain": [
       "   age  sex  educ  race   income  married\n",
       "0   59    1     9     1      0.0        1\n",
       "1   31    0     1     3  17000.0        0\n",
       "2   36    1    11     1      0.0        1\n",
       "3   54    1    11     1   9100.0        1\n",
       "4   39    0     5     3  37000.0        0"
      ]
     },
     "execution_count": 3,
     "metadata": {},
     "output_type": "execute_result"
    }
   ],
   "source": [
    "url = 'https://raw.githubusercontent.com/opendp/opendp/main/docs/source/data/PUMS_california_demographics_1000/data-with-header.csv'\n",
    "data = pd.read_csv(url)\n",
    "data.head()"
   ]
  },
  {
   "cell_type": "markdown",
   "metadata": {},
   "source": [
    "If we wish to publish inference based on the 'sex and 'married' column we can use the tulap mechanism. We can perform UMP test and get a single p value and get the confidence interval as post processing with a fixed privacy cost. "
   ]
  },
  {
   "cell_type": "markdown",
   "metadata": {},
   "source": [
    "### Step 1: Initiating the Tulap Object\n",
    "\n",
    "We can initiate a Tulap object by epsilon, delta and the length of the data. The epsilon and delta specified will be used as the parameters of the Tulap distribution. The distribution is constructed by combination of discrete Laplace noise and continuous uniform noise. See proof for how epsilon and delta are related to the parameters of the Tulap distribution"
   ]
  },
  {
   "cell_type": "code",
   "execution_count": 4,
   "metadata": {},
   "outputs": [],
   "source": [
    "epsilon = 1\n",
    "delta = 0.01\n",
    "size = len(data)\n",
    "count_sex =  sum (data['sex'])\n",
    "count_married = sum (data['married'])\n",
    "tulap_sex = Tulap(count_sex, epsilon, delta, size)\n",
    "tulap_married = Tulap(count_married, epsilon, delta, size)"
   ]
  },
  {
   "cell_type": "markdown",
   "metadata": {},
   "source": [
    "Let's construct one-sided DP UMP test for theta = 0.5  as null hypothesis and theta > 0.5 as alternate hypothesis.  "
   ]
  },
  {
   "cell_type": "code",
   "execution_count": 11,
   "metadata": {},
   "outputs": [
    {
     "name": "stdout",
     "output_type": "stream",
     "text": [
      "UMP Test Result for 'sex': [0. 0. 0. ... 1. 1. 1.]\n",
      "UMP Test Result for 'married': [0. 0. 0. ... 1. 1. 1.]\n"
     ]
    }
   ],
   "source": [
    "alpha = 0.05\n",
    "theta = 0.5\n",
    "ump_result_sex = tulap_sex.ump_test(theta, alpha, 'left')\n",
    "ump_result_married = tulap_married.ump_test(theta, alpha, 'left')\n",
    "\n",
    "print(\"UMP Test Result for 'sex':\", ump_result_sex)\n",
    "print(\"UMP Test Result for 'married':\", ump_result_married)"
   ]
  },
  {
   "cell_type": "markdown",
   "metadata": {},
   "source": [
    "### Calculate p-values"
   ]
  },
  {
   "cell_type": "markdown",
   "metadata": {},
   "source": [
    "For the same null hypothesis with theta = 0.5, we can calculate one sided p value for sex and marriage as below:\n",
    "\n",
    "The p values obtained are private"
   ]
  },
  {
   "cell_type": "code",
   "execution_count": 6,
   "metadata": {},
   "outputs": [
    {
     "name": "stdout",
     "output_type": "stream",
     "text": [
      "P-value for 'sex': 0.8111999187156591\n",
      "P-value for 'married': 0.9990002996808233\n"
     ]
    }
   ],
   "source": [
    "\n",
    "p_value_sex = tulap_sex.p_value(theta, 'left',)\n",
    "p_value_married = tulap_married.p_value(theta, 'left')\n",
    "\n",
    "print(\"P-value for 'sex':\", p_value_sex)\n",
    "print(\"P-value for 'married':\", p_value_married)\n"
   ]
  },
  {
   "cell_type": "markdown",
   "metadata": {},
   "source": [
    "### Calculate Confidence Interval"
   ]
  },
  {
   "cell_type": "markdown",
   "metadata": {},
   "source": [
    "The 95% one sided confidence interval for theta = 0.5 is shown below:"
   ]
  },
  {
   "cell_type": "code",
   "execution_count": 7,
   "metadata": {},
   "outputs": [
    {
     "name": "stdout",
     "output_type": "stream",
     "text": [
      "binary search, stepsize =  0.001\n",
      "binary search, stepsize =  0.001\n",
      "Lower Confidence Interval for 'sex': 0.0009570312499999998\n",
      "Lower Confidence Interval for 'married': 0.0009570312499999998\n"
     ]
    }
   ],
   "source": [
    "\n",
    "# Calculate Confidence Intervals\n",
    "tulap_sex_CI = Tulap(data['sex'], epsilon, delta, size)\n",
    "tulap_married_CI = Tulap(data['married'], epsilon, delta, size)\n",
    "\n",
    "ci_sex_lower = tulap_sex_CI.CI(alpha, 'lower')\n",
    "ci_married_lower = tulap_married_CI.CI(alpha, 'lower')\n",
    "\n",
    "\n",
    "print(\"Lower Confidence Interval for 'sex':\", ci_sex_lower)\n",
    "print(\"Lower Confidence Interval for 'married':\", ci_married_lower)\n"
   ]
  },
  {
   "cell_type": "markdown",
   "metadata": {},
   "source": [
    "Similarly upper CI for theta = 0.5 can also be calculated"
   ]
  },
  {
   "cell_type": "code",
   "execution_count": 9,
   "metadata": {},
   "outputs": [
    {
     "name": "stdout",
     "output_type": "stream",
     "text": [
      "binary search, stepsize =  0.001\n",
      "binary search, stepsize =  0.001\n",
      "Upper Confidence Interval for 'sex': 0.0048710937499999996\n",
      "Upper Confidence Interval for 'married': 0.0048710937499999996\n"
     ]
    }
   ],
   "source": [
    "\n",
    "ci_sex_upper = tulap_sex_CI.CI(alpha, 'upper')\n",
    "ci_married_upper = tulap_married_CI.CI(alpha, 'upper')\n",
    "print(\"Upper Confidence Interval for 'sex':\", ci_sex_upper)\n",
    "print(\"Upper Confidence Interval for 'married':\", ci_married_upper)"
   ]
  }
 ],
 "metadata": {
  "kernelspec": {
   "display_name": "Python 3",
   "language": "python",
   "name": "python3"
  },
  "language_info": {
   "codemirror_mode": {
    "name": "ipython",
    "version": 3
   },
   "file_extension": ".py",
   "mimetype": "text/x-python",
   "name": "python",
   "nbconvert_exporter": "python",
   "pygments_lexer": "ipython3",
   "version": "3.10.13"
  },
  "orig_nbformat": 4
 },
 "nbformat": 4,
 "nbformat_minor": 2
}
