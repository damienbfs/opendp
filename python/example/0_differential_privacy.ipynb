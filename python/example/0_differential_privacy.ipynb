{
 "cells": [
  {
   "cell_type": "markdown",
   "metadata": {},
   "source": [
    "# Introduction to Differential Privacy\n",
    "\n",
    "This notebook introduces differential privacy from the perspective of the OpenDP library.\n",
    "No prior knowledge is assumed of differential privacy (DP), but you will likely still find this notebook useful if you already have a background in DP.\n",
    "\n",
    "Assume we have a vector dataset $u$ where each record contains sensitive information about a different individual."
   ]
  },
  {
   "cell_type": "code",
   "execution_count": 1,
   "metadata": {},
   "outputs": [],
   "source": [
    "# u is a small vector dataset with contributions from:\n",
    "#   [Alice, Jane, John, Jack, ...]\n",
    "u = [12,    10,   8,    7,       ]"
   ]
  },
  {
   "cell_type": "markdown",
   "metadata": {},
   "source": [
    "We can use differential privacy to collect measurements (statistics such as means and histograms) on this dataset, without revealing information about specific individuals.\n",
    "\n",
    "To understand DP, it is important to first understand:\n",
    "1. distance between datasets\n",
    "2. distance between distributions"
   ]
  },
  {
   "cell_type": "markdown",
   "metadata": {},
   "source": [
    "## Distance Between Datasets (adjacency)\n",
    "\n",
    "An adjacent dataset is any dataset that differs from our dataset by a single individual.\n",
    "Returning to our vector dataset example, let's assume our dataset $u$ has one record that contains information about a person, Alice.\n",
    "Then one adjacent dataset $v$ would contain every row in $u$ except for the row with Alice's information. "
   ]
  },
  {
   "cell_type": "code",
   "execution_count": 2,
   "metadata": {},
   "outputs": [],
   "source": [
    "# v is one (of many) datasets that are adjacent to u\n",
    "#   [Jane, John, Jack, ...]\n",
    "v = [10,   8,    7,       ]"
   ]
  },
  {
   "cell_type": "markdown",
   "metadata": {},
   "source": [
    "You can construct other datasets adjacent to $u$ by dropping a different row or adding a new row.\n",
    "When one person may contribute up to $k$ rows, adjacent datasets differ by up to $k$ additions and removals. \n",
    "\n",
    "The number of additions/removals between any two datasets is equivalent to the cardinality of the symmetric difference between $u$ and $v$. We call this metric the symmetric distance.\n",
    "\n",
    "$$d_{Sym}(u, v) = |u \\triangle v|$$\n",
    "\n",
    "And in code:"
   ]
  },
  {
   "cell_type": "code",
   "execution_count": 3,
   "metadata": {},
   "outputs": [
    {
     "data": {
      "text/plain": [
       "1"
      ]
     },
     "execution_count": 3,
     "metadata": {},
     "output_type": "execute_result"
    }
   ],
   "source": [
    "def d_Sym(u, v):\n",
    "    \"\"\"symmetric distance between datasets u and v\"\"\"\n",
    "    return len(set(u).symmetric_difference(set(v)))\n",
    "\n",
    "# compute the symmetric distance between our two example datasets:\n",
    "d_Sym(u, v)"
   ]
  },
  {
   "cell_type": "markdown",
   "metadata": {},
   "source": [
    "$d_{Sym}(\\{12, 10, 8, 7\\}, \\{10, 8, 7\\}) = |\\{12, 10, 8, 7\\} \\triangle \\{10, 8, 7\\}| = |\\{12\\}| = 1$\n",
    "\n",
    "In practice, we never directly compute these distances.\n",
    "In order to apply differentially private methods, you need to establish an upper bound on the distance between adjacent datasets.\n",
    "Equivalently, this is an upper bound on the number of records any one individual may contribute.\n",
    "\n",
    "For instance, in the vector dataset example, it was stipulated that each element contains sensitive information about a different individual. \n",
    "This statement implies that the symmetric distance between adjacent datasets, where one individual is added or removed, is at most one.\n",
    "That is, for any choice of datasets $u$ and $v$ such that $u$ is adjacent to $v$ (denoted $u \\sim_{Sym} v$), we have that $d_{Sym}(u, v) \\leq 1$. \n",
    "\n",
    "Before moving on, there are some trivial generalizations. \n",
    "A dataset need not be a vector, it could be a dataframe or any other collection with a concept of records. \n",
    "There are also other dataset metrics aside from `SymmetricDistance` (used for unbounded DP), such as `ChangeOneDistance` (used for bounded DP). There are also variations of metrics that are sensitive to data ordering, metrics for describing distances between graphs, and more!\n",
    "\n",
    "We should now have a sense for what an adjacent dataset means, how dataset distances work, and an intuitive understanding of the symmetric distance metric."
   ]
  },
  {
   "cell_type": "markdown",
   "metadata": {},
   "source": [
    "## Distance Between Distributions (divergence)\n",
    "You can think of a measurement $M(\\cdot)$ as a differentially private statistic.\n",
    "Measurements are random variables (RVs), that is, they sample from noise distributions.\n",
    "The outputs of a measurement are realizations of a random variable that follow a known probability distribution.\n",
    "Measurements only have one parameter: a dataset (for context, a Laplace RV has parameters for shift and scale).\n",
    "This section describes how to measure distance between the distributions of measurements on adjacent datasets.\n",
    "\n",
    "A common measurement is the Laplace DP sum, which is a sample from the Laplace distribution centered at the dataset sum with a fixed noise scale.\n",
    "The following plot compares the distribution of the DP sum on dataset $u$ with the distribution of the DP sum on dataset $v$, when the noise scale is fixed to `25`."
   ]
  },
  {
   "cell_type": "code",
   "execution_count": 4,
   "metadata": {},
   "outputs": [
    {
     "data": {
      "image/png": "[encoded data removed]",
      "text/plain": [
       "<Figure size 432x288 with 1 Axes>"
      ]
     },
     "metadata": {
      "needs_background": "light"
     },
     "output_type": "display_data"
    }
   ],
   "source": [
    "import numpy as np\n",
    "import matplotlib.pyplot as plt\n",
    "from scipy.stats import laplace\n",
    "\n",
    "scale = 25\n",
    "\n",
    "# while in this case the support includes all reals, we only bother plotting part of it\n",
    "support = np.arange(sum(v) - scale, sum(u) + scale, 1)\n",
    "\n",
    "def plot_pdfs(u, v, support):\n",
    "    u_density = laplace.pdf(support, loc=sum(u), scale=scale)\n",
    "    v_density = laplace.pdf(support, loc=sum(v), scale=scale)\n",
    "\n",
    "    plt.plot(support, u_density, label=\"$p_{M(u)}(x)$\")\n",
    "    plt.plot(support, v_density, label=\"$p_{M(v)}(x)$\")\n",
    "    plt.ylabel('density: $p_{RV}(x)$')\n",
    "    plt.xlabel('support: x')\n",
    "    plt.legend(prop={'size': 15})\n",
    "plot_pdfs(u, v, support)\n"
   ]
  },
  {
   "cell_type": "markdown",
   "metadata": {},
   "source": [
    "We are interested in the greatest divergence, a measure of the dissimilarity of these two distributions.\n",
    "While divergences are not necessarily distances, we informally refer to them as distances.\n",
    "A common measure of divergence is based on the log ratio of probabilities:\n",
    "\n",
    "$$d_{MaxDivergence}(M(u), M(v)) = max_{S \\subset supp M(\\cdot)} log\\left(\\frac{Pr[M(u) \\in S]}{Pr[M(v) \\in S]}\\right)$$\n",
    "\n",
    "In this equation we define the distance between the RVs $M(u)$ and $M(v)$ to be the maximum divergence among all possible subsets of the support.\n",
    "The support is the set of all realizations (outcomes) of the random variable that have nonzero probability.\n",
    "\n",
    "For our DP sum with Laplacian noise example, the support of $M(\\cdot)$ is the set of all real numbers, $\\mathbb{R}$.\n",
    "In the plot below, I illustrate this equation for one randomly chosen subset $S$ of the support:"
   ]
  },
  {
   "cell_type": "code",
   "execution_count": 5,
   "metadata": {},
   "outputs": [
    {
     "data": {
      "image/png": "[encoded data removed]",
      "text/plain": [
       "<Figure size 432x288 with 1 Axes>"
      ]
     },
     "metadata": {
      "needs_background": "light"
     },
     "output_type": "display_data"
    }
   ],
   "source": [
    "def plot_S(u, v, S):\n",
    "    \"\"\"draw the probability regions spanned by S\"\"\"\n",
    "    plt.fill_between(S, laplace.pdf(S, loc=sum(u), scale=scale), label=\"$Pr[M(u) \\in S]$\", alpha=.4)\n",
    "    plt.fill_between(S, laplace.pdf(S, loc=sum(v), scale=scale), label=\"$Pr[M(v) \\in S]$\", alpha=.4)\n",
    "    plt.plot([np.min(S), np.max(S)], [0, 0], label=\"S\")\n",
    "    plt.legend()\n",
    "\n",
    "# re-run this notebook to see different choices of S\n",
    "S = np.arange(*sorted(np.random.choice(support, size=2, replace=False)))\n",
    "\n",
    "plot_pdfs(u, v, support)\n",
    "plot_S(u, v, S)"
   ]
  },
  {
   "cell_type": "markdown",
   "metadata": {},
   "source": [
    "The area of the blue region is the probability that $M(u)$ is in $S$... and similarly the area of the orange region is $Pr[M(v) \\in S]$."
   ]
  },
  {
   "cell_type": "code",
   "execution_count": 6,
   "metadata": {},
   "outputs": [
    {
     "name": "stdout",
     "output_type": "stream",
     "text": [
      "area of blue region:   0.09091187146528601\n",
      "area of orange region: 0.05625475618073361\n",
      "divergence for this S: 0.47999999999999965\n"
     ]
    }
   ],
   "source": [
    "def divergence_over_S(u, v, S):\n",
    "    \"\"\"prints the Divergence(M(u), M(v)) over some interval S, assuming M(x) = Laplace(sum(x), scale)\"\"\"\n",
    "    laplace_u = laplace(loc=sum(u), scale=scale)\n",
    "    laplace_v = laplace(loc=sum(v), scale=scale)\n",
    "\n",
    "    # integrate over both regions\n",
    "    lower, upper = np.min(S), np.max(S)\n",
    "    pr_Mu_in_S = laplace_u.cdf(upper) - laplace_u.cdf(lower) # blue\n",
    "    pr_Mv_in_S = laplace_v.cdf(upper) - laplace_v.cdf(lower) # orange\n",
    "\n",
    "    print(\"area of blue region:  \", pr_Mu_in_S)\n",
    "    print(\"area of orange region:\", pr_Mv_in_S)\n",
    "    print(\"divergence for this S:\", np.abs(np.log(pr_Mu_in_S / pr_Mv_in_S)))\n",
    "divergence_over_S(u, v, S)"
   ]
  },
  {
   "cell_type": "markdown",
   "metadata": {},
   "source": [
    "This shows the divergence between $M(u)$ and $M(v)$ for one choice of S, but keep in mind that $d_{MaxDivergence}(M(u), M(v))$ is the greatest divergence over any choice of $S$.\n",
    "Intuitively, the divergence between $M(u)$ and $M(v)$ for the same $S$ increases if Alice made a greater contribution to the statistic:"
   ]
  },
  {
   "cell_type": "code",
   "execution_count": 7,
   "metadata": {},
   "outputs": [
    {
     "name": "stdout",
     "output_type": "stream",
     "text": [
      "area of blue region:   0.004710954737477149\n",
      "area of orange region: 0.05625475618073361\n",
      "divergence for this S: 2.4800000000000013\n"
     ]
    },
    {
     "data": {
      "image/png": "[encoded data removed]",
      "text/plain": [
       "<Figure size 432x288 with 1 Axes>"
      ]
     },
     "metadata": {
      "needs_background": "light"
     },
     "output_type": "display_data"
    }
   ],
   "source": [
    "# hypothetical: what if Alice's contribution was 100, instead of 12?\n",
    "u_prime = [100, *u[1:]]\n",
    "divergence_over_S(u_prime, v, S)\n",
    "\n",
    "support = np.arange(sum(v) - scale, sum(u_prime) + scale, 1)\n",
    "plot_pdfs(u_prime, v, support)\n",
    "plot_S(u_prime, v, S)"
   ]
  },
  {
   "cell_type": "markdown",
   "metadata": {},
   "source": [
    "As we can see, when the divergence between probability distributions is greater, we can more confidently distinguish which distribution a sample came from. \n",
    "This is why the statistical divergence can be used as a meaningful measure of privacy.\n",
    "\n",
    "In practice, it isn't feasible to compute the divergence for all possible choices of $S$. \n",
    "Fortunately, we won't need to directly compute this anyways."
   ]
  },
  {
   "cell_type": "markdown",
   "metadata": {},
   "source": [
    "## Definition of Privacy\n",
    "Now that we have an understanding of distances between datasets, and distances between distributions, we can define the privacy of a measurement, $M(\\cdot)$:\n",
    "\n",
    "> $M(\\cdot)$ is $\\epsilon$-differentially private if, for any choice of datasets $u$ and $v$ such that $d_{Sym}(u, v) \\leq k$, we have that $d_{MaxDivergence}(M(u), M(v)) \\leq \\epsilon$.\n",
    "\n",
    "In this definition, we relate a dataset distance $k$ to another distance $\\epsilon$.\n",
    "This $\\epsilon$ is more general than the max divergence we computed in the previous section because it is the greatest divergence over all possible choices of $S$, _and over all possible pairs of adjacent datasets_ $u$ and $v$.\n",
    "\n",
    "This has a very practical interpretation: Lets say I have a dataset $x$ for which an individual user can contribute at most $k$ rows, and a statistic $M(\\cdot)$ that is $\\epsilon$-DP when user contribution is at most $k$.\n",
    "By the DP guarantee, it is proven that the influence of any one individual on the data release induces a divergence no greater than $\\epsilon$. Thus, assuming a reasonably small choice of $\\epsilon$, the individual's participation in the statistical release is private, because their influence on the data release is at most $\\epsilon$-distinguishable."
   ]
  },
  {
   "cell_type": "markdown",
   "metadata": {},
   "source": [
    "If you have some background in differential privacy you may be more familiar with a definition of privacy worded like this:\n",
    "\n",
    "> $M(\\cdot)$ is $\\epsilon$-differentially private if, for any choice of adjacent datasets $u$ and $v$, we have that\n",
    "$Pr[M(u) \\in S] \\leq e^\\epsilon Pr[M(v) \\in S]$.\n",
    "\n",
    "This is mostly equivalent, because of the way we've defined $d_{MaxDivergence}(M(u), M(v))$ in the previous section.\n",
    "However, this formulation of the definition is ambiguous about what makes a dataset adjacent. To obtain well-defined privacy guarantees, it is important to specify the dataset metric and dataset distance."
   ]
  },
  {
   "cell_type": "markdown",
   "metadata": {},
   "source": [
    "We further generalize the definition of privacy:\n",
    "\n",
    "> $M(\\cdot)$ is $d_{out}$-differentially private with respect to input metric $MI$ and output measure $MO$ if, for any choice of datasets $u$ and $v$ such that $d_{MI}(u, v) \\leq d_{in}$, we have that $d_{MO}(M(u), M(v)) \\leq d_{out}$.\n",
    "\n",
    "The first definition can be reclaimed by letting $MI$ be `SymmetricDistance` and $MO$ be `MaxDivergence`. \n",
    "$MO$ can be set to other measures of divergence to represent approximate ($\\epsilon, \\delta$)-differential privacy, or zero-concentrated $\\rho$-differential privacy.\n",
    "Similarly, our choice of `SymmetricDistance` represents unbounded DP, but we can represent bounded DP by letting $MI$ be `ChangeOneDistance`."
   ]
  },
  {
   "cell_type": "markdown",
   "metadata": {},
   "source": [
    "## Distance Between Aggregates (sensitivity)\n",
    "The _sensitivity_ is the greatest amount an aggregate can change when computed on an adjacent dataset.\n",
    "Aggregators are deterministic statistics (like the sum or histogram functions), and their exact outputs are aggregates.\n",
    "More generally, a transformation $T(\\cdot)$ is a deterministic function from a dataset to a dataset.\n",
    "Aggregators are a kind of transformation, and aggregates are a kind of dataset.\n",
    "\n",
    "One example of a sensitivity metric is the `AbsoluteDistance`, which is used to measure the distance between scalar aggregates. \n",
    "$$d_{Abs}(a, b) = |a - b|$$\n"
   ]
  },
  {
   "cell_type": "code",
   "execution_count": 8,
   "metadata": {},
   "outputs": [],
   "source": [
    "def d_Abs(a, b):\n",
    "    \"\"\"absolute distance between a and b\"\"\"\n",
    "    return abs(a - b)"
   ]
  },
  {
   "cell_type": "markdown",
   "metadata": {},
   "source": [
    "Lets use the absolute distance metric to express the sensitivity of the sum aggregator.\n",
    "In our vector dataset example, we know each individual can contribute at most one record.\n",
    "Since this record is unbounded, it can perturb the sum an arbitrarily large amount towards positive or negative infinity.\n",
    "This is unfortunate, because it implies that the divergence is also infinite!\n",
    "\n",
    "In order to attain a finite sensitivity, it is customary to clamp— that is, to replace any value less than a lower bound with the lower bound, and any value greater than an upper bound with the upper bound. \n"
   ]
  },
  {
   "cell_type": "code",
   "execution_count": 9,
   "metadata": {},
   "outputs": [],
   "source": [
    "def clamped_sum_0_12(x):\n",
    "    \"\"\"a naive function that computes the sum, where each element is clamped within [0, 12]\"\"\"\n",
    "    return sum(np.clip(x, 0, 12))"
   ]
  },
  {
   "cell_type": "markdown",
   "metadata": {},
   "source": [
    "Broadly speaking, if the transformation clamps data to the interval $[L, U]$, and we know each individual contributes at most $d_{in}$ records, then the clamped sum sensitivity ($d_{out}$) is\n",
    "$$max_{u \\sim_{Sym} v} |clamped\\_sum(u) - clamped\\_sum(v)| = d_{in} \\cdot max(|L|, U)$$\n",
    "\n",
    "We can use this to solve for the sensitivity of $clamped\\_sum\\_0\\_12$, by letting $[L, U] = [0, 12]$. Thus its sensitivity is $1 \\cdot max(|0|, 12) = 12$. For any conceivable dataset $u$, adding or removing any individual (to get some dataset $v$) can change the sum by at most $12$.\n",
    "\n",
    "Our current choice of $u$ and $v$ is an example that maximizes the absolute distance:"
   ]
  },
  {
   "cell_type": "code",
   "execution_count": 10,
   "metadata": {},
   "outputs": [
    {
     "data": {
      "text/plain": [
       "12"
      ]
     },
     "execution_count": 10,
     "metadata": {},
     "output_type": "execute_result"
    }
   ],
   "source": [
    "d_Abs(clamped_sum_0_12(u), clamped_sum_0_12(v))"
   ]
  },
  {
   "cell_type": "markdown",
   "metadata": {},
   "source": [
    "You can even use the `SymmetricDistance` as the input metric $MI$ of a measurement $M(\\cdot)$ (see the definition of privacy).\n",
    "Lets define a new function $laplace\\_noise$ to illustrate this:"
   ]
  },
  {
   "cell_type": "code",
   "execution_count": 11,
   "metadata": {},
   "outputs": [],
   "source": [
    "def laplace_noise(x):\n",
    "    \"\"\"a naive function that adds an approximation to Laplace noise\"\"\"\n",
    "    return np.random.laplace(loc=x, scale=scale)"
   ]
  },
  {
   "cell_type": "markdown",
   "metadata": {},
   "source": [
    "We let $MI$ be `AbsoluteDistance` and $MO$ be `MaxDivergence`.\n",
    "It can be shown that for any choice of $u$ and $v$ such that $d_{Sym}(u, v) \\leq d_{in}$, and $d_{out} = d_{in} / scale$, then:\n",
    "$$d_{MaxDivergence}(u, v) \\leq d_{out}$$\n",
    "Therefore, if the data types in this function had infinite precision, then $laplace\\_noise$ would be a measurement.\n",
    "Other common metrics to express sensitivities are `L1Distance` and `L2Distance`."
   ]
  },
  {
   "cell_type": "markdown",
   "metadata": {},
   "source": [
    "## Definition of Stability\n",
    "Similar to how we defined the privacy of a measurement $M(\\cdot)$, we can also define the stability of a transformation, $T(\\cdot)$:\n",
    "\n",
    "> $T(\\cdot)$ is $d_{out}$-stable with respect to input metric $MI$ and output metric $MO$ if, for any choice of datasets $u$ and $v$ such that $d_{MI}(u, v) \\leq d_{in}$, we have that $d_{MO}(T(u), T(v)) \\leq d_{out}$.\n",
    "\n",
    "An example is the $clamped\\_sum\\_0\\_12$ function from the previous section.\n",
    "If the data types in $clamped\\_sum\\_0\\_12$ had infinite precision, it would be a stable transformation where $MI$ is `SymmetricDistance` and $MO$ is `AbsoluteDistance`.\n",
    "We've previously shown that when $d_{in} = 1$, the sensitivity $d_{out} = 12$.\n",
    "\n",
    "This stability guarantee does not carry privacy implications, but it lets us construct building blocks that can be chained together.\n",
    "If the output metric $MO$ and output domain $DO$ of a transformation $T(\\cdot)$ conform with the input metric $MI$ and input domain $DI$ of a measurement $M(\\cdot)$, then it is valid to construct a new measurement $M2(\\cdot) = M(T(\\cdot))$.\n",
    "We can similarly construct a new transformation $T(\\cdot) = T2(T1(\\cdot))$.\n",
    "\n",
    "Notice that the output domain and metric of the $clamped\\_sum\\_0\\_12$ transformation conform with the input metric and domain of the $laplace\\_noise$ measurement, so we can chain these together:"
   ]
  },
  {
   "cell_type": "code",
   "execution_count": 12,
   "metadata": {},
   "outputs": [],
   "source": [
    "def laplace_sum(x):\n",
    "    \"\"\"a naive function that computes the noisy clamped sum\"\"\"\n",
    "    return laplace_noise(clamped_sum_0_12(x))"
   ]
  },
  {
   "cell_type": "markdown",
   "metadata": {},
   "source": [
    "Since this function was constructed by chaining a stable transformation and private measurement, it is trivial to prove that it is a private measurement (if the data types had infinite precision).\n",
    "The new chained measurement's $MI$ is `SymmetricDistance`, and $MO$ is `MaxDivergence`, and when the dataset distance $d_{in} = 1$, we have that $\\epsilon = d_{out} = d_{in} \\cdot max(|0|, 12) / 25 = d_{in} \\cdot 0.48 = 0.48$.\n",
    "That is, when an individual can contribute at most one record, the maximum observable divergence among the output distributions is $0.48$.\n",
    "\n",
    "\n",
    "## Stability Maps and Privacy Maps\n",
    "\n",
    "A crucial takeaway from this notebook is a high-level understanding that _differential privacy is a system to relate distances_ ($d_{in}$ and $d_{out}$).\n",
    "If you can establish a bound on the distance to adjacent datasets $d_{in}$ (in terms of some metric $MI$) then you can work out the stability or privacy properties $d_{out}$ (in terms of some metric or measure $MO$) of computations made on your data.\n",
    "\n",
    "We encapsulate this relationship between distances with one last abstraction, a map.\n",
    "A map is a function, associated with your computation, that computes the smallest $d_{out}$ for any given $d_{in}$. \n",
    "A computation is $d_{out}$-DP when inputs are $d_{in}$-adjacent, or equivalently $(d_{in}, d_{out})$-close, so long as $map(d_{in}) \\leq d_{out}$.\n",
    "\n",
    "The stability map for the $clamped\\_sum\\_0\\_12$ function is as follows:"
   ]
  },
  {
   "cell_type": "code",
   "execution_count": 13,
   "metadata": {},
   "outputs": [
    {
     "data": {
      "text/plain": [
       "12"
      ]
     },
     "execution_count": 13,
     "metadata": {},
     "output_type": "execute_result"
    }
   ],
   "source": [
    "def clamped_sum_0_12_map(d_in):\n",
    "    return d_in * max(abs(0), 12)\n",
    "\n",
    "# find the smallest d_out (absolute distance) of clamped_sum_0_12 when d_in (symmetric distance) is 1\n",
    "clamped_sum_0_12_map(d_in=1)"
   ]
  },
  {
   "cell_type": "markdown",
   "metadata": {},
   "source": [
    "This map is just a repackaging of our previous formula for the clamped sum sensitivity, so that $d_{in}$ can be set later. It is referred to as a _stability_ map because the output distance is in terms of a stability metric.\n",
    "\n",
    "The same pattern holds for the privacy map of the $laplace\\_noise$ measurement:"
   ]
  },
  {
   "cell_type": "code",
   "execution_count": 14,
   "metadata": {},
   "outputs": [
    {
     "data": {
      "text/plain": [
       "0.48"
      ]
     },
     "execution_count": 14,
     "metadata": {},
     "output_type": "execute_result"
    }
   ],
   "source": [
    "def laplace_noise_map(d_in):\n",
    "    return d_in / scale\n",
    "\n",
    "# find the smallest d_out (epsilon) of laplace_noise when d_in (absolute distance) is 12\n",
    "laplace_noise_map(d_in=12)"
   ]
  },
  {
   "cell_type": "markdown",
   "metadata": {},
   "source": [
    "This is time we refer to it as a privacy map, because the output distance is in terms of a privacy measure, instead of a stability metric.\n",
    "Now that we have the stability map for the clamped sum transformation and the privacy map for the Laplace noise measurement, we can automatically construct the privacy map for the Laplace sum measurement:"
   ]
  },
  {
   "cell_type": "code",
   "execution_count": 15,
   "metadata": {},
   "outputs": [
    {
     "data": {
      "text/plain": [
       "0.48"
      ]
     },
     "execution_count": 15,
     "metadata": {},
     "output_type": "execute_result"
    }
   ],
   "source": [
    "def laplace_sum_map(d_in):\n",
    "    return laplace_noise_map(clamped_sum_0_12_map(d_in))\n",
    "\n",
    "# find the smallest d_out (epsilon) of laplace_noise when d_in (symmetric distance) is 1\n",
    "laplace_sum_map(1)"
   ]
  },
  {
   "cell_type": "markdown",
   "metadata": {},
   "source": [
    "We've now come full-circle.\n",
    "In the \"Distance Between Distributions\" section, we computed an example divergence for one choice of $S$.\n",
    "We have now indirectly computed an upper bound for that divergence of $0.48$.\n",
    "You may notice that some choices of $S$ in that section can give divergences very slightly larger than $0.48$.\n",
    "This is because floating-point numbers have finite precision, so intermediate computations were subject to rounding that introduced error.\n",
    "\n",
    "The transformation and measurement examples in this notebook are only $(d_{in}, d_{out})$-close if we assume the data types have infinite precision— and they don't!\n",
    "Building transformations or measurements that have proven stability or privacy properties is nontrivial, especially if you account for finite precision in data types.\n",
    "This is the purpose of the OpenDP library: to help you build robust transformations and measurements with rigorous privacy properties.\n",
    "We'll show how to use the OpenDP library in the next notebook.\n"
   ]
  }
 ],
 "metadata": {
  "kernelspec": {
   "display_name": "Python 3.8.13 ('psi')",
   "language": "python",
   "name": "python3"
  },
  "language_info": {
   "codemirror_mode": {
    "name": "ipython",
    "version": 3
   },
   "file_extension": ".py",
   "mimetype": "text/x-python",
   "name": "python",
   "nbconvert_exporter": "python",
   "pygments_lexer": "ipython3",
   "version": "3.8.13"
  },
  "orig_nbformat": 4,
  "vscode": {
   "interpreter": {
    "hash": "3220da548452ac41acb293d0d6efded0f046fab635503eb911c05f743e930f34"
   }
  }
 },
 "nbformat": 4,
 "nbformat_minor": 2
}
