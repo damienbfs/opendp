{
 "cells": [
  {
   "attachments": {},
   "cell_type": "markdown",
   "metadata": {},
   "source": [
    "[__Join our Slack__](https://join.slack.com/t/opendp/shared_invite/zt-zw7o1k2s-dHg8NQE8WTfAGFnN_cwomA) if you have any questions or comments!\n",
    "\n",
    "# OpenDP Library Exercise\n",
    "\n",
    "You can work [here in Colab](https://shorturl.at/jlwV3), or download this notebook and edit \n",
    "locally.\n",
    "Use `Shift+Enter` to execute a cell. "
   ]
  },
  {
   "cell_type": "code",
   "execution_count": null,
   "metadata": {},
   "outputs": [],
   "source": [
    "%pip install opendp seaborn"
   ]
  },
  {
   "cell_type": "code",
   "execution_count": null,
   "metadata": {},
   "outputs": [],
   "source": [
    "import opendp.prelude as dp\n",
    "TODO = \"TODO\" # placeholder variable to mark things to do"
   ]
  },
  {
   "cell_type": "markdown",
   "metadata": {},
   "source": [
    "Any constructors that have not completed the proof-writing and vetting process may still be accessed if you opt-in to \"contrib\".\n",
    "\n",
    "[[Documentation]](https://github.com/opendp/opendp/discussions/304)"
   ]
  },
  {
   "cell_type": "code",
   "execution_count": null,
   "metadata": {},
   "outputs": [],
   "source": [
    "TODO # enable \"contrib\"\n",
    "\n",
    "# (this assertion should pass)\n",
    "assert \"contrib\" in dp.GLOBAL_FEATURES"
   ]
  },
  {
   "attachments": {},
   "cell_type": "markdown",
   "metadata": {},
   "source": [
    "## Exercise: Sydney Pedestrian Traffic Data\n",
    "\n",
    "The Sydney Pedestrian Traffic data set logs the first sightings of an individual \n",
    "on Park Street, Bridge Street and Market Street, on February 3, 2024.\n",
    "The data is based on true counts of hourly per-street pedestrian traffic,\n",
    "but has additional synthetically-generated attributes: name, age and gender."
   ]
  },
  {
   "cell_type": "code",
   "execution_count": null,
   "metadata": {},
   "outputs": [],
   "source": [
    "import urllib.request\n",
    "data_url = \"https://raw.githubusercontent.com/opendp/opendp/sydney/Sydney_Synth_Pedestrian_Counts_2024_2_3.csv\"\n",
    "with urllib.request.urlopen(data_url) as data_req:\n",
    "    data = data_req.read().decode('utf-8')"
   ]
  },
  {
   "cell_type": "markdown",
   "metadata": {},
   "source": [
    "### 1. Privacy Unit\n",
    "\n",
    "First, determine the privacy unit. Remember that:\n",
    "* the data only spans one day\n",
    "* only the first sighting of an individual is logged, per-street\n",
    "* there are only three streets"
   ]
  },
  {
   "cell_type": "code",
   "execution_count": null,
   "metadata": {},
   "outputs": [],
   "source": [
    "privacy_unit = TODO"
   ]
  },
  {
   "cell_type": "markdown",
   "metadata": {},
   "source": [
    "### 2. Privacy Loss\n",
    "\n",
    "Create a privacy loss budget of $\\epsilon = 1.0$."
   ]
  },
  {
   "cell_type": "code",
   "execution_count": null,
   "metadata": {},
   "outputs": [],
   "source": [
    "privacy_loss = TODO"
   ]
  },
  {
   "cell_type": "markdown",
   "metadata": {},
   "source": [
    "### 3. Public Information\n",
    "\n",
    "Taken from the data description."
   ]
  },
  {
   "cell_type": "code",
   "execution_count": null,
   "metadata": {},
   "outputs": [],
   "source": [
    "col_names = [\"Street\", \"Hour\", \"First Name\", \"Last Name\", \"Age\", \"Gender\"]\n",
    "street_names = [\"Park Street\", \"Bridge Street\", \"Market Street\"]"
   ]
  },
  {
   "cell_type": "markdown",
   "metadata": {},
   "source": [
    "### 4. Mediate Access\n",
    "Initialize the context for our analysis: data, privacy unit and privacy loss. Split the budget evenly over 10 queries."
   ]
  },
  {
   "cell_type": "code",
   "execution_count": null,
   "metadata": {},
   "outputs": [],
   "source": [
    "context = TODO"
   ]
  },
  {
   "cell_type": "markdown",
   "metadata": {},
   "source": [
    "### 5.a Per-Street Counts\n",
    "\n",
    "Compute a DP count of the number of sightings on Bridge Street:"
   ]
  },
  {
   "cell_type": "code",
   "execution_count": null,
   "metadata": {},
   "outputs": [],
   "source": [
    "bridge_count_query = (\n",
    "    context.query()\n",
    "    .split_dataframe(\",\", col_names=col_names)\n",
    "    .df_is_equal(\"Street\", \"Bridge Street\")\n",
    "    .subset_by(\"Street\", keep_columns=[\"First Name\"])\n",
    "    .select_column(\"First Name\", str)\n",
    "    # TODO: count and noise\n",
    ")\n",
    "bridge_count_query.release()"
   ]
  },
  {
   "cell_type": "markdown",
   "metadata": {},
   "source": [
    "Release DP counts of the other two streets."
   ]
  },
  {
   "cell_type": "code",
   "execution_count": null,
   "metadata": {},
   "outputs": [],
   "source": [
    "TODO"
   ]
  },
  {
   "cell_type": "markdown",
   "metadata": {},
   "source": [
    "The following release counts sightings on all three streets using only one query, \n",
    "by taking advantage of parallel composition:"
   ]
  },
  {
   "cell_type": "code",
   "execution_count": null,
   "metadata": {},
   "outputs": [],
   "source": [
    "count_query = (\n",
    "    context.query()\n",
    "    .split_dataframe(\",\", col_names=col_names)\n",
    "    .select_column(\"Street\", str)\n",
    "    .count_by_categories(street_names, null_category=False)\n",
    "    .laplace()\n",
    ")\n",
    "street_counts = count_query.release()\n",
    "street_counts"
   ]
  },
  {
   "cell_type": "markdown",
   "metadata": {},
   "source": [
    "### 5.b Distribution of Pedestrians Per-Hour\n",
    "\n",
    "Visualize how busy downtown Sydney is over the day.\n",
    "Might collecting data by first sighting skew the data?"
   ]
  },
  {
   "cell_type": "code",
   "execution_count": null,
   "metadata": {},
   "outputs": [],
   "source": [
    "hours = list(range(24))\n",
    "hourly_query = TODO\n",
    "hourly_sightings = hourly_query.release()"
   ]
  },
  {
   "cell_type": "code",
   "execution_count": null,
   "metadata": {},
   "outputs": [],
   "source": [
    "import matplotlib.pyplot as plt\n",
    "\n",
    "\n",
    "def fmt(hour):\n",
    "    return f\"{int(hour) % 12} {'P' if int(hour) > 11 else 'A'}M\"\n",
    "\n",
    "\n",
    "plt.bar(list(map(fmt, hours)), hourly_sightings)\n",
    "plt.xticks(range(1, 25, 4))\n",
    "\n",
    "plt.xlabel(\"time\")\n",
    "plt.ylabel(\"first sightings\");"
   ]
  },
  {
   "cell_type": "markdown",
   "metadata": {},
   "source": [
    "### 5.c Park Street Ages Analysis\n",
    "\n",
    "In this exercise, you'll compute the mean and variance of ages on Park Street.\n",
    "\n",
    "You are given part of a query, that preprocesses the data to a vector of ages.\n",
    "Adjust the query to transform the data to also be bounded and have known size."
   ]
  },
  {
   "cell_type": "code",
   "execution_count": null,
   "metadata": {},
   "outputs": [],
   "source": [
    "q_park_street_ages = (\n",
    "    context.query()\n",
    "    .split_dataframe(\",\", col_names=col_names)\n",
    "    .df_is_equal(\"Street\", \"Park Street\")\n",
    "    .subset_by(\"Street\", keep_columns=[\"Age\"])\n",
    "    .select_column(\"Age\", str)\n",
    "    .cast_default(float)\n",
    "    # TODO: clamp and resize\n",
    ")"
   ]
  },
  {
   "cell_type": "markdown",
   "metadata": {},
   "source": [
    "Now release queries for the mean and variance."
   ]
  },
  {
   "cell_type": "code",
   "execution_count": null,
   "metadata": {},
   "outputs": [],
   "source": [
    "q_park_mean_age = TODO\n",
    "q_park_mean_age.release()"
   ]
  },
  {
   "cell_type": "code",
   "execution_count": null,
   "metadata": {},
   "outputs": [],
   "source": [
    "q_park_mean_age = TODO\n",
    "q_park_mean_age.release()"
   ]
  },
  {
   "cell_type": "markdown",
   "metadata": {},
   "source": [
    "### 5.c Upper Quartile of Ages on Market Street\n",
    "\n",
    "_This example is already worked._\n",
    "\n",
    "Estimate the 75th percentile of the age of individuals on Market Street."
   ]
  },
  {
   "cell_type": "code",
   "execution_count": null,
   "metadata": {},
   "outputs": [],
   "source": [
    "quantile_query = (\n",
    "    context.query()\n",
    "    .split_dataframe(\",\", col_names=col_names)\n",
    "    .df_is_equal(\"Street\", \"Market Street\")\n",
    "    .subset_by(\"Street\", keep_columns=[\"Age\"])\n",
    "    .select_column(\"Age\", str)\n",
    "    .cast_default(int)\n",
    "    .quantile_score_candidates(list(range(100)), alpha=.75)\n",
    "    .report_noisy_max_gumbel(optimize=\"min\")\n",
    ")\n",
    "quantile_query.release()"
   ]
  },
  {
   "cell_type": "markdown",
   "metadata": {},
   "source": [
    "### 5.d Sparse Histogram of Names\n",
    "\n",
    "_This example is already worked._\n",
    "\n",
    "When dealing with data that has an unknown domain, the keys themselves are private information.\n",
    "One approach used to privately release histograms on unknown key sets is to only release keys with large counts:\n",
    "that is, only release keys that many people have contributed to, and thus remain stable across all neighboring datasets.\n",
    "Another approach, used below, is to privatize a low-dimensional projection."
   ]
  },
  {
   "cell_type": "code",
   "execution_count": null,
   "metadata": {},
   "outputs": [],
   "source": [
    "quantile_query = (\n",
    "    context.query()\n",
    "    .split_dataframe(\",\", col_names=col_names)\n",
    "    .df_is_equal(\"Street\", \"Park Street\")\n",
    "    .subset_by(\"Street\", keep_columns=[\"First Name\"])\n",
    "    .select_column(\"First Name\", str)\n",
    "    .count_by(MO=dp.L1Distance[int])\n",
    "    .alp_queryable(scale=.025, total_limit=sum(street_counts), value_limit=400)\n",
    ")\n",
    "qbl = quantile_query.release()"
   ]
  },
  {
   "cell_type": "markdown",
   "metadata": {},
   "source": [
    "This mechanism releases a queryable containing a differentially private, hash-based representation of the counts of all possible names.\n",
    "\n",
    "As you would expect, the most common names have a relatively high number of observations.\n",
    "Names that you would expect to be less common have lower counts."
   ]
  },
  {
   "cell_type": "code",
   "execution_count": null,
   "metadata": {},
   "outputs": [],
   "source": [
    "qbl(\"Michael\"), qbl(\"James\"), qbl(\"Sharon\"), qbl(\"Lancelot\")"
   ]
  },
  {
   "cell_type": "markdown",
   "metadata": {},
   "source": [
    "Lancelot would likely not be observed in the data, so you would expect the true count to be near zero."
   ]
  }
 ],
 "metadata": {
  "kernelspec": {
   "display_name": "psi",
   "language": "python",
   "name": "python3"
  },
  "language_info": {
   "codemirror_mode": {
    "name": "ipython",
    "version": 3
   },
   "file_extension": ".py",
   "mimetype": "text/x-python",
   "name": "python",
   "nbconvert_exporter": "python",
   "pygments_lexer": "ipython3",
   "version": "3.11.7"
  },
  "orig_nbformat": 4,
  "vscode": {
   "interpreter": {
    "hash": "3220da548452ac41acb293d0d6efded0f046fab635503eb911c05f743e930f34"
   }
  }
 },
 "nbformat": 4,
 "nbformat_minor": 2
}
