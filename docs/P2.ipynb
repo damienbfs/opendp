{
  "cells": [
    {
      "cell_type": "markdown",
      "metadata": {
        "id": "DUH4x54XXVbI"
      },
      "source": [
        "## Part 2: Quantiles"
      ]
    },
    {
      "cell_type": "markdown",
      "metadata": {
        "id": "ecy-bQksXVbK"
      },
      "source": [
        "## Introduction\n",
        "\n",
        "In this tutorial, we will explore some quantile methods supported by Polars and OpenDP. Specifically, we will look at the quantile method generally, and then explain its primary steps.\n",
        "\n",
        "This tutorial will use the Labor Force Survey data (see the Pre-Processing Notebook for more information) and some of the concepts introduced in Part 1 - Data Exploration. \n",
        "\n",
        "### Why Not Add Noise Directly to the Quantile?\n",
        "Quantiles are more robust as they consider the data distribution. However, consider the case where exactly half of the points are upper quartile and exactly half are in the lower. Directly adding noise which leads to a specific points can change the sensitivity (max - min) greatly, so constructing a differentially private quantile requires more sophistication."
      ]
    },
    {
      "cell_type": "code",
      "execution_count": 1,
      "metadata": {
        "id": "QNOVoTxCXVbL"
      },
      "outputs": [
        {
          "name": "stdout",
          "output_type": "stream",
          "text": [
            "Requirement already satisfied: opendp[polars] in /Library/Frameworks/Python.framework/Versions/3.12/lib/python3.12/site-packages (0.10.0)\n",
            "Requirement already satisfied: polars==0.20.16 in /Library/Frameworks/Python.framework/Versions/3.12/lib/python3.12/site-packages (from opendp[polars]) (0.20.16)\n",
            "Requirement already satisfied: pyarrow in /Library/Frameworks/Python.framework/Versions/3.12/lib/python3.12/site-packages (from opendp[polars]) (16.1.0)\n",
            "Requirement already satisfied: scikit-learn in /Library/Frameworks/Python.framework/Versions/3.12/lib/python3.12/site-packages (from opendp[polars]) (1.5.0)\n",
            "Requirement already satisfied: numpy<2.0,>=1.17 in /Library/Frameworks/Python.framework/Versions/3.12/lib/python3.12/site-packages (from opendp[polars]) (1.26.4)\n",
            "Requirement already satisfied: randomgen in /Library/Frameworks/Python.framework/Versions/3.12/lib/python3.12/site-packages (from opendp[polars]) (1.26.1)\n",
            "Requirement already satisfied: scipy>=1.6.0 in /Library/Frameworks/Python.framework/Versions/3.12/lib/python3.12/site-packages (from scikit-learn->opendp[polars]) (1.13.1)\n",
            "Requirement already satisfied: joblib>=1.2.0 in /Library/Frameworks/Python.framework/Versions/3.12/lib/python3.12/site-packages (from scikit-learn->opendp[polars]) (1.4.2)\n",
            "Requirement already satisfied: threadpoolctl>=3.1.0 in /Library/Frameworks/Python.framework/Versions/3.12/lib/python3.12/site-packages (from scikit-learn->opendp[polars]) (3.5.0)\n",
            "\n",
            "\u001b[1m[\u001b[0m\u001b[34;49mnotice\u001b[0m\u001b[1;39;49m]\u001b[0m\u001b[39;49m A new release of pip is available: \u001b[0m\u001b[31;49m24.0\u001b[0m\u001b[39;49m -> \u001b[0m\u001b[32;49m24.1\u001b[0m\n",
            "\u001b[1m[\u001b[0m\u001b[34;49mnotice\u001b[0m\u001b[1;39;49m]\u001b[0m\u001b[39;49m To update, run: \u001b[0m\u001b[32;49mpip3 install --upgrade pip\u001b[0m\n",
            "Note: you may need to restart the kernel to use updated packages.\n"
          ]
        }
      ],
      "source": [
        "pip install \"opendp[polars]\""
      ]
    },
    {
      "cell_type": "code",
      "execution_count": 2,
      "metadata": {
        "id": "hpD0FvNBXVbM"
      },
      "outputs": [],
      "source": [
        "import numpy as np\n",
        "import polars as pl\n",
        "import opendp.prelude as dp\n",
        "dp.enable_features(\"contrib\")\n",
        "import matplotlib.pyplot as plt\n",
        "import seaborn as sns"
      ]
    },
    {
      "cell_type": "markdown",
      "metadata": {
        "id": "2aBAZ5AmXVbM"
      },
      "source": [
        "If the \"sample_FR_LFS.csv\" file exists, then follow the code for importing the dataset as is. Otherwise follow the instructions from Preprocessing.ipynb to compile the dataset."
      ]
    },
    {
      "cell_type": "code",
      "execution_count": 3,
      "metadata": {
        "id": "wjAtK28VXVbM"
      },
      "outputs": [],
      "source": [
        "# reading in the data\n",
        "df = pl.scan_csv(\"FR_LFS_2008Q1.csv\", infer_schema_length=1000, ignore_errors=True)"
      ]
    },
    {
      "cell_type": "markdown",
      "metadata": {
        "id": "f6PEZWpzofFn"
      },
      "source": [
        "For more information on defining the compositor, see the Part 1 Notebook on Data Exploration methods!"
      ]
    },
    {
      "cell_type": "code",
      "execution_count": 4,
      "metadata": {
        "id": "3ltU268CXVbM"
      },
      "outputs": [],
      "source": [
        "context = dp.Context.compositor(\n",
        "    data=df,\n",
        "    privacy_unit=dp.unit_of(contributions=1),\n",
        "    privacy_loss=dp.loss_of(epsilon=1.0),\n",
        "    split_evenly_over=10,\n",
        "    margins={\n",
        "        (\"AGE\", ): dp.Margin(public_info=\"keys\", max_partition_length=60_000_000),\n",
        "        (): dp.Margin(public_info=\"keys\", max_partition_length=60_000_000),\n",
        "    },\n",
        ")"
      ]
    },
    {
      "cell_type": "markdown",
      "metadata": {
        "id": "XxM09cKUXVbN"
      },
      "source": [
        "## Using the Quantile Method Directly"
      ]
    },
    {
      "cell_type": "markdown",
      "metadata": {
        "id": "SHCjStw8XVbN"
      },
      "source": [
        "### Compute the Median Age"
      ]
    },
    {
      "cell_type": "markdown",
      "metadata": {
        "id": "SnUJxheXXVbN"
      },
      "source": [
        "To compute the median using the quantile method directly, follow these steps:\n",
        "\n",
        "1. Select the variable you are interested in. In this case we chose \"AGE\"\n",
        "2. Fill in null values. We'll impute the values with the mean age.\n",
        "3. Specify the following parameters in the quantile method:\n",
        "    a. Quantile: This is between 0 and 1. Since we're interested in computing the median, we input 0.5.\n",
        "    b. A range of possible values for your quantiles. This will depend on your specific domain. We know that ages are generally between 0 and 100, we use those as our candidates, so our results will be limited to these values."
      ]
    },
    {
      "cell_type": "code",
      "execution_count": 5,
      "metadata": {
        "id": "eryzri-4XVbN"
      },
      "outputs": [],
      "source": [
        "mean_age = df.select(pl.col(\"AGE\")).mean().collect()"
      ]
    },
    {
      "cell_type": "code",
      "execution_count": 6,
      "metadata": {
        "colab": {
          "base_uri": "https://localhost:8080/",
          "height": 128
        },
        "id": "7dLmSCiDXVbN",
        "outputId": "2dadf2fd-dab1-4e69-82bb-d538f17d3ed2"
      },
      "outputs": [
        {
          "data": {
            "text/html": [
              "<div><style>\n",
              ".dataframe > thead > tr,\n",
              ".dataframe > tbody > tr {\n",
              "  text-align: right;\n",
              "  white-space: pre-wrap;\n",
              "}\n",
              "</style>\n",
              "<small>shape: (1, 1)</small><table border=\"1\" class=\"dataframe\"><thead><tr><th>AGE</th></tr><tr><td>i64</td></tr></thead><tbody><tr><td>43</td></tr></tbody></table></div>"
            ],
            "text/plain": [
              "shape: (1, 1)\n",
              "┌─────┐\n",
              "│ AGE │\n",
              "│ --- │\n",
              "│ i64 │\n",
              "╞═════╡\n",
              "│ 43  │\n",
              "└─────┘"
            ]
          },
          "execution_count": 6,
          "metadata": {},
          "output_type": "execute_result"
        }
      ],
      "source": [
        "candidates = list(range(100))\n",
        "quantile = 0.5\n",
        "\n",
        "dp_median = context.query().select(\n",
        "    pl.col(\"AGE\").fill_null(mean_age).dp.quantile(quantile, candidates)\n",
        ").release().collect()\n",
        "dp_median"
      ]
    },
    {
      "cell_type": "markdown",
      "metadata": {
        "id": "bBAzynSmXVbO"
      },
      "source": [
        "### Multiple Quantiles for the Same Variable"
      ]
    },
    {
      "cell_type": "markdown",
      "metadata": {
        "id": "QCOfRA9_XVbO"
      },
      "source": [
        "To compute multiple quantiles for the same variable, we can use list comprehension to specify multiple quantiles in our query."
      ]
    },
    {
      "cell_type": "code",
      "execution_count": 7,
      "metadata": {
        "colab": {
          "base_uri": "https://localhost:8080/",
          "height": 128
        },
        "id": "JuliF45iXVbO",
        "outputId": "84a800f0-c323-4408-a66d-1f0395eede64"
      },
      "outputs": [
        {
          "data": {
            "text/html": [
              "<div><style>\n",
              ".dataframe > thead > tr,\n",
              ".dataframe > tbody > tr {\n",
              "  text-align: right;\n",
              "  white-space: pre-wrap;\n",
              "}\n",
              "</style>\n",
              "<small>shape: (1, 3)</small><table border=\"1\" class=\"dataframe\"><thead><tr><th>Quantile_0.25</th><th>Quantile_0.5</th><th>Quantile_0.75</th></tr><tr><td>i64</td><td>i64</td><td>i64</td></tr></thead><tbody><tr><td>20</td><td>34</td><td>56</td></tr></tbody></table></div>"
            ],
            "text/plain": [
              "shape: (1, 3)\n",
              "┌───────────────┬──────────────┬───────────────┐\n",
              "│ Quantile_0.25 ┆ Quantile_0.5 ┆ Quantile_0.75 │\n",
              "│ ---           ┆ ---          ┆ ---           │\n",
              "│ i64           ┆ i64          ┆ i64           │\n",
              "╞═══════════════╪══════════════╪═══════════════╡\n",
              "│ 20            ┆ 34           ┆ 56            │\n",
              "└───────────────┴──────────────┴───────────────┘"
            ]
          },
          "execution_count": 7,
          "metadata": {},
          "output_type": "execute_result"
        }
      ],
      "source": [
        "multiple_quantiles = context.query().select(\n",
        "    [pl.col(\"AGE\").fill_null(40).dp.quantile(q, list(range(120))).alias(f\"Quantile_{q}\") for q in [0.25, 0.5, 0.75]]\n",
        ").release().collect()\n",
        "multiple_quantiles"
      ]
    },
    {
      "cell_type": "markdown",
      "metadata": {
        "id": "fYAFhv6vXVbO"
      },
      "source": [
        "Notice that we also specified a different alias for each column. Polars uses the original column name on derived columns, so aliases are needed to distinguish these columns."
      ]
    },
    {
      "cell_type": "markdown",
      "metadata": {
        "id": "zA0D8TeJXVbO"
      },
      "source": [
        "## Breaking Down the Quantile Method"
      ]
    },
    {
      "cell_type": "markdown",
      "metadata": {
        "id": "TyHOsKIiXVbO"
      },
      "source": [
        "Now that you know how to use the quantile method, we can also break it down for you a little more."
      ]
    },
    {
      "cell_type": "markdown",
      "metadata": {
        "id": "Y2bdy-0SXVbO"
      },
      "source": [
        "### 1. Compute the Discrete Quantile Score for Each Candidate"
      ]
    },
    {
      "cell_type": "markdown",
      "metadata": {
        "id": "6XSkx3kiXVbO"
      },
      "source": [
        "The `discrete_quantile_score` function takes in the same parameters as the quantile function. It computes a utility score for each candidate quantile that represents how close each candidate is to the true quantile. Lower scores are closer to 0 are more accurate"
      ]
    },
    {
      "cell_type": "code",
      "execution_count": 8,
      "metadata": {
        "colab": {
          "base_uri": "https://localhost:8080/",
          "height": 34
        },
        "id": "kjimJcc-XVbP",
        "outputId": "bc3975d1-5d88-49b1-9041-c0926a22f538"
      },
      "outputs": [
        {
          "data": {
            "text/html": [
              "col(\"AGE\").fill_null([39.813226])./Library/Frameworks/Python.framework/Versions/3.12/lib/python3.12/site-packages/opendp/lib/opendp.abi3.so:discrete_quantile_score()"
            ],
            "text/plain": [
              "<Expr ['col(\"AGE\").fill_null([39.81322…'] at 0x308919E20>"
            ]
          },
          "execution_count": 8,
          "metadata": {},
          "output_type": "execute_result"
        }
      ],
      "source": [
        "discrete_scores = pl.col(\"AGE\").fill_null(mean_age).dp._discrete_quantile_score(quantile, candidates)\n",
        "discrete_scores"
      ]
    },
    {
      "cell_type": "markdown",
      "metadata": {
        "id": "IBR9c79rXVbP"
      },
      "source": [
        "### 2. Add Noise and Return Index of Candidate with Lowest Score"
      ]
    },
    {
      "cell_type": "markdown",
      "metadata": {
        "id": "kr-MK9JCXVbP"
      },
      "source": [
        "We now pass the scores to the '_report_noisy_max_gumbel' function. This adds Gumbel noise to the score and returns index of the candidate that has the lowest score."
      ]
    },
    {
      "cell_type": "code",
      "execution_count": 9,
      "metadata": {
        "colab": {
          "base_uri": "https://localhost:8080/",
          "height": 68
        },
        "id": "gfYQAORoXVbP",
        "outputId": "1656aa70-9cfa-4792-b1d9-130b624c6259"
      },
      "outputs": [
        {
          "data": {
            "text/html": [
              "col(\"AGE\").fill_null([39.813226])./Library/Frameworks/Python.framework/Versions/3.12/lib/python3.12/site-packages/opendp/lib/opendp.abi3.so:discrete_quantile_score()./Library/Frameworks/Python.framework/Versions/3.12/lib/python3.12/site-packages/opendp/lib/opendp.abi3.so:report_noisy_max_gumbel()"
            ],
            "text/plain": [
              "<Expr ['col(\"AGE\").fill_null([39.81322…'] at 0x3089D2AE0>"
            ]
          },
          "execution_count": 9,
          "metadata": {},
          "output_type": "execute_result"
        }
      ],
      "source": [
        "noisy_index = discrete_scores.dp._report_noisy_max_gumbel(\"min\")\n",
        "noisy_index"
      ]
    },
    {
      "cell_type": "markdown",
      "metadata": {
        "id": "_i5KGjksXVbP"
      },
      "source": [
        "### 3. Return the Corresponding Quantile Value"
      ]
    },
    {
      "cell_type": "markdown",
      "metadata": {
        "id": "Ug-FYwAhXVbP"
      },
      "source": [
        "We pass the index obtained in the last function to '_index_candidates function' which maps the index to its corresponding candidate value. This differentially private quantile estimate is our final result!"
      ]
    },
    {
      "cell_type": "code",
      "execution_count": 10,
      "metadata": {
        "colab": {
          "base_uri": "https://localhost:8080/",
          "height": 85
        },
        "id": "Me0_rz3pXVbP",
        "outputId": "a963252e-cfee-44a7-cfa7-ad4d20b0aa3b"
      },
      "outputs": [
        {
          "data": {
            "text/html": [
              "col(\"AGE\").fill_null([39.813226])./Library/Frameworks/Python.framework/Versions/3.12/lib/python3.12/site-packages/opendp/lib/opendp.abi3.so:discrete_quantile_score()./Library/Frameworks/Python.framework/Versions/3.12/lib/python3.12/site-packages/opendp/lib/opendp.abi3.so:report_noisy_max_gumbel()./Library/Frameworks/Python.framework/Versions/3.12/lib/python3.12/site-packages/opendp/lib/opendp.abi3.so:index_candidates()"
            ],
            "text/plain": [
              "<Expr ['col(\"AGE\").fill_null([39.81322…'] at 0x30BD82E10>"
            ]
          },
          "execution_count": 10,
          "metadata": {},
          "output_type": "execute_result"
        }
      ],
      "source": [
        "final_result = noisy_index.dp._index_candidates(candidates)\n",
        "final_result"
      ]
    },
    {
      "cell_type": "code",
      "execution_count": 11,
      "metadata": {
        "colab": {
          "base_uri": "https://localhost:8080/",
          "height": 128
        },
        "id": "er5jQ--wXVbQ",
        "outputId": "894e662a-c19e-4ce7-afcf-ec5f0a3b03be"
      },
      "outputs": [
        {
          "data": {
            "text/html": [
              "<div><style>\n",
              ".dataframe > thead > tr,\n",
              ".dataframe > tbody > tr {\n",
              "  text-align: right;\n",
              "  white-space: pre-wrap;\n",
              "}\n",
              "</style>\n",
              "<small>shape: (1, 1)</small><table border=\"1\" class=\"dataframe\"><thead><tr><th>AGE</th></tr><tr><td>i64</td></tr></thead><tbody><tr><td>41</td></tr></tbody></table></div>"
            ],
            "text/plain": [
              "shape: (1, 1)\n",
              "┌─────┐\n",
              "│ AGE │\n",
              "│ --- │\n",
              "│ i64 │\n",
              "╞═════╡\n",
              "│ 41  │\n",
              "└─────┘"
            ]
          },
          "execution_count": 11,
          "metadata": {},
          "output_type": "execute_result"
        }
      ],
      "source": [
        "context.query().select(final_result).release().collect()"
      ]
    },
    {
      "cell_type": "markdown",
      "metadata": {
        "id": "OGCb2MvkXVbQ"
      },
      "source": [
        "## Conclusion"
      ]
    },
    {
      "cell_type": "markdown",
      "metadata": {
        "id": "9SHBKZE9XVbR"
      },
      "source": [
        "In this notebook, we covered how to use the OpenDP Context API with Polars to compute differentially private quantiles and explained the methodology.\n",
        "\n",
        "If you have any ideas on how to improve this notebook or specific content you'd like to see in future notebooks, let us know here!"
      ]
    }
  ],
  "metadata": {
    "colab": {
      "provenance": []
    },
    "kernelspec": {
      "display_name": ".venv",
      "language": "python",
      "name": "python3"
    },
    "language_info": {
      "codemirror_mode": {
        "name": "ipython",
        "version": 3
      },
      "file_extension": ".py",
      "mimetype": "text/x-python",
      "name": "python",
      "nbconvert_exporter": "python",
      "pygments_lexer": "ipython3",
      "version": "3.12.3"
    }
  },
  "nbformat": 4,
  "nbformat_minor": 0
}
