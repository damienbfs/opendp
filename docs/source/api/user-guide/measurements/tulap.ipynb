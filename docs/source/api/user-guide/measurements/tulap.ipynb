{
 "cells": [
  {
   "cell_type": "markdown",
   "metadata": {},
   "source": [
    "# Tulap Mechanism"
   ]
  },
  {
   "cell_type": "markdown",
   "metadata": {},
   "source": [
    "The Tulap mechanism is well-suited for privatizing estimates that follow a binomial distribution,\n",
    "like a count (or boolean sum).\n",
    "\n",
    "An example of this can be found when counting the number of married people in the California demographics dataset,\n",
    "a microdata-level dataset with attributes for age, sex, education, race, income and marriage status."
   ]
  },
  {
   "cell_type": "code",
   "execution_count": 1,
   "metadata": {},
   "outputs": [],
   "source": [
    "![ -e data.csv ] || wget https://raw.githubusercontent.com/opendp/opendp/main/docs/source/data/PUMS_california_demographics_1000/data.csv"
   ]
  },
  {
   "cell_type": "code",
   "execution_count": 2,
   "metadata": {},
   "outputs": [],
   "source": [
    "data = open(\"data.csv\").read()"
   ]
  },
  {
   "cell_type": "markdown",
   "metadata": {},
   "source": [
    "We'll use the Tulap mechanism to conduct statistical inference on the 'married' column,\n",
    "where values are either 0 or 1, indicating marriage status.\n",
    "\n",
    "The following transformation parses a CSV and sums."
   ]
  },
  {
   "cell_type": "code",
   "execution_count": 3,
   "metadata": {},
   "outputs": [
    {
     "data": {
      "text/plain": [
       "549.0"
      ]
     },
     "execution_count": 3,
     "metadata": {},
     "output_type": "execute_result"
    }
   ],
   "source": [
    "import opendp.prelude as dp\n",
    "dp.enable_features(\"contrib\")\n",
    "\n",
    "t_count_married = (\n",
    "    dp.t.make_split_dataframe(\",\", col_names=[\"age\", \"sex\", \"educ\", \"race\", \"income\", \"married\"]) >>\n",
    "    dp.t.make_select_column(\"married\", str) >>\n",
    "    dp.t.then_cast_default(float) >>\n",
    "    dp.t.then_clamp((0., 1.)) >>\n",
    "    dp.t.then_sum()\n",
    ")\n",
    "\n",
    "# what is the exact number of married individuals?\n",
    "t_count_married(data)"
   ]
  },
  {
   "cell_type": "markdown",
   "metadata": {},
   "source": [
    "The Tulap mechanism behaves similarly to the Laplace or Gaussian mechanism in that it is an additive noise mechanism.\n",
    "\n",
    "> At this time, the implementation of the Tulap mechanism in OpenDP only supports scalar-valued float inputs with a sensitivity at most one."
   ]
  },
  {
   "cell_type": "code",
   "execution_count": 4,
   "metadata": {},
   "outputs": [
    {
     "data": {
      "text/plain": [
       "547.2191955328317"
      ]
     },
     "execution_count": 4,
     "metadata": {},
     "output_type": "execute_result"
    }
   ],
   "source": [
    "epsilon, delta = 0.1, 1e-8\n",
    "m_count_married = t_count_married >> dp.m.then_tulap(epsilon=epsilon, delta=delta)\n",
    "\n",
    "# what is the DP estimate of the number of married individuals?\n",
    "private_estimate = m_count_married(data)\n",
    "private_estimate"
   ]
  },
  {
   "cell_type": "markdown",
   "metadata": {},
   "source": [
    "The Tulap mechanism comes with a collection of utilities for conducting hypothesis tests and constructing confidence intervals in the setting where data is binomially distributed."
   ]
  },
  {
   "cell_type": "code",
   "execution_count": 5,
   "metadata": {},
   "outputs": [
    {
     "data": {
      "text/plain": [
       "Tulap(553.6118727191592)"
      ]
     },
     "execution_count": 5,
     "metadata": {},
     "output_type": "execute_result"
    }
   ],
   "source": [
    "epsilon, delta = 0.1, 1e-8\n",
    "from opendp._extrinsics.tulap import then_binomial_tulap\n",
    "m_count_married = t_count_married >> then_binomial_tulap(epsilon, delta, size=1_000)\n",
    "m_count_married(data)"
   ]
  },
  {
   "cell_type": "markdown",
   "metadata": {},
   "source": [
    "### Step 1: Initiating the Tulap Object\n",
    "\n",
    "We can initiate a Tulap object by epsilon, delta and the length of the data. The epsilon and delta specified will be used as the parameters of the Tulap distribution. The distribution is constructed by combination of discrete Laplace noise and continuous uniform noise. See proof for how epsilon and delta are related to the parameters of the Tulap distribution"
   ]
  },
  {
   "cell_type": "code",
   "execution_count": 7,
   "metadata": {},
   "outputs": [],
   "source": [
    "from opendp._extrinsics.tulap import Tulap\n",
    "tulap_married = Tulap(private_estimate, epsilon=epsilon, delta=delta, size=1_000)"
   ]
  },
  {
   "cell_type": "markdown",
   "metadata": {},
   "source": [
    "Let's construct one-sided DP UMP test for theta = 0.5  as null hypothesis and theta > 0.5 as alternate hypothesis.  "
   ]
  },
  {
   "cell_type": "code",
   "execution_count": 8,
   "metadata": {},
   "outputs": [
    {
     "name": "stdout",
     "output_type": "stream",
     "text": [
      "UMP Test Result for 'married': [0. 0. 0. ... 1. 1. 1.]\n"
     ]
    }
   ],
   "source": [
    "alpha = 0.05\n",
    "theta = 0.5\n",
    "ump_result_married = tulap_married.ump_test(theta, alpha, 'left')\n",
    "print(\"UMP Test Result for 'married':\", ump_result_married)"
   ]
  },
  {
   "cell_type": "markdown",
   "metadata": {},
   "source": [
    "### Calculate p-values"
   ]
  },
  {
   "cell_type": "markdown",
   "metadata": {},
   "source": [
    "For the same null hypothesis with theta = 0.5, we can calculate one sided p value for sex and marriage as below:\n",
    "\n",
    "The p values obtained are private"
   ]
  },
  {
   "cell_type": "code",
   "execution_count": 9,
   "metadata": {},
   "outputs": [
    {
     "name": "stdout",
     "output_type": "stream",
     "text": [
      "P-value for 'married': 0.9847932435885637\n"
     ]
    }
   ],
   "source": [
    "p_value_married = tulap_married.p_value(theta, 'left')\n",
    "\n",
    "print(\"P-value for 'married':\", p_value_married)\n"
   ]
  },
  {
   "cell_type": "markdown",
   "metadata": {},
   "source": [
    "### Calculate Confidence Interval"
   ]
  },
  {
   "cell_type": "markdown",
   "metadata": {},
   "source": [
    "The 95% one sided confidence interval for theta = 0.5 is shown below:"
   ]
  },
  {
   "cell_type": "code",
   "execution_count": 11,
   "metadata": {},
   "outputs": [
    {
     "name": "stdout",
     "output_type": "stream",
     "text": [
      "binary search, stepsize =  0.001\n"
     ]
    },
    {
     "ename": "TypeError",
     "evalue": "oneside_pvalue() missing 1 required positional argument: 'theta'",
     "output_type": "error",
     "traceback": [
      "\u001b[0;31m---------------------------------------------------------------------------\u001b[0m",
      "\u001b[0;31mTypeError\u001b[0m                                 Traceback (most recent call last)",
      "Cell \u001b[0;32mIn[11], line 1\u001b[0m\n\u001b[0;32m----> 1\u001b[0m ci_married_lower \u001b[38;5;241m=\u001b[39m \u001b[43mtulap_married\u001b[49m\u001b[38;5;241;43m.\u001b[39;49m\u001b[43mCI\u001b[49m\u001b[43m(\u001b[49m\u001b[43malpha\u001b[49m\u001b[43m,\u001b[49m\u001b[43m \u001b[49m\u001b[38;5;124;43m'\u001b[39;49m\u001b[38;5;124;43mlower\u001b[39;49m\u001b[38;5;124;43m'\u001b[39;49m\u001b[43m)\u001b[49m\n\u001b[1;32m      3\u001b[0m \u001b[38;5;28mprint\u001b[39m(\u001b[38;5;124m\"\u001b[39m\u001b[38;5;124mLower Confidence Interval for \u001b[39m\u001b[38;5;124m'\u001b[39m\u001b[38;5;124mmarried\u001b[39m\u001b[38;5;124m'\u001b[39m\u001b[38;5;124m:\u001b[39m\u001b[38;5;124m\"\u001b[39m, ci_married_lower)\n",
      "File \u001b[0;32m~/openDP/openDP/python/src/opendp/_extrinsics/tulap/postprocessors.py:33\u001b[0m, in \u001b[0;36mTulap.CI\u001b[0;34m(self, alpha, tail)\u001b[0m\n\u001b[1;32m     30\u001b[0m     \u001b[38;5;28;01mreturn\u001b[39;00m CI_twoside(\u001b[38;5;28mself\u001b[39m\u001b[38;5;241m.\u001b[39mdata, alpha, \u001b[38;5;28mself\u001b[39m\u001b[38;5;241m.\u001b[39msize, \u001b[38;5;28mself\u001b[39m\u001b[38;5;241m.\u001b[39mepsilon, \u001b[38;5;28mself\u001b[39m\u001b[38;5;241m.\u001b[39mdelta)\n\u001b[1;32m     32\u001b[0m \u001b[38;5;28;01mif\u001b[39;00m tail \u001b[38;5;129;01min\u001b[39;00m {\u001b[38;5;124m\"\u001b[39m\u001b[38;5;124mlower\u001b[39m\u001b[38;5;124m\"\u001b[39m, \u001b[38;5;124m\"\u001b[39m\u001b[38;5;124mupper\u001b[39m\u001b[38;5;124m\"\u001b[39m}:\n\u001b[0;32m---> 33\u001b[0m     \u001b[38;5;28;01mreturn\u001b[39;00m \u001b[43mCI_oneside\u001b[49m\u001b[43m(\u001b[49m\n\u001b[1;32m     34\u001b[0m \u001b[43m        \u001b[49m\u001b[38;5;28;43mself\u001b[39;49m\u001b[38;5;241;43m.\u001b[39;49m\u001b[43mdata\u001b[49m\u001b[43m,\u001b[49m\u001b[43m \u001b[49m\u001b[43malpha\u001b[49m\u001b[43m,\u001b[49m\u001b[43m \u001b[49m\u001b[38;5;28;43mself\u001b[39;49m\u001b[38;5;241;43m.\u001b[39;49m\u001b[43msize\u001b[49m\u001b[43m,\u001b[49m\u001b[43m \u001b[49m\u001b[38;5;28;43mself\u001b[39;49m\u001b[38;5;241;43m.\u001b[39;49m\u001b[43mepsilon\u001b[49m\u001b[43m,\u001b[49m\u001b[43m \u001b[49m\u001b[38;5;28;43mself\u001b[39;49m\u001b[38;5;241;43m.\u001b[39;49m\u001b[43mdelta\u001b[49m\u001b[43m,\u001b[49m\u001b[43m \u001b[49m\u001b[43mtail\u001b[49m\n\u001b[1;32m     35\u001b[0m \u001b[43m    \u001b[49m\u001b[43m)\u001b[49m\n\u001b[1;32m     37\u001b[0m \u001b[38;5;28;01mraise\u001b[39;00m \u001b[38;5;167;01mValueError\u001b[39;00m(\u001b[38;5;124m\"\u001b[39m\u001b[38;5;124mtail must be None, lower or upper\u001b[39m\u001b[38;5;124m\"\u001b[39m)\n",
      "File \u001b[0;32m~/openDP/openDP/python/src/opendp/_extrinsics/tulap/postprocessors.py:226\u001b[0m, in \u001b[0;36mCI_oneside\u001b[0;34m(Z, alpha, size, epsilon, delta, tail)\u001b[0m\n\u001b[1;32m    217\u001b[0m \u001b[38;5;28;01melif\u001b[39;00m tail \u001b[38;5;241m==\u001b[39m \u001b[38;5;124m\"\u001b[39m\u001b[38;5;124mupper\u001b[39m\u001b[38;5;124m\"\u001b[39m:\n\u001b[1;32m    218\u001b[0m     CIobj \u001b[38;5;241m=\u001b[39m \u001b[38;5;28;01mlambda\u001b[39;00m x: (\n\u001b[1;32m    219\u001b[0m         (\n\u001b[1;32m    220\u001b[0m             oneside_pvalue(\n\u001b[0;32m   (...)\u001b[0m\n\u001b[1;32m    224\u001b[0m         \u001b[38;5;241m-\u001b[39m (\u001b[38;5;241m1\u001b[39m \u001b[38;5;241m-\u001b[39m alpha)\n\u001b[1;32m    225\u001b[0m     )\n\u001b[0;32m--> 226\u001b[0m \u001b[38;5;28;01mreturn\u001b[39;00m \u001b[43mminimize_scalar\u001b[49m\u001b[43m(\u001b[49m\u001b[43mfun\u001b[49m\u001b[38;5;241;43m=\u001b[39;49m\u001b[43mCIobj\u001b[49m\u001b[43m,\u001b[49m\u001b[43m \u001b[49m\u001b[43mmethod\u001b[49m\u001b[38;5;241;43m=\u001b[39;49m\u001b[43mcustmin\u001b[49m\u001b[43m,\u001b[49m\u001b[43m \u001b[49m\u001b[43mbracket\u001b[49m\u001b[38;5;241;43m=\u001b[39;49m\u001b[43m(\u001b[49m\u001b[38;5;241;43m0\u001b[39;49m\u001b[43m,\u001b[49m\u001b[43m \u001b[49m\u001b[38;5;241;43m1\u001b[39;49m\u001b[43m)\u001b[49m\u001b[43m)\u001b[49m\u001b[38;5;241m.\u001b[39mx\n",
      "File \u001b[0;32m~/openDP/openDP/.venv/lib/python3.12/site-packages/scipy/optimize/_minimize.py:937\u001b[0m, in \u001b[0;36mminimize_scalar\u001b[0;34m(fun, bracket, bounds, args, method, tol, options)\u001b[0m\n\u001b[1;32m    934\u001b[0m     options[\u001b[38;5;124m'\u001b[39m\u001b[38;5;124mdisp\u001b[39m\u001b[38;5;124m'\u001b[39m] \u001b[38;5;241m=\u001b[39m \u001b[38;5;241m2\u001b[39m \u001b[38;5;241m*\u001b[39m \u001b[38;5;28mint\u001b[39m(disp)\n\u001b[1;32m    936\u001b[0m \u001b[38;5;28;01mif\u001b[39;00m meth \u001b[38;5;241m==\u001b[39m \u001b[38;5;124m'\u001b[39m\u001b[38;5;124m_custom\u001b[39m\u001b[38;5;124m'\u001b[39m:\n\u001b[0;32m--> 937\u001b[0m     res \u001b[38;5;241m=\u001b[39m \u001b[43mmethod\u001b[49m\u001b[43m(\u001b[49m\u001b[43mfun\u001b[49m\u001b[43m,\u001b[49m\u001b[43m \u001b[49m\u001b[43margs\u001b[49m\u001b[38;5;241;43m=\u001b[39;49m\u001b[43margs\u001b[49m\u001b[43m,\u001b[49m\u001b[43m \u001b[49m\u001b[43mbracket\u001b[49m\u001b[38;5;241;43m=\u001b[39;49m\u001b[43mbracket\u001b[49m\u001b[43m,\u001b[49m\u001b[43m \u001b[49m\u001b[43mbounds\u001b[49m\u001b[38;5;241;43m=\u001b[39;49m\u001b[43mbounds\u001b[49m\u001b[43m,\u001b[49m\u001b[43m \u001b[49m\u001b[38;5;241;43m*\u001b[39;49m\u001b[38;5;241;43m*\u001b[39;49m\u001b[43moptions\u001b[49m\u001b[43m)\u001b[49m\n\u001b[1;32m    938\u001b[0m \u001b[38;5;28;01melif\u001b[39;00m meth \u001b[38;5;241m==\u001b[39m \u001b[38;5;124m'\u001b[39m\u001b[38;5;124mbrent\u001b[39m\u001b[38;5;124m'\u001b[39m:\n\u001b[1;32m    939\u001b[0m     res \u001b[38;5;241m=\u001b[39m _recover_from_bracket_error(_minimize_scalar_brent,\n\u001b[1;32m    940\u001b[0m                                       fun, bracket, args, \u001b[38;5;241m*\u001b[39m\u001b[38;5;241m*\u001b[39moptions)\n",
      "File \u001b[0;32m~/openDP/openDP/python/src/opendp/_extrinsics/tulap/postprocessors.py:167\u001b[0m, in \u001b[0;36mCI_oneside.<locals>.custmin\u001b[0;34m(fun, bracket, args, maxfev, stepsize, maxiter, callback, **options)\u001b[0m\n\u001b[1;32m    165\u001b[0m mid \u001b[38;5;241m=\u001b[39m (lower \u001b[38;5;241m+\u001b[39m upper) \u001b[38;5;241m/\u001b[39m \u001b[38;5;241m2.0\u001b[39m\n\u001b[1;32m    166\u001b[0m bestx \u001b[38;5;241m=\u001b[39m mid\n\u001b[0;32m--> 167\u001b[0m besty \u001b[38;5;241m=\u001b[39m \u001b[43mfun\u001b[49m\u001b[43m(\u001b[49m\u001b[43mmid\u001b[49m\u001b[43m,\u001b[49m\u001b[43m \u001b[49m\u001b[38;5;241;43m*\u001b[39;49m\u001b[43margs\u001b[49m\u001b[43m)\u001b[49m\n\u001b[1;32m    168\u001b[0m min_diff \u001b[38;5;241m=\u001b[39m \u001b[38;5;241m1e-6\u001b[39m\n\u001b[1;32m    170\u001b[0m \u001b[38;5;28;01mwhile\u001b[39;00m lower \u001b[38;5;241m<\u001b[39m\u001b[38;5;241m=\u001b[39m upper:\n",
      "File \u001b[0;32m~/openDP/openDP/python/src/opendp/_extrinsics/tulap/postprocessors.py:210\u001b[0m, in \u001b[0;36mCI_oneside.<locals>.<lambda>\u001b[0;34m(x)\u001b[0m\n\u001b[1;32m    206\u001b[0m Z \u001b[38;5;241m=\u001b[39m np\u001b[38;5;241m.\u001b[39marray(Z)\n\u001b[1;32m    207\u001b[0m \u001b[38;5;28;01mif\u001b[39;00m tail \u001b[38;5;241m==\u001b[39m \u001b[38;5;124m\"\u001b[39m\u001b[38;5;124mlower\u001b[39m\u001b[38;5;124m\"\u001b[39m:\n\u001b[1;32m    208\u001b[0m     CIobj \u001b[38;5;241m=\u001b[39m (\n\u001b[1;32m    209\u001b[0m         \u001b[38;5;28;01mlambda\u001b[39;00m x: (\n\u001b[0;32m--> 210\u001b[0m             \u001b[43moneside_pvalue\u001b[49m\u001b[43m(\u001b[49m\n\u001b[1;32m    211\u001b[0m \u001b[43m                \u001b[49m\u001b[43mx\u001b[49m\u001b[43m,\u001b[49m\u001b[43m \u001b[49m\u001b[43msize\u001b[49m\u001b[38;5;241;43m=\u001b[39;49m\u001b[43msize\u001b[49m\u001b[43m,\u001b[49m\u001b[43m \u001b[49m\u001b[43mepsilon\u001b[49m\u001b[38;5;241;43m=\u001b[39;49m\u001b[43mepsilon\u001b[49m\u001b[43m,\u001b[49m\u001b[43m \u001b[49m\u001b[43mdelta\u001b[49m\u001b[38;5;241;43m=\u001b[39;49m\u001b[43mdelta\u001b[49m\u001b[43m,\u001b[49m\u001b[43m \u001b[49m\u001b[43mtail\u001b[49m\u001b[38;5;241;43m=\u001b[39;49m\u001b[38;5;124;43m\"\u001b[39;49m\u001b[38;5;124;43mright\u001b[39;49m\u001b[38;5;124;43m\"\u001b[39;49m\n\u001b[1;32m    212\u001b[0m \u001b[43m            \u001b[49m\u001b[43m)\u001b[49m(Z)[\u001b[38;5;241m0\u001b[39m]\n\u001b[1;32m    213\u001b[0m         )\n\u001b[1;32m    214\u001b[0m         \u001b[38;5;241m-\u001b[39m alpha\n\u001b[1;32m    215\u001b[0m     )\n\u001b[1;32m    217\u001b[0m \u001b[38;5;28;01melif\u001b[39;00m tail \u001b[38;5;241m==\u001b[39m \u001b[38;5;124m\"\u001b[39m\u001b[38;5;124mupper\u001b[39m\u001b[38;5;124m\"\u001b[39m:\n\u001b[1;32m    218\u001b[0m     CIobj \u001b[38;5;241m=\u001b[39m \u001b[38;5;28;01mlambda\u001b[39;00m x: (\n\u001b[1;32m    219\u001b[0m         (\n\u001b[1;32m    220\u001b[0m             oneside_pvalue(\n\u001b[0;32m   (...)\u001b[0m\n\u001b[1;32m    224\u001b[0m         \u001b[38;5;241m-\u001b[39m (\u001b[38;5;241m1\u001b[39m \u001b[38;5;241m-\u001b[39m alpha)\n\u001b[1;32m    225\u001b[0m     )\n",
      "\u001b[0;31mTypeError\u001b[0m: oneside_pvalue() missing 1 required positional argument: 'theta'"
     ]
    }
   ],
   "source": [
    "ci_married_lower = tulap_married.CI(alpha, 'lower')\n",
    "\n",
    "print(\"Lower Confidence Interval for 'married':\", ci_married_lower)"
   ]
  },
  {
   "cell_type": "markdown",
   "metadata": {},
   "source": [
    "Similarly upper CI for theta = 0.5 can also be calculated"
   ]
  },
  {
   "cell_type": "code",
   "execution_count": 12,
   "metadata": {},
   "outputs": [
    {
     "name": "stdout",
     "output_type": "stream",
     "text": [
      "binary search, stepsize =  0.001\n"
     ]
    },
    {
     "ename": "TypeError",
     "evalue": "oneside_pvalue() missing 1 required positional argument: 'theta'",
     "output_type": "error",
     "traceback": [
      "\u001b[0;31m---------------------------------------------------------------------------\u001b[0m",
      "\u001b[0;31mTypeError\u001b[0m                                 Traceback (most recent call last)",
      "Cell \u001b[0;32mIn[12], line 1\u001b[0m\n\u001b[0;32m----> 1\u001b[0m ci_married_upper \u001b[38;5;241m=\u001b[39m \u001b[43mtulap_married\u001b[49m\u001b[38;5;241;43m.\u001b[39;49m\u001b[43mCI\u001b[49m\u001b[43m(\u001b[49m\u001b[43malpha\u001b[49m\u001b[43m,\u001b[49m\u001b[43m \u001b[49m\u001b[38;5;124;43m'\u001b[39;49m\u001b[38;5;124;43mupper\u001b[39;49m\u001b[38;5;124;43m'\u001b[39;49m\u001b[43m)\u001b[49m\n\u001b[1;32m      2\u001b[0m \u001b[38;5;28mprint\u001b[39m(\u001b[38;5;124m\"\u001b[39m\u001b[38;5;124mUpper Confidence Interval for \u001b[39m\u001b[38;5;124m'\u001b[39m\u001b[38;5;124mmarried\u001b[39m\u001b[38;5;124m'\u001b[39m\u001b[38;5;124m:\u001b[39m\u001b[38;5;124m\"\u001b[39m, ci_married_upper)\n",
      "File \u001b[0;32m~/openDP/openDP/python/src/opendp/_extrinsics/tulap/postprocessors.py:33\u001b[0m, in \u001b[0;36mTulap.CI\u001b[0;34m(self, alpha, tail)\u001b[0m\n\u001b[1;32m     30\u001b[0m     \u001b[38;5;28;01mreturn\u001b[39;00m CI_twoside(\u001b[38;5;28mself\u001b[39m\u001b[38;5;241m.\u001b[39mdata, alpha, \u001b[38;5;28mself\u001b[39m\u001b[38;5;241m.\u001b[39msize, \u001b[38;5;28mself\u001b[39m\u001b[38;5;241m.\u001b[39mepsilon, \u001b[38;5;28mself\u001b[39m\u001b[38;5;241m.\u001b[39mdelta)\n\u001b[1;32m     32\u001b[0m \u001b[38;5;28;01mif\u001b[39;00m tail \u001b[38;5;129;01min\u001b[39;00m {\u001b[38;5;124m\"\u001b[39m\u001b[38;5;124mlower\u001b[39m\u001b[38;5;124m\"\u001b[39m, \u001b[38;5;124m\"\u001b[39m\u001b[38;5;124mupper\u001b[39m\u001b[38;5;124m\"\u001b[39m}:\n\u001b[0;32m---> 33\u001b[0m     \u001b[38;5;28;01mreturn\u001b[39;00m \u001b[43mCI_oneside\u001b[49m\u001b[43m(\u001b[49m\n\u001b[1;32m     34\u001b[0m \u001b[43m        \u001b[49m\u001b[38;5;28;43mself\u001b[39;49m\u001b[38;5;241;43m.\u001b[39;49m\u001b[43mdata\u001b[49m\u001b[43m,\u001b[49m\u001b[43m \u001b[49m\u001b[43malpha\u001b[49m\u001b[43m,\u001b[49m\u001b[43m \u001b[49m\u001b[38;5;28;43mself\u001b[39;49m\u001b[38;5;241;43m.\u001b[39;49m\u001b[43msize\u001b[49m\u001b[43m,\u001b[49m\u001b[43m \u001b[49m\u001b[38;5;28;43mself\u001b[39;49m\u001b[38;5;241;43m.\u001b[39;49m\u001b[43mepsilon\u001b[49m\u001b[43m,\u001b[49m\u001b[43m \u001b[49m\u001b[38;5;28;43mself\u001b[39;49m\u001b[38;5;241;43m.\u001b[39;49m\u001b[43mdelta\u001b[49m\u001b[43m,\u001b[49m\u001b[43m \u001b[49m\u001b[43mtail\u001b[49m\n\u001b[1;32m     35\u001b[0m \u001b[43m    \u001b[49m\u001b[43m)\u001b[49m\n\u001b[1;32m     37\u001b[0m \u001b[38;5;28;01mraise\u001b[39;00m \u001b[38;5;167;01mValueError\u001b[39;00m(\u001b[38;5;124m\"\u001b[39m\u001b[38;5;124mtail must be None, lower or upper\u001b[39m\u001b[38;5;124m\"\u001b[39m)\n",
      "File \u001b[0;32m~/openDP/openDP/python/src/opendp/_extrinsics/tulap/postprocessors.py:226\u001b[0m, in \u001b[0;36mCI_oneside\u001b[0;34m(Z, alpha, size, epsilon, delta, tail)\u001b[0m\n\u001b[1;32m    217\u001b[0m \u001b[38;5;28;01melif\u001b[39;00m tail \u001b[38;5;241m==\u001b[39m \u001b[38;5;124m\"\u001b[39m\u001b[38;5;124mupper\u001b[39m\u001b[38;5;124m\"\u001b[39m:\n\u001b[1;32m    218\u001b[0m     CIobj \u001b[38;5;241m=\u001b[39m \u001b[38;5;28;01mlambda\u001b[39;00m x: (\n\u001b[1;32m    219\u001b[0m         (\n\u001b[1;32m    220\u001b[0m             oneside_pvalue(\n\u001b[0;32m   (...)\u001b[0m\n\u001b[1;32m    224\u001b[0m         \u001b[38;5;241m-\u001b[39m (\u001b[38;5;241m1\u001b[39m \u001b[38;5;241m-\u001b[39m alpha)\n\u001b[1;32m    225\u001b[0m     )\n\u001b[0;32m--> 226\u001b[0m \u001b[38;5;28;01mreturn\u001b[39;00m \u001b[43mminimize_scalar\u001b[49m\u001b[43m(\u001b[49m\u001b[43mfun\u001b[49m\u001b[38;5;241;43m=\u001b[39;49m\u001b[43mCIobj\u001b[49m\u001b[43m,\u001b[49m\u001b[43m \u001b[49m\u001b[43mmethod\u001b[49m\u001b[38;5;241;43m=\u001b[39;49m\u001b[43mcustmin\u001b[49m\u001b[43m,\u001b[49m\u001b[43m \u001b[49m\u001b[43mbracket\u001b[49m\u001b[38;5;241;43m=\u001b[39;49m\u001b[43m(\u001b[49m\u001b[38;5;241;43m0\u001b[39;49m\u001b[43m,\u001b[49m\u001b[43m \u001b[49m\u001b[38;5;241;43m1\u001b[39;49m\u001b[43m)\u001b[49m\u001b[43m)\u001b[49m\u001b[38;5;241m.\u001b[39mx\n",
      "File \u001b[0;32m~/openDP/openDP/.venv/lib/python3.12/site-packages/scipy/optimize/_minimize.py:937\u001b[0m, in \u001b[0;36mminimize_scalar\u001b[0;34m(fun, bracket, bounds, args, method, tol, options)\u001b[0m\n\u001b[1;32m    934\u001b[0m     options[\u001b[38;5;124m'\u001b[39m\u001b[38;5;124mdisp\u001b[39m\u001b[38;5;124m'\u001b[39m] \u001b[38;5;241m=\u001b[39m \u001b[38;5;241m2\u001b[39m \u001b[38;5;241m*\u001b[39m \u001b[38;5;28mint\u001b[39m(disp)\n\u001b[1;32m    936\u001b[0m \u001b[38;5;28;01mif\u001b[39;00m meth \u001b[38;5;241m==\u001b[39m \u001b[38;5;124m'\u001b[39m\u001b[38;5;124m_custom\u001b[39m\u001b[38;5;124m'\u001b[39m:\n\u001b[0;32m--> 937\u001b[0m     res \u001b[38;5;241m=\u001b[39m \u001b[43mmethod\u001b[49m\u001b[43m(\u001b[49m\u001b[43mfun\u001b[49m\u001b[43m,\u001b[49m\u001b[43m \u001b[49m\u001b[43margs\u001b[49m\u001b[38;5;241;43m=\u001b[39;49m\u001b[43margs\u001b[49m\u001b[43m,\u001b[49m\u001b[43m \u001b[49m\u001b[43mbracket\u001b[49m\u001b[38;5;241;43m=\u001b[39;49m\u001b[43mbracket\u001b[49m\u001b[43m,\u001b[49m\u001b[43m \u001b[49m\u001b[43mbounds\u001b[49m\u001b[38;5;241;43m=\u001b[39;49m\u001b[43mbounds\u001b[49m\u001b[43m,\u001b[49m\u001b[43m \u001b[49m\u001b[38;5;241;43m*\u001b[39;49m\u001b[38;5;241;43m*\u001b[39;49m\u001b[43moptions\u001b[49m\u001b[43m)\u001b[49m\n\u001b[1;32m    938\u001b[0m \u001b[38;5;28;01melif\u001b[39;00m meth \u001b[38;5;241m==\u001b[39m \u001b[38;5;124m'\u001b[39m\u001b[38;5;124mbrent\u001b[39m\u001b[38;5;124m'\u001b[39m:\n\u001b[1;32m    939\u001b[0m     res \u001b[38;5;241m=\u001b[39m _recover_from_bracket_error(_minimize_scalar_brent,\n\u001b[1;32m    940\u001b[0m                                       fun, bracket, args, \u001b[38;5;241m*\u001b[39m\u001b[38;5;241m*\u001b[39moptions)\n",
      "File \u001b[0;32m~/openDP/openDP/python/src/opendp/_extrinsics/tulap/postprocessors.py:167\u001b[0m, in \u001b[0;36mCI_oneside.<locals>.custmin\u001b[0;34m(fun, bracket, args, maxfev, stepsize, maxiter, callback, **options)\u001b[0m\n\u001b[1;32m    165\u001b[0m mid \u001b[38;5;241m=\u001b[39m (lower \u001b[38;5;241m+\u001b[39m upper) \u001b[38;5;241m/\u001b[39m \u001b[38;5;241m2.0\u001b[39m\n\u001b[1;32m    166\u001b[0m bestx \u001b[38;5;241m=\u001b[39m mid\n\u001b[0;32m--> 167\u001b[0m besty \u001b[38;5;241m=\u001b[39m \u001b[43mfun\u001b[49m\u001b[43m(\u001b[49m\u001b[43mmid\u001b[49m\u001b[43m,\u001b[49m\u001b[43m \u001b[49m\u001b[38;5;241;43m*\u001b[39;49m\u001b[43margs\u001b[49m\u001b[43m)\u001b[49m\n\u001b[1;32m    168\u001b[0m min_diff \u001b[38;5;241m=\u001b[39m \u001b[38;5;241m1e-6\u001b[39m\n\u001b[1;32m    170\u001b[0m \u001b[38;5;28;01mwhile\u001b[39;00m lower \u001b[38;5;241m<\u001b[39m\u001b[38;5;241m=\u001b[39m upper:\n",
      "File \u001b[0;32m~/openDP/openDP/python/src/opendp/_extrinsics/tulap/postprocessors.py:220\u001b[0m, in \u001b[0;36mCI_oneside.<locals>.<lambda>\u001b[0;34m(x)\u001b[0m\n\u001b[1;32m    208\u001b[0m     CIobj \u001b[38;5;241m=\u001b[39m (\n\u001b[1;32m    209\u001b[0m         \u001b[38;5;28;01mlambda\u001b[39;00m x: (\n\u001b[1;32m    210\u001b[0m             oneside_pvalue(\n\u001b[0;32m   (...)\u001b[0m\n\u001b[1;32m    214\u001b[0m         \u001b[38;5;241m-\u001b[39m alpha\n\u001b[1;32m    215\u001b[0m     )\n\u001b[1;32m    217\u001b[0m \u001b[38;5;28;01melif\u001b[39;00m tail \u001b[38;5;241m==\u001b[39m \u001b[38;5;124m\"\u001b[39m\u001b[38;5;124mupper\u001b[39m\u001b[38;5;124m\"\u001b[39m:\n\u001b[1;32m    218\u001b[0m     CIobj \u001b[38;5;241m=\u001b[39m \u001b[38;5;28;01mlambda\u001b[39;00m x: (\n\u001b[1;32m    219\u001b[0m         (\n\u001b[0;32m--> 220\u001b[0m             \u001b[43moneside_pvalue\u001b[49m\u001b[43m(\u001b[49m\n\u001b[1;32m    221\u001b[0m \u001b[43m                \u001b[49m\u001b[43mx\u001b[49m\u001b[43m,\u001b[49m\u001b[43m \u001b[49m\u001b[43msize\u001b[49m\u001b[38;5;241;43m=\u001b[39;49m\u001b[43msize\u001b[49m\u001b[43m,\u001b[49m\u001b[43m \u001b[49m\u001b[43mepsilon\u001b[49m\u001b[38;5;241;43m=\u001b[39;49m\u001b[43mepsilon\u001b[49m\u001b[43m,\u001b[49m\u001b[43m \u001b[49m\u001b[43mdelta\u001b[49m\u001b[38;5;241;43m=\u001b[39;49m\u001b[43mdelta\u001b[49m\u001b[43m,\u001b[49m\u001b[43m \u001b[49m\u001b[43mtail\u001b[49m\u001b[38;5;241;43m=\u001b[39;49m\u001b[38;5;124;43m\"\u001b[39;49m\u001b[38;5;124;43mright\u001b[39;49m\u001b[38;5;124;43m\"\u001b[39;49m\n\u001b[1;32m    222\u001b[0m \u001b[43m            \u001b[49m\u001b[43m)\u001b[49m(Z)[\u001b[38;5;241m0\u001b[39m]\n\u001b[1;32m    223\u001b[0m         )\n\u001b[1;32m    224\u001b[0m         \u001b[38;5;241m-\u001b[39m (\u001b[38;5;241m1\u001b[39m \u001b[38;5;241m-\u001b[39m alpha)\n\u001b[1;32m    225\u001b[0m     )\n\u001b[1;32m    226\u001b[0m \u001b[38;5;28;01mreturn\u001b[39;00m minimize_scalar(fun\u001b[38;5;241m=\u001b[39mCIobj, method\u001b[38;5;241m=\u001b[39mcustmin, bracket\u001b[38;5;241m=\u001b[39m(\u001b[38;5;241m0\u001b[39m, \u001b[38;5;241m1\u001b[39m))\u001b[38;5;241m.\u001b[39mx\n",
      "\u001b[0;31mTypeError\u001b[0m: oneside_pvalue() missing 1 required positional argument: 'theta'"
     ]
    }
   ],
   "source": [
    "\n",
    "ci_married_upper = tulap_married.CI(alpha, 'upper')\n",
    "print(\"Upper Confidence Interval for 'married':\", ci_married_upper)"
   ]
  }
 ],
 "metadata": {
  "kernelspec": {
   "display_name": "Python 3",
   "language": "python",
   "name": "python3"
  },
  "language_info": {
   "codemirror_mode": {
    "name": "ipython",
    "version": 3
   },
   "file_extension": ".py",
   "mimetype": "text/x-python",
   "name": "python",
   "nbconvert_exporter": "python",
   "pygments_lexer": "ipython3",
   "version": "3.12.3"
  },
  "orig_nbformat": 4
 },
 "nbformat": 4,
 "nbformat_minor": 2
}
