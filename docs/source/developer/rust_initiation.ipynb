{
 "cells": [
  {
   "cell_type": "markdown",
   "metadata": {},
   "source": [
    "# OpenDP Framework Deep Dive"
   ]
  },
  {
   "cell_type": "markdown",
   "metadata": {},
   "source": [
    "This notebook is an extension to the `basic_data_analysis.ipynb`.\n",
    "We'll be going into greater detail on the internals of the OpenDP framework."
   ]
  },
  {
   "cell_type": "markdown",
   "metadata": {},
   "source": [
    "Great! We've successfully transformed CSV data into an integer vector from the income column."
   ]
  },
  {
   "cell_type": "markdown",
   "metadata": {},
   "source": [
    "### Transformation Structure\n",
    "The general approach is that we can build up lengthy computation chains out of isolated transformations.\n",
    "Each constituent transformation represents an isolated unit of computation with provable stability properties.\n",
    "\n",
    "The following snip shows the definition of a Transformation in the core rust library.\n",
    "```rust\n",
    "pub struct Transformation<DI: Domain, DO: Domain, MI: Metric, MO: Metric> {\n",
    "    pub input_domain: DI,\n",
    "    pub output_domain: DO,\n",
    "    pub function: Function<DI, DO>,\n",
    "    pub input_metric: MI,\n",
    "    pub output_metric: MO,\n",
    "    pub stability_relation: StabilityRelation<MI, MO>,\n",
    "}\n",
    "```\n",
    "\n",
    "Lets explain each of the struct members.\n",
    "```rust\n",
    "    ...\n",
    "    pub input_domain: DI,\n",
    "    pub output_domain: DO,\n",
    "    ...\n",
    "```\n",
    "The input and output domain strictly defines permissible input and output values.\n",
    "When you attempt to chain any two transformations, the output domain of the first transformation must match the input domain of the second transformation.\n",
    "The resulting chained transformation contains the input domain of the first transformation, the output domain of the second transformation, as well as the two functions composed.\n",
    "\n",
    "```rust\n",
    "    ...\n",
    "    pub function: Function<DI, DO>,\n",
    "    ...\n",
    "```\n",
    "When we invoked the following transformation, the python data structure was translated into a low-level C representation, the rust `function` was evaluated, and the result shipped back out to familiar python data structures."
   ]
  },
  {
   "cell_type": "code",
   "execution_count": 35,
   "metadata": {
    "pycharm": {
     "name": "#%%\n"
    }
   },
   "outputs": [
    {
     "data": {
      "text/plain": [
       "[0, 0, 2, 456]"
      ]
     },
     "execution_count": 35,
     "metadata": {},
     "output_type": "execute_result"
    }
   ],
   "source": [
    "cast_str_int([\"null\", \"1.\", \"2\", \"456\"])"
   ]
  },
  {
   "cell_type": "markdown",
   "metadata": {},
   "source": [
    "We also have input and output metrics.\n",
    "```rust\n",
    "    ...\n",
    "    pub input_metric: MI,\n",
    "    pub output_metric: MO,\n",
    "    ...\n",
    "```\n",
    "Examples of metrics are `HammingDistance`, `SymmetricDistance`, `AbsoluteDistance` and `L1Distance`. \n",
    "They behave in the same way that the input and output domains do when chaining.\n",
    "\n",
    "```rust\n",
    "    ...\n",
    "    pub stability_relation: StabilityRelation<MI, MO>,\n",
    "    ...\n",
    "```\n",
    "Finally, the stability relation. \n",
    "It is a function that takes in an input and output distance, in the respective metric spaces, and returns a boolean.\n",
    "The function relates the input and output distances, returning False if the output distance is too small with respect to the input distance.\n",
    "\n",
    "For example, we know that the casting transformation is row-by-row, so we should expect that for any symmetric distance `a`, the pair of distances (`a`, `a`) are related."
   ]
  },
  {
   "cell_type": "code",
   "execution_count": 36,
   "metadata": {},
   "outputs": [
    {
     "data": {
      "text/plain": [
       "True"
      ]
     },
     "execution_count": 36,
     "metadata": {},
     "output_type": "execute_result"
    }
   ],
   "source": [
    "a = 3\n",
    "cast_str_int.check(d_in=a, d_out=a)"
   ]
  },
  {
   "cell_type": "code",
   "execution_count": 37,
   "metadata": {},
   "outputs": [
    {
     "data": {
      "text/plain": [
       "False"
      ]
     },
     "execution_count": 37,
     "metadata": {},
     "output_type": "execute_result"
    }
   ],
   "source": [
    "cast_str_int.check(d_in=a, d_out=a - 1)"
   ]
  },
  {
   "cell_type": "markdown",
   "metadata": {},
   "source": [
    "When any two compatible transformations are chained, the resulting transformation contains a functional composition of the relations.\n",
    "\n",
    "Ultimately, all pieces are used to construct the new transformation:\n",
    "\n",
    "| input | chaining | output |\n",
    "|---:|:---:|:---|\n",
    "| input_domain_1 | output_domain_1 == input_domain_2 | output_domain_2 |\n",
    "| function_1 |composed with| function_2 |\n",
    "| input_metric_1 | output_metric_1 == input_metric_2 | output_metric_2 |\n",
    "| stability_relation_1 | composed with | stability_relation_2 |"
   ]
  },
  {
   "cell_type": "markdown",
   "metadata": {},
   "source": [
    "As you've seen above, when we want to create a transformation, we use \"constructor\" functions. These are, by convention, prefixed with `make_`.\n",
    "\n",
    "An example implementation of a casting transformation constructor is provided. I'll break it down into three parts.\n",
    "\n",
    "```rust\n",
    "// 1.\n",
    "pub fn make_cast_default<DIA, TOA>() -> Fallible<Transformation<\n",
    "    VectorDomain<AllDomain<TIA>>, VectorDomain<AllDomain<TOA>>, \n",
    "    SymmetricDistance, SymmetricDistance>>\n",
    "\n",
    "    // 2.\n",
    "    where TIA: 'static + Clone + CheckNull, \n",
    "          TOA: 'static + RoundCast<TIA> + Default + CheckNull {\n",
    "\n",
    "    // 3.\n",
    "    Ok(Transformation::new(\n",
    "        VectorDomain::new(AllDomain::new()),\n",
    "        VectorDomain::new(AllDomain::new()),\n",
    "        Function::new(move |arg: &Vec<TIA>|\n",
    "            arg.iter().map(|v| TOA::round_cast(v.clone()).unwrap_or_default()).collect()),\n",
    "        SymmetricDistance::new(),\n",
    "        SymmetricDistance::new(),\n",
    "        StabilityRelation::new_from_constant(1)))\n",
    "}\n",
    "```\n",
    "\n",
    "The first part is the function signature:\n",
    "```rust\n",
    "pub fn make_cast_default<TIA, TOA>() -> Fallible<Transformation<\n",
    "    VectorDomain<AllDomain<TIA>>, VectorDomain<AllDomain<TOA>>, \n",
    "    SymmetricDistance, SymmetricDistance>>\n",
    "    ...\n",
    "```\n",
    "Most of the signature consists of types. \n",
    "Rust is strictly typed, so the code needs to be very explicit about what the type of the constructor function's inputs and outputs are. \n",
    "\n",
    "This is a generic function with two type arguments `TIA` and `TOA`, standing for \"atomic input type\" and \"atomic output type\".\n",
    "There are zero first-class arguments `()`.\n",
    "\n",
    "The constructor returns a fallible transformation.\n",
    "The last two lines specify the types of the input/output domains/metrics.\n",
    "\n",
    "The second part is the where clause:\n",
    "```rust\n",
    "    ...\n",
    "    where TIA: 'static + Clone + CheckNull, \n",
    "          TOA: 'static + RoundCast<TIA> + Default + CheckNull {\n",
    "    ...\n",
    "```\n",
    "A where clause lists bounds on the acceptable types to be used in the function.\n",
    "You can interpret this as, \"the compiler will enforce that `TIA` must be some type that has the `Clone` and `CheckNull` traits. \n",
    "In other words, while I don't specify what `TIA` must be up-front, I can bound what type it may be to types that are cloneable and have some concept of null-checking.\n",
    "`TOA`, in particular, has a `RoundCast` trait, which can be used to cast from type `TIA` to `TOA`. \n",
    "\n",
    "The final part is the function body, which just creates and implicitly returns a Transformation struct.\n",
    "```rust\n",
    "    ...\n",
    "    Ok(Transformation::new(\n",
    "        VectorDomain::new(AllDomain::new()),\n",
    "        VectorDomain::new(AllDomain::new()),\n",
    "        Function::new(move |arg: &Vec<TIA>|\n",
    "            arg.iter().map(|v| TOA::round_cast(v.clone()).unwrap_or_default()).collect()),\n",
    "        SymmetricDistance::new(),\n",
    "        SymmetricDistance::new(),\n",
    "        StabilityRelation::new_from_constant(1)))\n",
    "}\n",
    "```\n",
    "Each argument corresponds to a struct member.\n",
    "We take advantage of a handy syntax for creating un-named functions:\n",
    "In the example function addition function, `|a, b| a + b`. takes two arguments, `a` and `b`. The function body is `a + b`.\n",
    "\n",
    "With this shorthand in-hand, we create a function that casts the data by iterating over each record `v`, casting, and replacing nulls with the default value for the type.\n",
    "\n",
    "We also take advantage of a convenient constructor for building `c`-stable relations.\n",
    "Since the cast function is row-by-row, it is 1-stable."
   ]
  },
  {
   "cell_type": "markdown",
   "metadata": {},
   "source": [
    "### Measurement Structure\n",
    "\n",
    "Measurements are very similar to Transformations, with two key differences.\n",
    "\n",
    "```rust\n",
    "pub struct Measurement<DI: Domain, DO: Domain, MI: Metric, MO: Measure> {\n",
    "    pub input_domain: DI,\n",
    "    pub output_domain: DO,\n",
    "    pub function: Function<DI, DO>,\n",
    "    pub input_metric: MI,\n",
    "    pub output_measure: MO,\n",
    "    pub privacy_relation: PrivacyRelation<MI, MO>,\n",
    "}\n",
    "```\n",
    "\n",
    "First, the `output_metric` is replaced with an `output_measure`, as distances in the output space are measured in terms of divergences between probability distributions.\n",
    "\n",
    "Second, the name of the relation has changed from a stability relation to a privacy relation. \n",
    "This is because the relation between distances now carries meaning with respect to privacy."
   ]
  },
  {
   "cell_type": "markdown",
   "metadata": {},
   "source": [
    "For more information... \n",
    "- Docs website: https://docs.opendp.org\n",
    "- Github Repo:  https://github.com/opendp/opendp\n"
   ]
  },
  {
   "cell_type": "markdown",
   "metadata": {},
   "source": [
    "### Contrib, Vetting and Proofs\n",
    "\n",
    "As mentioned before, much of the library is still in \"contrib\".\n",
    "A requirement of the vetting process is having the code supported by a proof document. \n",
    "The library is designed to make this as easy as possible, because it consists of modular building blocks (Transformations and Measurements) for which encapsulated proofs may be written.\n",
    "\n",
    "Each Transformation or Measurement proof must show the following:\n",
    "1. That the function, when evaluated on any element in the input domain, emits a value in the output domain.\n",
    "2. That the relation always returns false if the function is not (d_in, d_out)-close for all d_in and d_out.\n",
    "3. That your choices of metrics/measures are compatible with your domains.\n",
    "\n"
   ]
  }
 ],
 "metadata": {
  "interpreter": {
   "hash": "3220da548452ac41acb293d0d6efded0f046fab635503eb911c05f743e930f34"
  },
  "kernelspec": {
   "display_name": "Python 3.8.13 ('psi')",
   "language": "python",
   "name": "python3"
  },
  "language_info": {
   "codemirror_mode": {
    "name": "ipython",
    "version": 3
   },
   "file_extension": ".py",
   "mimetype": "text/x-python",
   "name": "python",
   "nbconvert_exporter": "python",
   "pygments_lexer": "ipython3",
   "version": "3.8.13"
  }
 },
 "nbformat": 4,
 "nbformat_minor": 2
}
