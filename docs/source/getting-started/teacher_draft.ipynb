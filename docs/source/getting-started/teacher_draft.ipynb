{
 "cells": [
  {
   "cell_type": "code",
   "execution_count": 2,
   "metadata": {},
   "outputs": [
    {
     "name": "stdout",
     "output_type": "stream",
     "text": [
      "Requirement already satisfied: opendp[polars] in /Library/Frameworks/Python.framework/Versions/3.12/lib/python3.12/site-packages (0.10.0)\n",
      "Requirement already satisfied: polars==0.20.16 in /Library/Frameworks/Python.framework/Versions/3.12/lib/python3.12/site-packages (from opendp[polars]) (0.20.16)\n",
      "Requirement already satisfied: pyarrow in /Library/Frameworks/Python.framework/Versions/3.12/lib/python3.12/site-packages (from opendp[polars]) (16.1.0)\n",
      "Requirement already satisfied: scikit-learn in /Library/Frameworks/Python.framework/Versions/3.12/lib/python3.12/site-packages (from opendp[polars]) (1.5.0)\n",
      "Requirement already satisfied: numpy<2.0,>=1.17 in /Library/Frameworks/Python.framework/Versions/3.12/lib/python3.12/site-packages (from opendp[polars]) (1.26.4)\n",
      "Requirement already satisfied: randomgen in /Library/Frameworks/Python.framework/Versions/3.12/lib/python3.12/site-packages (from opendp[polars]) (1.26.1)\n",
      "Requirement already satisfied: scipy>=1.6.0 in /Library/Frameworks/Python.framework/Versions/3.12/lib/python3.12/site-packages (from scikit-learn->opendp[polars]) (1.13.1)\n",
      "Requirement already satisfied: joblib>=1.2.0 in /Library/Frameworks/Python.framework/Versions/3.12/lib/python3.12/site-packages (from scikit-learn->opendp[polars]) (1.4.2)\n",
      "Requirement already satisfied: threadpoolctl>=3.1.0 in /Library/Frameworks/Python.framework/Versions/3.12/lib/python3.12/site-packages (from scikit-learn->opendp[polars]) (3.5.0)\n",
      "\n",
      "\u001b[1m[\u001b[0m\u001b[34;49mnotice\u001b[0m\u001b[1;39;49m]\u001b[0m\u001b[39;49m A new release of pip is available: \u001b[0m\u001b[31;49m24.0\u001b[0m\u001b[39;49m -> \u001b[0m\u001b[32;49m24.1.1\u001b[0m\n",
      "\u001b[1m[\u001b[0m\u001b[34;49mnotice\u001b[0m\u001b[1;39;49m]\u001b[0m\u001b[39;49m To update, run: \u001b[0m\u001b[32;49mpip3 install --upgrade pip\u001b[0m\n",
      "Note: you may need to restart the kernel to use updated packages.\n"
     ]
    }
   ],
   "source": [
    "pip install \"opendp[polars]\""
   ]
  },
  {
   "cell_type": "code",
   "execution_count": 30,
   "metadata": {},
   "outputs": [],
   "source": [
    "## step 1 / nothing changed\n",
    "\n",
    "import opendp.prelude as dp\n",
    "dp.enable_features(\"contrib\")\n",
    "\n",
    "privacy_unit = dp.unit_of(contributions=1)\n",
    "input_metric, d_in = privacy_unit\n",
    "\n",
    "## step 2 / nothing changed\n",
    "privacy_loss = dp.loss_of(epsilon=1.)\n",
    "privacy_measure, d_out = privacy_loss\n",
    "\n",
    "## step 3 / nothing changed\n",
    "col_names = [\n",
    "   \"name\", \"sex\", \"age\", \"maritalStatus\", \"hasChildren\", \"highestEducationLevel\", \n",
    "   \"sourceOfStress\", \"smoker\", \"optimism\", \"lifeSatisfaction\", \"selfEsteem\"\n",
    "]"
   ]
  },
  {
   "cell_type": "markdown",
   "metadata": {},
   "source": [
    "## Step 4"
   ]
  },
  {
   "cell_type": "code",
   "execution_count": 32,
   "metadata": {},
   "outputs": [],
   "source": [
    "## the way to read data in changed\n",
    "#scan csv with the url wasn't working directly so it wasn't able to be read in \n",
    "#directly as a lazy frame; however if we could debug this that would be great\n",
    "#prehaps move this import up but kept it here to keep same style as og page \n",
    "import polars as pl\n",
    "data_url = \"https://raw.githubusercontent.com/opendp/opendp/sydney/teacher_survey.csv\"\n",
    "data = pl.read_csv(data_url)\n",
    "data.columns = col_names\n",
    "data = pl.LazyFrame(data)\n",
    "\n",
    "#cast all integers to floats since fill nan can only work on floats\n",
    "data = data.cast({pl.Int64: pl.Float64})\n",
    "\n",
    "context = dp.Context.compositor(\n",
    "    data=data,\n",
    "    privacy_unit=privacy_unit,\n",
    "    privacy_loss=privacy_loss,\n",
    "    split_evenly_over=3, \n",
    "    margins={\n",
    "        (\"age\", ): dp.Margin(public_info=\"lengths\", max_partition_length=8000, max_num_partitions=1),\n",
    "        (): dp.Margin(public_info=\"lengths\", max_partition_length=8000, max_num_partitions=1),\n",
    "    },\n",
    ")"
   ]
  },
  {
   "cell_type": "markdown",
   "metadata": {},
   "source": [
    "We set the `max_partition_length` to be 8000 since we know our data has less than 8000 entries. The `max_num_partitions` is set to 1 since the order that our methods are using on the backgrounds requires `max_num_partitions` to be specified and it's 1 since one of our queries require only 1 partition. "
   ]
  },
  {
   "cell_type": "markdown",
   "metadata": {},
   "source": [
    "## Step 5"
   ]
  },
  {
   "cell_type": "markdown",
   "metadata": {},
   "source": [
    "Based on previous examples, one of the initial ways you may try to find the count of age directly could be \n",
    "\n",
    "```\n",
    "context.query().select(pl.col(\"age\").len().dp.noise()\n",
    ").release().collect() \n",
    "```\n",
    "\n",
    "However, this method won't work yet since in this case we're using `expr.len`, which isn't supported yet by OpenDP and is different than `pl.len` in polars. Therefore, we'll directly get the length of the dataframe by doing `pl.len().dp.noise()`. However, we also need to impose some type of bound, which we can do by filtering the variable of interest. "
   ]
  },
  {
   "cell_type": "code",
   "execution_count": 31,
   "metadata": {},
   "outputs": [
    {
     "name": "stdout",
     "output_type": "stream",
     "text": [
      "Accuracy:  9.445721638273582\n",
      "DP Count:  6999\n",
      "Interval:  (6989.554278361727, 7008.445721638273)\n",
      "37.43891984554948\n"
     ]
    }
   ],
   "source": [
    "count_query = context.query().filter(pl.col(\"age\")>0).select(\n",
    "    pl.len().dp.noise()\n",
    ")\n",
    "\n",
    "#there is no .param() attribute for a lazyframequery\n",
    "#this next step can probably be done with Mike's new accuracy method \n",
    "fake_scale = 3.\n",
    "accuracy = dp.discrete_laplacian_scale_to_accuracy(scale=fake_scale, alpha=0.05)\n",
    "print(\"Accuracy: \",accuracy)\n",
    "\n",
    "dp_count = count_query.release().collect().select(\"len\").to_series().item()\n",
    "#i added .select(\"age\").to_series().item() to return just a value but \n",
    "print(\"DP Count: \",dp_count)\n",
    "interval = (dp_count - accuracy, dp_count + accuracy)\n",
    "print(\"Interval: \", interval)\n",
    "\n",
    "mean_query = context.query().select(\n",
    "    pl.col(\"age\").fill_null(40.0).fill_nan(40.0).dp.mean((0.0,100.0))\n",
    ")\n",
    "dp_mean = mean_query.release().collect().select(\"age\").to_series().item()\n",
    "print(dp_mean)\n"
   ]
  }
 ],
 "metadata": {
  "kernelspec": {
   "display_name": "Python 3",
   "language": "python",
   "name": "python3"
  },
  "language_info": {
   "codemirror_mode": {
    "name": "ipython",
    "version": 3
   },
   "file_extension": ".py",
   "mimetype": "text/x-python",
   "name": "python",
   "nbconvert_exporter": "python",
   "pygments_lexer": "ipython3",
   "version": "3.12.3"
  }
 },
 "nbformat": 4,
 "nbformat_minor": 2
}
