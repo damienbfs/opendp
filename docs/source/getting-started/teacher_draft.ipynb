{
 "cells": [
  {
   "cell_type": "code",
   "execution_count": 2,
   "metadata": {},
   "outputs": [
    {
     "name": "stdout",
     "output_type": "stream",
     "text": [
      "Requirement already satisfied: opendp[polars] in /Library/Frameworks/Python.framework/Versions/3.12/lib/python3.12/site-packages (0.10.0)\n",
      "Requirement already satisfied: polars==0.20.16 in /Library/Frameworks/Python.framework/Versions/3.12/lib/python3.12/site-packages (from opendp[polars]) (0.20.16)\n",
      "Requirement already satisfied: pyarrow in /Library/Frameworks/Python.framework/Versions/3.12/lib/python3.12/site-packages (from opendp[polars]) (16.1.0)\n",
      "Requirement already satisfied: scikit-learn in /Library/Frameworks/Python.framework/Versions/3.12/lib/python3.12/site-packages (from opendp[polars]) (1.5.0)\n",
      "Requirement already satisfied: numpy<2.0,>=1.17 in /Library/Frameworks/Python.framework/Versions/3.12/lib/python3.12/site-packages (from opendp[polars]) (1.26.4)\n",
      "Requirement already satisfied: randomgen in /Library/Frameworks/Python.framework/Versions/3.12/lib/python3.12/site-packages (from opendp[polars]) (1.26.1)\n",
      "Requirement already satisfied: scipy>=1.6.0 in /Library/Frameworks/Python.framework/Versions/3.12/lib/python3.12/site-packages (from scikit-learn->opendp[polars]) (1.13.1)\n",
      "Requirement already satisfied: joblib>=1.2.0 in /Library/Frameworks/Python.framework/Versions/3.12/lib/python3.12/site-packages (from scikit-learn->opendp[polars]) (1.4.2)\n",
      "Requirement already satisfied: threadpoolctl>=3.1.0 in /Library/Frameworks/Python.framework/Versions/3.12/lib/python3.12/site-packages (from scikit-learn->opendp[polars]) (3.5.0)\n",
      "\n",
      "\u001b[1m[\u001b[0m\u001b[34;49mnotice\u001b[0m\u001b[1;39;49m]\u001b[0m\u001b[39;49m A new release of pip is available: \u001b[0m\u001b[31;49m24.0\u001b[0m\u001b[39;49m -> \u001b[0m\u001b[32;49m24.1.1\u001b[0m\n",
      "\u001b[1m[\u001b[0m\u001b[34;49mnotice\u001b[0m\u001b[1;39;49m]\u001b[0m\u001b[39;49m To update, run: \u001b[0m\u001b[32;49mpip3 install --upgrade pip\u001b[0m\n",
      "Note: you may need to restart the kernel to use updated packages.\n"
     ]
    }
   ],
   "source": [
    "pip install \"opendp[polars]\""
   ]
  },
  {
   "cell_type": "code",
   "execution_count": 3,
   "metadata": {},
   "outputs": [],
   "source": [
    "import opendp.prelude as dp\n",
    "dp.enable_features(\"contrib\")\n",
    "\n",
    "# privacy_unit = dp.unit_of(contributions=1)\n",
    "# input_metric, d_in = privacy_unit"
   ]
  },
  {
   "cell_type": "code",
   "execution_count": 4,
   "metadata": {},
   "outputs": [
    {
     "data": {
      "text/plain": [
       "polars.lazyframe.frame.LazyFrame"
      ]
     },
     "execution_count": 4,
     "metadata": {},
     "output_type": "execute_result"
    }
   ],
   "source": [
    "import polars as pl\n",
    "import pandas as pd \n",
    "data_url = \"https://raw.githubusercontent.com/opendp/opendp/sydney/teacher_survey.csv\"\n",
    "# data = pl.scan_csv(data_url, ignore_errors=True)\n",
    "data = pl.read_csv(data_url)\n",
    "# data = pd.read_csv(data_url, header=None)\n",
    "col_names = [\n",
    "   \"name\", \"sex\", \"age\", \"maritalStatus\", \"hasChildren\", \"highestEducationLevel\", \n",
    "   \"sourceOfStress\", \"smoker\", \"optimism\", \"lifeSatisfaction\", \"selfEsteem\"\n",
    "]\n",
    "data.columns = col_names\n",
    "df = pl.LazyFrame(data)\n",
    "#cast all integers to floats\n",
    "df = df.cast({pl.Int64: pl.Float64})\n",
    "type(df)"
   ]
  },
  {
   "cell_type": "code",
   "execution_count": 5,
   "metadata": {},
   "outputs": [
    {
     "data": {
      "text/html": [
       "<div><style>\n",
       ".dataframe > thead > tr,\n",
       ".dataframe > tbody > tr {\n",
       "  text-align: right;\n",
       "  white-space: pre-wrap;\n",
       "}\n",
       "</style>\n",
       "<small>shape: (6_999, 11)</small><table border=\"1\" class=\"dataframe\"><thead><tr><th>name</th><th>sex</th><th>age</th><th>maritalStatus</th><th>hasChildren</th><th>highestEducationLevel</th><th>sourceOfStress</th><th>smoker</th><th>optimism</th><th>lifeSatisfaction</th><th>selfEsteem</th></tr><tr><td>str</td><td>f64</td><td>f64</td><td>f64</td><td>f64</td><td>f64</td><td>str</td><td>str</td><td>str</td><td>f64</td><td>f64</td></tr></thead><tbody><tr><td>&quot;Ariel Lucero&quot;</td><td>2.0</td><td>21.0</td><td>1.0</td><td>2.0</td><td>5.0</td><td>&quot;1&quot;</td><td>&quot;2&quot;</td><td>&quot;19&quot;</td><td>20.0</td><td>31.0</td></tr><tr><td>&quot;Sienna Shah&quot;</td><td>2.0</td><td>42.0</td><td>4.0</td><td>1.0</td><td>2.0</td><td>&quot;5&quot;</td><td>&quot;2&quot;</td><td>&quot;23&quot;</td><td>26.0</td><td>33.0</td></tr><tr><td>&quot;Denzel Crawfor…</td><td>2.0</td><td>47.0</td><td>4.0</td><td>1.0</td><td>2.0</td><td>&quot;4&quot;</td><td>&quot;2&quot;</td><td>&quot;24&quot;</td><td>27.0</td><td>36.0</td></tr><tr><td>&quot;Emelia Norman&quot;</td><td>2.0</td><td>48.0</td><td>4.0</td><td>2.0</td><td>3.0</td><td>&quot;3&quot;</td><td>&quot;2&quot;</td><td>&quot;30&quot;</td><td>22.0</td><td>40.0</td></tr><tr><td>&quot;Abigail Koch&quot;</td><td>2.0</td><td>41.0</td><td>7.0</td><td>1.0</td><td>6.0</td><td>&quot;1&quot;</td><td>&quot;2&quot;</td><td>&quot;21&quot;</td><td>21.0</td><td>35.0</td></tr><tr><td>&hellip;</td><td>&hellip;</td><td>&hellip;</td><td>&hellip;</td><td>&hellip;</td><td>&hellip;</td><td>&hellip;</td><td>&hellip;</td><td>&hellip;</td><td>&hellip;</td><td>&hellip;</td></tr><tr><td>&quot;Luis Lara&quot;</td><td>1.0</td><td>40.0</td><td>4.0</td><td>2.0</td><td>3.0</td><td>&quot;1&quot;</td><td>&quot;2&quot;</td><td>&quot;19&quot;</td><td>17.0</td><td>30.0</td></tr><tr><td>&quot;Kasey Gray&quot;</td><td>1.0</td><td>18.0</td><td>1.0</td><td>2.0</td><td>3.0</td><td>&quot;3&quot;</td><td>&quot;2&quot;</td><td>&quot;19&quot;</td><td>25.0</td><td>38.0</td></tr><tr><td>&quot;Clarissa Frost…</td><td>2.0</td><td>39.0</td><td>7.0</td><td>1.0</td><td>5.0</td><td>&quot;3&quot;</td><td>&quot;2&quot;</td><td>&quot;23&quot;</td><td>14.0</td><td>30.0</td></tr><tr><td>&quot;Jett Howard&quot;</td><td>2.0</td><td>21.0</td><td>2.0</td><td>2.0</td><td>5.0</td><td>&quot;1&quot;</td><td>&quot;2&quot;</td><td>&quot;23&quot;</td><td>27.0</td><td>34.0</td></tr><tr><td>&quot;Rhianna Wheele…</td><td>2.0</td><td>52.0</td><td>4.0</td><td>1.0</td><td>2.0</td><td>&quot;5&quot;</td><td>&quot;2&quot;</td><td>&quot;19&quot;</td><td>25.0</td><td>38.0</td></tr></tbody></table></div>"
      ],
      "text/plain": [
       "shape: (6_999, 11)\n",
       "┌────────────────┬─────┬──────┬───────────────┬───┬────────┬──────────┬───────────────┬────────────┐\n",
       "│ name           ┆ sex ┆ age  ┆ maritalStatus ┆ … ┆ smoker ┆ optimism ┆ lifeSatisfact ┆ selfEsteem │\n",
       "│ ---            ┆ --- ┆ ---  ┆ ---           ┆   ┆ ---    ┆ ---      ┆ ion           ┆ ---        │\n",
       "│ str            ┆ f64 ┆ f64  ┆ f64           ┆   ┆ str    ┆ str      ┆ ---           ┆ f64        │\n",
       "│                ┆     ┆      ┆               ┆   ┆        ┆          ┆ f64           ┆            │\n",
       "╞════════════════╪═════╪══════╪═══════════════╪═══╪════════╪══════════╪═══════════════╪════════════╡\n",
       "│ Ariel Lucero   ┆ 2.0 ┆ 21.0 ┆ 1.0           ┆ … ┆ 2      ┆ 19       ┆ 20.0          ┆ 31.0       │\n",
       "│ Sienna Shah    ┆ 2.0 ┆ 42.0 ┆ 4.0           ┆ … ┆ 2      ┆ 23       ┆ 26.0          ┆ 33.0       │\n",
       "│ Denzel         ┆ 2.0 ┆ 47.0 ┆ 4.0           ┆ … ┆ 2      ┆ 24       ┆ 27.0          ┆ 36.0       │\n",
       "│ Crawford       ┆     ┆      ┆               ┆   ┆        ┆          ┆               ┆            │\n",
       "│ Emelia Norman  ┆ 2.0 ┆ 48.0 ┆ 4.0           ┆ … ┆ 2      ┆ 30       ┆ 22.0          ┆ 40.0       │\n",
       "│ Abigail Koch   ┆ 2.0 ┆ 41.0 ┆ 7.0           ┆ … ┆ 2      ┆ 21       ┆ 21.0          ┆ 35.0       │\n",
       "│ …              ┆ …   ┆ …    ┆ …             ┆ … ┆ …      ┆ …        ┆ …             ┆ …          │\n",
       "│ Luis Lara      ┆ 1.0 ┆ 40.0 ┆ 4.0           ┆ … ┆ 2      ┆ 19       ┆ 17.0          ┆ 30.0       │\n",
       "│ Kasey Gray     ┆ 1.0 ┆ 18.0 ┆ 1.0           ┆ … ┆ 2      ┆ 19       ┆ 25.0          ┆ 38.0       │\n",
       "│ Clarissa Frost ┆ 2.0 ┆ 39.0 ┆ 7.0           ┆ … ┆ 2      ┆ 23       ┆ 14.0          ┆ 30.0       │\n",
       "│ Jett Howard    ┆ 2.0 ┆ 21.0 ┆ 2.0           ┆ … ┆ 2      ┆ 23       ┆ 27.0          ┆ 34.0       │\n",
       "│ Rhianna        ┆ 2.0 ┆ 52.0 ┆ 4.0           ┆ … ┆ 2      ┆ 19       ┆ 25.0          ┆ 38.0       │\n",
       "│ Wheeler        ┆     ┆      ┆               ┆   ┆        ┆          ┆               ┆            │\n",
       "└────────────────┴─────┴──────┴───────────────┴───┴────────┴──────────┴───────────────┴────────────┘"
      ]
     },
     "execution_count": 5,
     "metadata": {},
     "output_type": "execute_result"
    }
   ],
   "source": [
    "df.collect()"
   ]
  },
  {
   "cell_type": "markdown",
   "metadata": {},
   "source": [
    "we specify the max num partitions\n",
    "OpenDPException: \n",
    "  FailedFunction(\"max_num_partitions must be known when the metric is not sensitive to ordering (SymmetricDistance)\")\n",
    "\n",
    "During handling of the above exception, another exception occurred:\n",
    "  MakeMeasurement(\"There is only one partition in select, so both max_influenced_partitions and max_num_partitions must either be unset or one\")\n",
    "\n",
    "During handling of the above exception, another exception occurred:"
   ]
  },
  {
   "cell_type": "code",
   "execution_count": 6,
   "metadata": {},
   "outputs": [],
   "source": [
    "# import urllib.request\n",
    "# data_url = \"https://raw.githubusercontent.com/opendp/opendp/sydney/teacher_survey.csv\"\n",
    "# with urllib.request.urlopen(data_url) as data_req:\n",
    "#     data = data_req.read().decode('utf-8')\n",
    "\n",
    "context = dp.Context.compositor(\n",
    "    data=df,\n",
    "    privacy_unit= dp.unit_of(contributions=1),\n",
    "    privacy_loss= dp.loss_of(epsilon=1.0),\n",
    "    split_evenly_over=3, \n",
    "    margins={\n",
    "        (\"age\", ): dp.Margin(public_info=\"lengths\", max_partition_length=2000, max_num_partitions=1),\n",
    "        (): dp.Margin(public_info=\"lengths\", max_partition_length=2000, max_num_partitions=1),\n",
    "    },\n",
    ")"
   ]
  },
  {
   "cell_type": "markdown",
   "metadata": {},
   "source": [
    "## Queries: count and mean "
   ]
  },
  {
   "cell_type": "code",
   "execution_count": 7,
   "metadata": {},
   "outputs": [
    {
     "data": {
      "text/html": [
       "<div><style>\n",
       ".dataframe > thead > tr,\n",
       ".dataframe > tbody > tr {\n",
       "  text-align: right;\n",
       "  white-space: pre-wrap;\n",
       "}\n",
       "</style>\n",
       "<small>shape: (1, 1)</small><table border=\"1\" class=\"dataframe\"><thead><tr><th>age</th></tr><tr><td>f64</td></tr></thead><tbody><tr><td>37.43892</td></tr></tbody></table></div>"
      ],
      "text/plain": [
       "shape: (1, 1)\n",
       "┌──────────┐\n",
       "│ age      │\n",
       "│ ---      │\n",
       "│ f64      │\n",
       "╞══════════╡\n",
       "│ 37.43892 │\n",
       "└──────────┘"
      ]
     },
     "execution_count": 7,
     "metadata": {},
     "output_type": "execute_result"
    }
   ],
   "source": [
    "context.query().select(\n",
    "    pl.col(\"age\").fill_null(40.0).fill_nan(40.0).dp.mean((0.0,100.0))\n",
    ").release().collect()"
   ]
  },
  {
   "cell_type": "code",
   "execution_count": 8,
   "metadata": {},
   "outputs": [
    {
     "data": {
      "text/html": [
       "<div><style>\n",
       ".dataframe > thead > tr,\n",
       ".dataframe > tbody > tr {\n",
       "  text-align: right;\n",
       "  white-space: pre-wrap;\n",
       "}\n",
       "</style>\n",
       "<small>shape: (1, 1)</small><table border=\"1\" class=\"dataframe\"><thead><tr><th>age</th></tr><tr><td>f64</td></tr></thead><tbody><tr><td>37.43892</td></tr></tbody></table></div>"
      ],
      "text/plain": [
       "shape: (1, 1)\n",
       "┌──────────┐\n",
       "│ age      │\n",
       "│ ---      │\n",
       "│ f64      │\n",
       "╞══════════╡\n",
       "│ 37.43892 │\n",
       "└──────────┘"
      ]
     },
     "execution_count": 8,
     "metadata": {},
     "output_type": "execute_result"
    }
   ],
   "source": [
    "df.select(\n",
    "    pl.col(\"age\").fill_null(40.0).fill_nan(40.0).mean()\n",
    ").collect()"
   ]
  },
  {
   "cell_type": "code",
   "execution_count": 9,
   "metadata": {},
   "outputs": [
    {
     "data": {
      "text/html": [
       "<div><style>\n",
       ".dataframe > thead > tr,\n",
       ".dataframe > tbody > tr {\n",
       "  text-align: right;\n",
       "  white-space: pre-wrap;\n",
       "}\n",
       "</style>\n",
       "<small>shape: (1, 1)</small><table border=\"1\" class=\"dataframe\"><thead><tr><th>age</th></tr><tr><td>u32</td></tr></thead><tbody><tr><td>6999</td></tr></tbody></table></div>"
      ],
      "text/plain": [
       "shape: (1, 1)\n",
       "┌──────┐\n",
       "│ age  │\n",
       "│ ---  │\n",
       "│ u32  │\n",
       "╞══════╡\n",
       "│ 6999 │\n",
       "└──────┘"
      ]
     },
     "execution_count": 9,
     "metadata": {},
     "output_type": "execute_result"
    }
   ],
   "source": [
    "df.select(\n",
    "    pl.col(\"age\").fill_null(40.0).fill_nan(40.0).count()\n",
    ").collect()"
   ]
  },
  {
   "cell_type": "code",
   "execution_count": 10,
   "metadata": {},
   "outputs": [
    {
     "data": {
      "text/html": [
       "<div><style>\n",
       ".dataframe > thead > tr,\n",
       ".dataframe > tbody > tr {\n",
       "  text-align: right;\n",
       "  white-space: pre-wrap;\n",
       "}\n",
       "</style>\n",
       "<small>shape: (1, 1)</small><table border=\"1\" class=\"dataframe\"><thead><tr><th>age</th></tr><tr><td>u32</td></tr></thead><tbody><tr><td>6999</td></tr></tbody></table></div>"
      ],
      "text/plain": [
       "shape: (1, 1)\n",
       "┌──────┐\n",
       "│ age  │\n",
       "│ ---  │\n",
       "│ u32  │\n",
       "╞══════╡\n",
       "│ 6999 │\n",
       "└──────┘"
      ]
     },
     "execution_count": 10,
     "metadata": {},
     "output_type": "execute_result"
    }
   ],
   "source": [
    "df.select(\n",
    "    pl.col(\"age\").fill_null(40.0).fill_nan(40.0).len()\n",
    ").collect()"
   ]
  },
  {
   "cell_type": "code",
   "execution_count": 11,
   "metadata": {},
   "outputs": [
    {
     "data": {
      "text/html": [
       "<div><style>\n",
       ".dataframe > thead > tr,\n",
       ".dataframe > tbody > tr {\n",
       "  text-align: right;\n",
       "  white-space: pre-wrap;\n",
       "}\n",
       "</style>\n",
       "<small>shape: (1, 1)</small><table border=\"1\" class=\"dataframe\"><thead><tr><th>len</th></tr><tr><td>u32</td></tr></thead><tbody><tr><td>6999</td></tr></tbody></table></div>"
      ],
      "text/plain": [
       "shape: (1, 1)\n",
       "┌──────┐\n",
       "│ len  │\n",
       "│ ---  │\n",
       "│ u32  │\n",
       "╞══════╡\n",
       "│ 6999 │\n",
       "└──────┘"
      ]
     },
     "execution_count": 11,
     "metadata": {},
     "output_type": "execute_result"
    }
   ],
   "source": [
    "df.select(pl.len()).collect()"
   ]
  },
  {
   "cell_type": "code",
   "execution_count": 12,
   "metadata": {},
   "outputs": [
    {
     "data": {
      "text/html": [
       "<i>naive plan: (run <b>LazyFrame.explain(optimized=True)</b> to see the optimized plan)</i>\n",
       "    <p></p>\n",
       "    <div> SELECT [col(\"name\").count(), col(\"sex\").count(), col(\"age\").count(), col(\"maritalStatus\").count(), col(\"hasChildren\").count(), col(\"highestEducationLevel\").count(), col(\"sourceOfStress\").count(), col(\"smoker\").count(), col(\"optimism\").count(), col(\"lifeSatisfaction\").count(), col(\"selfEsteem\").count()] FROM<p></p>   WITH_COLUMNS:<p></p>   [col(\"highestEducationLevel\").strict_cast(Float64), col(\"selfEsteem\").strict_cast(Float64), col(\"maritalStatus\").strict_cast(Float64), col(\"lifeSatisfaction\").strict_cast(Float64), col(\"sex\").strict_cast(Float64), col(\"age\").strict_cast(Float64), col(\"hasChildren\").strict_cast(Float64)]<p></p>    DF [\"name\", \"sex\", \"age\", \"maritalStatus\"]; PROJECT */11 COLUMNS; SELECTION: \"None\"</div>"
      ],
      "text/plain": [
       "<LazyFrame [11 cols, {\"name\": UInt32 … \"selfEsteem\": UInt32}] at 0x17C2B17C0>"
      ]
     },
     "execution_count": 12,
     "metadata": {},
     "output_type": "execute_result"
    }
   ],
   "source": [
    "df.select(pl.all().len())"
   ]
  },
  {
   "cell_type": "code",
   "execution_count": 13,
   "metadata": {},
   "outputs": [
    {
     "ename": "ValueError",
     "evalue": "predicate always fails. An example traceback is shown above at 0.0.",
     "output_type": "error",
     "traceback": [
      "\u001b[0;31m---------------------------------------------------------------------------\u001b[0m",
      "\u001b[0;31mOpenDPException\u001b[0m                           Traceback (most recent call last)",
      "File \u001b[0;32m/Library/Frameworks/Python.framework/Versions/3.12/lib/python3.12/site-packages/opendp/mod.py:1070\u001b[0m, in \u001b[0;36mexponential_bounds_search\u001b[0;34m(predicate, T)\u001b[0m\n\u001b[1;32m   1069\u001b[0m \u001b[38;5;28;01mtry\u001b[39;00m:\n\u001b[0;32m-> 1070\u001b[0m     \u001b[43mpredicate\u001b[49m\u001b[43m(\u001b[49m\u001b[43mcenter\u001b[49m\u001b[43m)\u001b[49m\n\u001b[1;32m   1071\u001b[0m \u001b[38;5;28;01mexcept\u001b[39;00m \u001b[38;5;167;01mException\u001b[39;00m:\n",
      "File \u001b[0;32m/Library/Frameworks/Python.framework/Versions/3.12/lib/python3.12/site-packages/opendp/context.py:706\u001b[0m, in \u001b[0;36mPartialChain.fix.<locals>.<lambda>\u001b[0;34m(x)\u001b[0m\n\u001b[1;32m    701\u001b[0m \u001b[38;5;250m\u001b[39m\u001b[38;5;124;03m\"\"\"Returns the closest transformation or measurement that satisfies the given stability or privacy constraint.\u001b[39;00m\n\u001b[1;32m    702\u001b[0m \n\u001b[1;32m    703\u001b[0m \u001b[38;5;124;03mThe discovered parameter is assigned to the param attribute of the returned transformation or measurement.\u001b[39;00m\n\u001b[1;32m    704\u001b[0m \u001b[38;5;124;03m\"\"\"\u001b[39;00m\n\u001b[1;32m    705\u001b[0m param \u001b[38;5;241m=\u001b[39m binary_search(\n\u001b[0;32m--> 706\u001b[0m     \u001b[38;5;28;01mlambda\u001b[39;00m x: _cast_measure(\u001b[38;5;28;43mself\u001b[39;49m\u001b[38;5;241;43m.\u001b[39;49m\u001b[43mpartial\u001b[49m\u001b[43m(\u001b[49m\u001b[43mx\u001b[49m\u001b[43m)\u001b[49m, output_measure, d_out)\u001b[38;5;241m.\u001b[39mcheck(\n\u001b[1;32m    707\u001b[0m         d_in, d_out\n\u001b[1;32m    708\u001b[0m     ),\n\u001b[1;32m    709\u001b[0m     T\u001b[38;5;241m=\u001b[39mT,\n\u001b[1;32m    710\u001b[0m )\n\u001b[1;32m    711\u001b[0m chain \u001b[38;5;241m=\u001b[39m \u001b[38;5;28mself\u001b[39m\u001b[38;5;241m.\u001b[39mpartial(param)\n",
      "File \u001b[0;32m/Library/Frameworks/Python.framework/Versions/3.12/lib/python3.12/site-packages/opendp/polars.py:327\u001b[0m, in \u001b[0;36mLazyFrameQuery.resolve.<locals>.<lambda>\u001b[0;34m(s)\u001b[0m\n\u001b[1;32m    324\u001b[0m \u001b[38;5;66;03m# create an updated query and then resolve it into a measurement\u001b[39;00m\n\u001b[1;32m    325\u001b[0m \u001b[38;5;28;01mreturn\u001b[39;00m query\u001b[38;5;241m.\u001b[39mnew_with(\n\u001b[1;32m    326\u001b[0m     chain\u001b[38;5;241m=\u001b[39mPartialChain(\n\u001b[0;32m--> 327\u001b[0m         \u001b[38;5;28;01mlambda\u001b[39;00m s: \u001b[43mmake_private_lazyframe\u001b[49m\u001b[43m(\u001b[49m\n\u001b[1;32m    328\u001b[0m \u001b[43m            \u001b[49m\u001b[43minput_domain\u001b[49m\u001b[38;5;241;43m=\u001b[39;49m\u001b[43minput_domain\u001b[49m\u001b[43m,\u001b[49m\n\u001b[1;32m    329\u001b[0m \u001b[43m            \u001b[49m\u001b[43minput_metric\u001b[49m\u001b[38;5;241;43m=\u001b[39;49m\u001b[43minput_metric\u001b[49m\u001b[43m,\u001b[49m\n\u001b[1;32m    330\u001b[0m \u001b[43m            \u001b[49m\u001b[43moutput_measure\u001b[49m\u001b[38;5;241;43m=\u001b[39;49m\u001b[43mquery\u001b[49m\u001b[38;5;241;43m.\u001b[39;49m\u001b[43m_output_measure\u001b[49m\u001b[43m,\u001b[49m\n\u001b[1;32m    331\u001b[0m \u001b[43m            \u001b[49m\u001b[43mlazyframe\u001b[49m\u001b[38;5;241;43m=\u001b[39;49m\u001b[43mlf_plan\u001b[49m\u001b[43m,\u001b[49m\n\u001b[1;32m    332\u001b[0m \u001b[43m            \u001b[49m\u001b[43mglobal_scale\u001b[49m\u001b[38;5;241;43m=\u001b[39;49m\u001b[43ms\u001b[49m\u001b[43m,\u001b[49m\n\u001b[1;32m    333\u001b[0m \u001b[43m        \u001b[49m\u001b[43m)\u001b[49m\n\u001b[1;32m    334\u001b[0m     )\n\u001b[1;32m    335\u001b[0m )\u001b[38;5;241m.\u001b[39mresolve()\n",
      "File \u001b[0;32m/Library/Frameworks/Python.framework/Versions/3.12/lib/python3.12/site-packages/opendp/measurements.py:777\u001b[0m, in \u001b[0;36mmake_private_lazyframe\u001b[0;34m(input_domain, input_metric, output_measure, lazyframe, global_scale)\u001b[0m\n\u001b[1;32m    775\u001b[0m lib_function\u001b[38;5;241m.\u001b[39mrestype \u001b[38;5;241m=\u001b[39m FfiResult\n\u001b[0;32m--> 777\u001b[0m output \u001b[38;5;241m=\u001b[39m c_to_py(\u001b[43munwrap\u001b[49m\u001b[43m(\u001b[49m\u001b[43mlib_function\u001b[49m\u001b[43m(\u001b[49m\u001b[43mc_input_domain\u001b[49m\u001b[43m,\u001b[49m\u001b[43m \u001b[49m\u001b[43mc_input_metric\u001b[49m\u001b[43m,\u001b[49m\u001b[43m \u001b[49m\u001b[43mc_output_measure\u001b[49m\u001b[43m,\u001b[49m\u001b[43m \u001b[49m\u001b[43mc_lazyframe\u001b[49m\u001b[43m,\u001b[49m\u001b[43m \u001b[49m\u001b[43mc_global_scale\u001b[49m\u001b[43m)\u001b[49m\u001b[43m,\u001b[49m\u001b[43m \u001b[49m\u001b[43mMeasurement\u001b[49m\u001b[43m)\u001b[49m)\n\u001b[1;32m    779\u001b[0m \u001b[38;5;28;01mreturn\u001b[39;00m output\n",
      "File \u001b[0;32m/Library/Frameworks/Python.framework/Versions/3.12/lib/python3.12/site-packages/opendp/_lib.py:249\u001b[0m, in \u001b[0;36munwrap\u001b[0;34m(result, type_)\u001b[0m\n\u001b[1;32m    248\u001b[0m \u001b[38;5;66;03m# Rust stack traces follow from here:\u001b[39;00m\n\u001b[0;32m--> 249\u001b[0m \u001b[38;5;28;01mraise\u001b[39;00m OpenDPException(variant, message, backtrace)\n",
      "\u001b[0;31mOpenDPException\u001b[0m: \n  MakeMeasurement(\"Expr is not recognized at this time: col(\"name\").count(). \"\"If you would like to see this supported, please file an issue.\")",
      "\nDuring handling of the above exception, another exception occurred:\n",
      "\u001b[0;31mValueError\u001b[0m                                Traceback (most recent call last)",
      "Cell \u001b[0;32mIn[13], line 3\u001b[0m\n\u001b[1;32m      1\u001b[0m \u001b[43mcontext\u001b[49m\u001b[38;5;241;43m.\u001b[39;49m\u001b[43mquery\u001b[49m\u001b[43m(\u001b[49m\u001b[43m)\u001b[49m\u001b[38;5;241;43m.\u001b[39;49m\u001b[43mselect\u001b[49m\u001b[43m(\u001b[49m\n\u001b[1;32m      2\u001b[0m \u001b[43m   \u001b[49m\u001b[43mpl\u001b[49m\u001b[38;5;241;43m.\u001b[39;49m\u001b[43mall\u001b[49m\u001b[43m(\u001b[49m\u001b[43m)\u001b[49m\u001b[38;5;241;43m.\u001b[39;49m\u001b[43mlen\u001b[49m\u001b[43m(\u001b[49m\u001b[43m)\u001b[49m\n\u001b[0;32m----> 3\u001b[0m \u001b[43m)\u001b[49m\u001b[38;5;241;43m.\u001b[39;49m\u001b[43mrelease\u001b[49m\u001b[43m(\u001b[49m\u001b[43m)\u001b[49m\u001b[38;5;241m.\u001b[39mcollect()\n",
      "File \u001b[0;32m/Library/Frameworks/Python.framework/Versions/3.12/lib/python3.12/site-packages/opendp/polars.py:341\u001b[0m, in \u001b[0;36mLazyFrameQuery.release\u001b[0;34m(self)\u001b[0m\n\u001b[1;32m    339\u001b[0m query \u001b[38;5;241m=\u001b[39m \u001b[38;5;28mobject\u001b[39m\u001b[38;5;241m.\u001b[39m\u001b[38;5;21m__getattribute__\u001b[39m(\u001b[38;5;28mself\u001b[39m, \u001b[38;5;124m\"\u001b[39m\u001b[38;5;124m_query\u001b[39m\u001b[38;5;124m\"\u001b[39m)\n\u001b[1;32m    340\u001b[0m resolve \u001b[38;5;241m=\u001b[39m \u001b[38;5;28mobject\u001b[39m\u001b[38;5;241m.\u001b[39m\u001b[38;5;21m__getattribute__\u001b[39m(\u001b[38;5;28mself\u001b[39m, \u001b[38;5;124m\"\u001b[39m\u001b[38;5;124mresolve\u001b[39m\u001b[38;5;124m\"\u001b[39m)\n\u001b[0;32m--> 341\u001b[0m \u001b[38;5;28;01mreturn\u001b[39;00m query\u001b[38;5;241m.\u001b[39m_context(\u001b[43mresolve\u001b[49m\u001b[43m(\u001b[49m\u001b[43m)\u001b[49m)\n",
      "File \u001b[0;32m/Library/Frameworks/Python.framework/Versions/3.12/lib/python3.12/site-packages/opendp/polars.py:335\u001b[0m, in \u001b[0;36mLazyFrameQuery.resolve\u001b[0;34m(self)\u001b[0m\n\u001b[1;32m    322\u001b[0m input_domain, input_metric \u001b[38;5;241m=\u001b[39m query\u001b[38;5;241m.\u001b[39m_chain\n\u001b[1;32m    324\u001b[0m \u001b[38;5;66;03m# create an updated query and then resolve it into a measurement\u001b[39;00m\n\u001b[1;32m    325\u001b[0m \u001b[38;5;28;01mreturn\u001b[39;00m \u001b[43mquery\u001b[49m\u001b[38;5;241;43m.\u001b[39;49m\u001b[43mnew_with\u001b[49m\u001b[43m(\u001b[49m\n\u001b[1;32m    326\u001b[0m \u001b[43m    \u001b[49m\u001b[43mchain\u001b[49m\u001b[38;5;241;43m=\u001b[39;49m\u001b[43mPartialChain\u001b[49m\u001b[43m(\u001b[49m\n\u001b[1;32m    327\u001b[0m \u001b[43m        \u001b[49m\u001b[38;5;28;43;01mlambda\u001b[39;49;00m\u001b[43m \u001b[49m\u001b[43ms\u001b[49m\u001b[43m:\u001b[49m\u001b[43m \u001b[49m\u001b[43mmake_private_lazyframe\u001b[49m\u001b[43m(\u001b[49m\n\u001b[1;32m    328\u001b[0m \u001b[43m            \u001b[49m\u001b[43minput_domain\u001b[49m\u001b[38;5;241;43m=\u001b[39;49m\u001b[43minput_domain\u001b[49m\u001b[43m,\u001b[49m\n\u001b[1;32m    329\u001b[0m \u001b[43m            \u001b[49m\u001b[43minput_metric\u001b[49m\u001b[38;5;241;43m=\u001b[39;49m\u001b[43minput_metric\u001b[49m\u001b[43m,\u001b[49m\n\u001b[1;32m    330\u001b[0m \u001b[43m            \u001b[49m\u001b[43moutput_measure\u001b[49m\u001b[38;5;241;43m=\u001b[39;49m\u001b[43mquery\u001b[49m\u001b[38;5;241;43m.\u001b[39;49m\u001b[43m_output_measure\u001b[49m\u001b[43m,\u001b[49m\n\u001b[1;32m    331\u001b[0m \u001b[43m            \u001b[49m\u001b[43mlazyframe\u001b[49m\u001b[38;5;241;43m=\u001b[39;49m\u001b[43mlf_plan\u001b[49m\u001b[43m,\u001b[49m\n\u001b[1;32m    332\u001b[0m \u001b[43m            \u001b[49m\u001b[43mglobal_scale\u001b[49m\u001b[38;5;241;43m=\u001b[39;49m\u001b[43ms\u001b[49m\u001b[43m,\u001b[49m\n\u001b[1;32m    333\u001b[0m \u001b[43m        \u001b[49m\u001b[43m)\u001b[49m\n\u001b[1;32m    334\u001b[0m \u001b[43m    \u001b[49m\u001b[43m)\u001b[49m\n\u001b[0;32m--> 335\u001b[0m \u001b[43m\u001b[49m\u001b[43m)\u001b[49m\u001b[38;5;241;43m.\u001b[39;49m\u001b[43mresolve\u001b[49m\u001b[43m(\u001b[49m\u001b[43m)\u001b[49m\n",
      "File \u001b[0;32m/Library/Frameworks/Python.framework/Versions/3.12/lib/python3.12/site-packages/opendp/context.py:594\u001b[0m, in \u001b[0;36mQuery.resolve\u001b[0;34m(self, allow_transformations)\u001b[0m\n\u001b[1;32m    592\u001b[0m     \u001b[38;5;28;01massert\u001b[39;00m \u001b[38;5;28mself\u001b[39m\u001b[38;5;241m.\u001b[39m_d_in \u001b[38;5;129;01mis\u001b[39;00m \u001b[38;5;129;01mnot\u001b[39;00m \u001b[38;5;28;01mNone\u001b[39;00m\n\u001b[1;32m    593\u001b[0m     \u001b[38;5;28;01massert\u001b[39;00m \u001b[38;5;28mself\u001b[39m\u001b[38;5;241m.\u001b[39m_d_out \u001b[38;5;129;01mis\u001b[39;00m \u001b[38;5;129;01mnot\u001b[39;00m \u001b[38;5;28;01mNone\u001b[39;00m\n\u001b[0;32m--> 594\u001b[0m     chain \u001b[38;5;241m=\u001b[39m \u001b[38;5;28;43mself\u001b[39;49m\u001b[38;5;241;43m.\u001b[39;49m\u001b[43m_chain\u001b[49m\u001b[38;5;241;43m.\u001b[39;49m\u001b[43mfix\u001b[49m\u001b[43m(\u001b[49m\u001b[38;5;28;43mself\u001b[39;49m\u001b[38;5;241;43m.\u001b[39;49m\u001b[43m_d_in\u001b[49m\u001b[43m,\u001b[49m\u001b[43m \u001b[49m\u001b[38;5;28;43mself\u001b[39;49m\u001b[38;5;241;43m.\u001b[39;49m\u001b[43m_d_out\u001b[49m\u001b[43m,\u001b[49m\u001b[43m \u001b[49m\u001b[38;5;28;43mself\u001b[39;49m\u001b[38;5;241;43m.\u001b[39;49m\u001b[43m_output_measure\u001b[49m\u001b[43m)\u001b[49m\n\u001b[1;32m    595\u001b[0m \u001b[38;5;28;01melse\u001b[39;00m:\n\u001b[1;32m    596\u001b[0m     chain \u001b[38;5;241m=\u001b[39m \u001b[38;5;28mself\u001b[39m\u001b[38;5;241m.\u001b[39m_chain\n",
      "File \u001b[0;32m/Library/Frameworks/Python.framework/Versions/3.12/lib/python3.12/site-packages/opendp/context.py:705\u001b[0m, in \u001b[0;36mPartialChain.fix\u001b[0;34m(self, d_in, d_out, output_measure, T)\u001b[0m\n\u001b[1;32m    700\u001b[0m \u001b[38;5;28;01mdef\u001b[39;00m \u001b[38;5;21mfix\u001b[39m(\u001b[38;5;28mself\u001b[39m, d_in: \u001b[38;5;28mfloat\u001b[39m, d_out: \u001b[38;5;28mfloat\u001b[39m, output_measure: Optional[Measure] \u001b[38;5;241m=\u001b[39m \u001b[38;5;28;01mNone\u001b[39;00m, T\u001b[38;5;241m=\u001b[39m\u001b[38;5;28;01mNone\u001b[39;00m):\n\u001b[1;32m    701\u001b[0m \u001b[38;5;250m    \u001b[39m\u001b[38;5;124;03m\"\"\"Returns the closest transformation or measurement that satisfies the given stability or privacy constraint.\u001b[39;00m\n\u001b[1;32m    702\u001b[0m \n\u001b[1;32m    703\u001b[0m \u001b[38;5;124;03m    The discovered parameter is assigned to the param attribute of the returned transformation or measurement.\u001b[39;00m\n\u001b[1;32m    704\u001b[0m \u001b[38;5;124;03m    \"\"\"\u001b[39;00m\n\u001b[0;32m--> 705\u001b[0m     param \u001b[38;5;241m=\u001b[39m \u001b[43mbinary_search\u001b[49m\u001b[43m(\u001b[49m\n\u001b[1;32m    706\u001b[0m \u001b[43m        \u001b[49m\u001b[38;5;28;43;01mlambda\u001b[39;49;00m\u001b[43m \u001b[49m\u001b[43mx\u001b[49m\u001b[43m:\u001b[49m\u001b[43m \u001b[49m\u001b[43m_cast_measure\u001b[49m\u001b[43m(\u001b[49m\u001b[38;5;28;43mself\u001b[39;49m\u001b[38;5;241;43m.\u001b[39;49m\u001b[43mpartial\u001b[49m\u001b[43m(\u001b[49m\u001b[43mx\u001b[49m\u001b[43m)\u001b[49m\u001b[43m,\u001b[49m\u001b[43m \u001b[49m\u001b[43moutput_measure\u001b[49m\u001b[43m,\u001b[49m\u001b[43m \u001b[49m\u001b[43md_out\u001b[49m\u001b[43m)\u001b[49m\u001b[38;5;241;43m.\u001b[39;49m\u001b[43mcheck\u001b[49m\u001b[43m(\u001b[49m\n\u001b[1;32m    707\u001b[0m \u001b[43m            \u001b[49m\u001b[43md_in\u001b[49m\u001b[43m,\u001b[49m\u001b[43m \u001b[49m\u001b[43md_out\u001b[49m\n\u001b[1;32m    708\u001b[0m \u001b[43m        \u001b[49m\u001b[43m)\u001b[49m\u001b[43m,\u001b[49m\n\u001b[1;32m    709\u001b[0m \u001b[43m        \u001b[49m\u001b[43mT\u001b[49m\u001b[38;5;241;43m=\u001b[39;49m\u001b[43mT\u001b[49m\u001b[43m,\u001b[49m\n\u001b[1;32m    710\u001b[0m \u001b[43m    \u001b[49m\u001b[43m)\u001b[49m\n\u001b[1;32m    711\u001b[0m     chain \u001b[38;5;241m=\u001b[39m \u001b[38;5;28mself\u001b[39m\u001b[38;5;241m.\u001b[39mpartial(param)\n\u001b[1;32m    712\u001b[0m     chain\u001b[38;5;241m.\u001b[39mparam \u001b[38;5;241m=\u001b[39m param\n",
      "File \u001b[0;32m/Library/Frameworks/Python.framework/Versions/3.12/lib/python3.12/site-packages/opendp/mod.py:939\u001b[0m, in \u001b[0;36mbinary_search\u001b[0;34m(predicate, bounds, T, return_sign)\u001b[0m\n\u001b[1;32m    887\u001b[0m \u001b[38;5;250m\u001b[39m\u001b[38;5;124;03m\"\"\"Find the closest passing value to the decision boundary of `predicate`.\u001b[39;00m\n\u001b[1;32m    888\u001b[0m \n\u001b[1;32m    889\u001b[0m \u001b[38;5;124;03mIf bounds are not passed, conducts an exponential search.\u001b[39;00m\n\u001b[0;32m   (...)\u001b[0m\n\u001b[1;32m    936\u001b[0m \u001b[38;5;124;03m3\u001b[39;00m\n\u001b[1;32m    937\u001b[0m \u001b[38;5;124;03m\"\"\"\u001b[39;00m\n\u001b[1;32m    938\u001b[0m \u001b[38;5;28;01mif\u001b[39;00m bounds \u001b[38;5;129;01mis\u001b[39;00m \u001b[38;5;28;01mNone\u001b[39;00m:\n\u001b[0;32m--> 939\u001b[0m     bounds \u001b[38;5;241m=\u001b[39m \u001b[43mexponential_bounds_search\u001b[49m\u001b[43m(\u001b[49m\u001b[43mpredicate\u001b[49m\u001b[43m,\u001b[49m\u001b[43m \u001b[49m\u001b[43mT\u001b[49m\u001b[43m)\u001b[49m \u001b[38;5;66;03m# type: ignore\u001b[39;00m\n\u001b[1;32m    941\u001b[0m \u001b[38;5;28;01mif\u001b[39;00m bounds \u001b[38;5;129;01mis\u001b[39;00m \u001b[38;5;28;01mNone\u001b[39;00m:\n\u001b[1;32m    942\u001b[0m     \u001b[38;5;28;01mraise\u001b[39;00m \u001b[38;5;167;01mValueError\u001b[39;00m(\u001b[38;5;124m\"\u001b[39m\u001b[38;5;124munable to infer bounds\u001b[39m\u001b[38;5;124m\"\u001b[39m)\n",
      "File \u001b[0;32m/Library/Frameworks/Python.framework/Versions/3.12/lib/python3.12/site-packages/opendp/mod.py:1072\u001b[0m, in \u001b[0;36mexponential_bounds_search\u001b[0;34m(predicate, T)\u001b[0m\n\u001b[1;32m   1070\u001b[0m         predicate(center)\n\u001b[1;32m   1071\u001b[0m     \u001b[38;5;28;01mexcept\u001b[39;00m \u001b[38;5;167;01mException\u001b[39;00m:\n\u001b[0;32m-> 1072\u001b[0m         \u001b[38;5;28;01mraise\u001b[39;00m \u001b[38;5;167;01mValueError\u001b[39;00m(\u001b[38;5;124mf\u001b[39m\u001b[38;5;124m\"\u001b[39m\u001b[38;5;124mpredicate always fails. An example traceback is shown above at \u001b[39m\u001b[38;5;132;01m{\u001b[39;00mcenter\u001b[38;5;132;01m}\u001b[39;00m\u001b[38;5;124m.\u001b[39m\u001b[38;5;124m\"\u001b[39m)\n\u001b[1;32m   1075\u001b[0m center, sign \u001b[38;5;241m=\u001b[39m binary_search(exception_predicate, bounds\u001b[38;5;241m=\u001b[39mexception_bounds, T\u001b[38;5;241m=\u001b[39mT, return_sign\u001b[38;5;241m=\u001b[39m\u001b[38;5;28;01mTrue\u001b[39;00m)\n\u001b[1;32m   1076\u001b[0m at_center \u001b[38;5;241m=\u001b[39m predicate(center)\n",
      "\u001b[0;31mValueError\u001b[0m: predicate always fails. An example traceback is shown above at 0.0."
     ]
    }
   ],
   "source": [
    "context.query().select(\n",
    "   pl.all().len()\n",
    ").release().collect()"
   ]
  },
  {
   "cell_type": "code",
   "execution_count": null,
   "metadata": {},
   "outputs": [
    {
     "ename": "NameError",
     "evalue": "name 'context' is not defined",
     "output_type": "error",
     "traceback": [
      "\u001b[0;31m---------------------------------------------------------------------------\u001b[0m",
      "\u001b[0;31mNameError\u001b[0m                                 Traceback (most recent call last)",
      "Cell \u001b[0;32mIn[1], line 1\u001b[0m\n\u001b[0;32m----> 1\u001b[0m \u001b[43mcontext\u001b[49m\u001b[38;5;241m.\u001b[39mquery()\u001b[38;5;241m.\u001b[39mselect(\n\u001b[1;32m      2\u001b[0m     pl\u001b[38;5;241m.\u001b[39mcol(\u001b[38;5;124m\"\u001b[39m\u001b[38;5;124mage\u001b[39m\u001b[38;5;124m\"\u001b[39m)\u001b[38;5;241m.\u001b[39mfill_null(\u001b[38;5;241m40.0\u001b[39m)\u001b[38;5;241m.\u001b[39mfill_nan(\u001b[38;5;241m40.0\u001b[39m)\u001b[38;5;241m.\u001b[39mlen()\u001b[38;5;241m.\u001b[39mdp\u001b[38;5;241m.\u001b[39mnoise()\n\u001b[1;32m      3\u001b[0m )\u001b[38;5;241m.\u001b[39mrelease()\u001b[38;5;241m.\u001b[39mcollect()\n",
      "\u001b[0;31mNameError\u001b[0m: name 'context' is not defined"
     ]
    }
   ],
   "source": [
    "context.query().select(\n",
    "    pl.col(\"age\").fill_null(40.0).fill_nan(40.0).len().dp.noise()\n",
    ").release().collect()"
   ]
  },
  {
   "cell_type": "code",
   "execution_count": 14,
   "metadata": {},
   "outputs": [
    {
     "ename": "AttributeError",
     "evalue": "'Expr' object has no attribute 'pl'",
     "output_type": "error",
     "traceback": [
      "\u001b[0;31m---------------------------------------------------------------------------\u001b[0m",
      "\u001b[0;31mAttributeError\u001b[0m                            Traceback (most recent call last)",
      "Cell \u001b[0;32mIn[14], line 1\u001b[0m\n\u001b[0;32m----> 1\u001b[0m context\u001b[38;5;241m.\u001b[39mquery()\u001b[38;5;241m.\u001b[39mselect(\u001b[43mpl\u001b[49m\u001b[38;5;241;43m.\u001b[39;49m\u001b[43mcol\u001b[49m\u001b[43m(\u001b[49m\u001b[38;5;124;43m\"\u001b[39;49m\u001b[38;5;124;43mage\u001b[39;49m\u001b[38;5;124;43m\"\u001b[39;49m\u001b[43m)\u001b[49m\u001b[38;5;241;43m.\u001b[39;49m\u001b[43mfill_null\u001b[49m\u001b[43m(\u001b[49m\u001b[38;5;241;43m40.0\u001b[39;49m\u001b[43m)\u001b[49m\u001b[38;5;241;43m.\u001b[39;49m\u001b[43mfill_nan\u001b[49m\u001b[43m(\u001b[49m\u001b[38;5;241;43m40.0\u001b[39;49m\u001b[43m)\u001b[49m\u001b[38;5;241;43m.\u001b[39;49m\u001b[43mpl\u001b[49m\u001b[38;5;241m.\u001b[39mlen()\u001b[38;5;241m.\u001b[39mdp\u001b[38;5;241m.\u001b[39mnoise()\n\u001b[1;32m      2\u001b[0m )\u001b[38;5;241m.\u001b[39mrelease()\u001b[38;5;241m.\u001b[39mcollect()\n",
      "\u001b[0;31mAttributeError\u001b[0m: 'Expr' object has no attribute 'pl'"
     ]
    }
   ],
   "source": [
    "context.query().select(pl.col(\"age\").fill_null(40.0).fill_nan(40.0).pl.len().dp.noise()\n",
    ").release().collect()"
   ]
  },
  {
   "cell_type": "code",
   "execution_count": 27,
   "metadata": {},
   "outputs": [
    {
     "data": {
      "text/html": [
       "<div><style>\n",
       ".dataframe > thead > tr,\n",
       ".dataframe > tbody > tr {\n",
       "  text-align: right;\n",
       "  white-space: pre-wrap;\n",
       "}\n",
       "</style>\n",
       "<small>shape: (1, 1)</small><table border=\"1\" class=\"dataframe\"><thead><tr><th>len</th></tr><tr><td>u32</td></tr></thead><tbody><tr><td>6997</td></tr></tbody></table></div>"
      ],
      "text/plain": [
       "shape: (1, 1)\n",
       "┌──────┐\n",
       "│ len  │\n",
       "│ ---  │\n",
       "│ u32  │\n",
       "╞══════╡\n",
       "│ 6997 │\n",
       "└──────┘"
      ]
     },
     "execution_count": 27,
     "metadata": {},
     "output_type": "execute_result"
    }
   ],
   "source": [
    "context.query().filter(pl.col(\"age\")>0).select(\n",
    "    pl.len().dp.noise()\n",
    ").release().collect()"
   ]
  },
  {
   "cell_type": "code",
   "execution_count": null,
   "metadata": {},
   "outputs": [],
   "source": []
  }
 ],
 "metadata": {
  "kernelspec": {
   "display_name": "Python 3",
   "language": "python",
   "name": "python3"
  },
  "language_info": {
   "codemirror_mode": {
    "name": "ipython",
    "version": 3
   },
   "file_extension": ".py",
   "mimetype": "text/x-python",
   "name": "python",
   "nbconvert_exporter": "python",
   "pygments_lexer": "ipython3",
   "version": "3.12.3"
  }
 },
 "nbformat": 4,
 "nbformat_minor": 2
}
