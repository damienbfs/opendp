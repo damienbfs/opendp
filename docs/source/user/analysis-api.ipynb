{
 "cells": [
  {
   "cell_type": "markdown",
   "metadata": {},
   "source": [
    "## Higher-Level API"
   ]
  },
  {
   "cell_type": "markdown",
   "metadata": {},
   "source": [
    "The Analysis API preserves the core elements of the OpenDP framework, but simplifies the process of constructing DP analyses by using a more data-oriented approach, familiar to libraries like Pandas and NumPy."
   ]
  },
  {
   "attachments": {},
   "cell_type": "markdown",
   "metadata": {},
   "source": [
    "A `Context` is a privacy accountant that mediates query access to your sensitive dataset. Although we anticipate adding more constructors in an upcoming release, at this time, a `Context` can only be constructed via the `compositor` constructor.  Broadly speaking, constructors require the following parameters:\n",
    "- `data`: The data to be analyzed.\n",
    "- `privacy_unit`: A tuple consisting of a metric and dataset distance\n",
    "- `privacy_loss`: A tuple consisting of a privacy measure and a privacy loss parameter.\n",
    "\n",
    "In addition, `compositor` requires:\n",
    "- `split_evenly_over` or `split_by_weights`: Either one of these parameters must be specified. When making multiple DP queries on the same dataset, these parameters define how you want to split your privacy budget across your queries."
   ]
  },
  {
   "attachments": {},
   "cell_type": "markdown",
   "metadata": {},
   "source": [
    "The `unit_of` and `loss_of` helper functions can be used to construct the `privacy_unit` and `privacy_loss` parameters, respectively. The `unit_of` wrapper allows you to define the contributions (the number of entries a single individual contributed to in the dataset) and the dataset distance.\n",
    "\n",
    "By default, defining a value for the contributions parameter gives a Symmetric Distance while defining a value for the changes parameter gives a Change One Distance."
   ]
  },
  {
   "cell_type": "code",
   "execution_count": 15,
   "metadata": {},
   "outputs": [
    {
     "name": "stdout",
     "output_type": "stream",
     "text": [
      "(SymmetricDistance(), 3)\n",
      "(ChangeOneDistance(), 3)\n"
     ]
    }
   ],
   "source": [
    "from typing import List\n",
    "import opendp.prelude as dp\n",
    "dp.enable_features(\"contrib\")\n",
    "\n",
    "print(dp.unit_of(contributions=3))\n",
    "print(dp.unit_of(changes=3))"
   ]
  },
  {
   "cell_type": "markdown",
   "metadata": {},
   "source": [
    "Absolute distance, L1 Distance, and L2 Distance can also be defined as follows."
   ]
  },
  {
   "cell_type": "code",
   "execution_count": 16,
   "metadata": {},
   "outputs": [
    {
     "name": "stdout",
     "output_type": "stream",
     "text": [
      "(AbsoluteDistance(i32), 5)\n",
      "(L1Distance(i32), 5)\n",
      "(L2Distance(i32), 5)\n"
     ]
    }
   ],
   "source": [
    "print(dp.unit_of(absolute=5))\n",
    "print(dp.unit_of(l1=5))\n",
    "print(dp.unit_of(l2=5))"
   ]
  },
  {
   "cell_type": "markdown",
   "metadata": {},
   "source": [
    "The `loss_of` wrapper allows you to define privacy measures and loss for different forms of DP."
   ]
  },
  {
   "cell_type": "code",
   "execution_count": 17,
   "metadata": {},
   "outputs": [],
   "source": [
    "# Pure DP\n",
    "measure, distance = dp.loss_of(epsilon=1.0)\n",
    "# Approximate DP\n",
    "measure, distance = dp.loss_of(epsilon=1.0, delta=1e-9)\n",
    "# Zero-Concentrated DP\n",
    "measure, distance = dp.loss_of(rho=1.0)"
   ]
  },
  {
   "cell_type": "markdown",
   "metadata": {},
   "source": [
    "Now, let's create an Analysis object via the `sequential_composition` method. Note that leaving the `domain` parameter unspecified assumes that the structure of the data is public knowledge. In some cases, specifying the domain explicitly can improve utility (i.e by setting dataset size)."
   ]
  },
  {
   "cell_type": "code",
   "execution_count": 20,
   "metadata": {},
   "outputs": [],
   "source": [
    "context = dp.Context.sequential_composition(\n",
    "        data=[1, 2, 3],\n",
    "        privacy_unit=dp.unit_of(contributions=1),\n",
    "        privacy_loss=dp.loss_of(epsilon=3.0),\n",
    "        domain=dp.domain_of(List[int]),\n",
    "        split_evenly_over=1\n",
    "    )"
   ]
  },
  {
   "cell_type": "markdown",
   "metadata": {},
   "source": [
    "Once you have created the `Analysis` object, you can submit DP queries to it. This example clamps the data, computes the sum, and applies Laplace noise calibrated to the privacy budget of epsilon=3.0. The query is not applied to the data until `.release()` is called."
   ]
  },
  {
   "cell_type": "code",
   "execution_count": 21,
   "metadata": {},
   "outputs": [
    {
     "name": "stdout",
     "output_type": "stream",
     "text": [
      "7\n"
     ]
    }
   ],
   "source": [
    "dp_sum = context.query().clamp((0, 5)).sum().laplace()\n",
    "print(dp_sum.release())"
   ]
  },
  {
   "cell_type": "markdown",
   "metadata": {},
   "source": [
    "Note that attempting to run another DP query will result in a message stating that we have exhausted our number of queries."
   ]
  },
  {
   "cell_type": "code",
   "execution_count": 24,
   "metadata": {},
   "outputs": [
    {
     "name": "stdout",
     "output_type": "stream",
     "text": [
      "out of queries\n"
     ]
    }
   ],
   "source": [
    "from opendp.mod import OpenDPException\n",
    "\n",
    "try:\n",
    "    print(dp_sum.release())\n",
    "except OpenDPException as err:\n",
    "    print(err.message)"
   ]
  },
  {
   "cell_type": "markdown",
   "metadata": {},
   "source": [
    "You can allow for more queries by changing the `split_evenly_over` parameter."
   ]
  },
  {
   "cell_type": "code",
   "execution_count": 25,
   "metadata": {},
   "outputs": [],
   "source": [
    "analysis = dp.Context.sequential_composition(\n",
    "        data=[1, 2, 3],\n",
    "        privacy_unit=dp.unit_of(contributions=1),\n",
    "        # Approximate DP this time\n",
    "        privacy_loss=dp.loss_of(epsilon=3.0, delta=1e-6),\n",
    "        domain=dp.domain_of(List[int]),\n",
    "        split_evenly_over=3\n",
    "    )"
   ]
  },
  {
   "cell_type": "markdown",
   "metadata": {},
   "source": [
    "Now, we can split our privacy budget evenly over 3 queries."
   ]
  },
  {
   "cell_type": "code",
   "execution_count": 79,
   "metadata": {},
   "outputs": [
    {
     "name": "stdout",
     "output_type": "stream",
     "text": [
      "-1\n",
      "-9.134325408962367\n",
      "4\n"
     ]
    }
   ],
   "source": [
    "# Release a DP sum\n",
    "dp_sum = context.query().clamp((0, 5)).sum().gaussian()\n",
    "print(dp_sum.release())\n",
    "\n",
    "# Release a DP mean\n",
    "dp_mean = (\n",
    "        context.query()\n",
    "        .cast_default(float)\n",
    "        .clamp((0.0, 5.0))\n",
    "        .resize(3, constant=2.5)\n",
    "        .mean()\n",
    "        .gaussian()\n",
    "    )\n",
    "print(dp_mean.release())\n",
    "\n",
    "# Release a DP count\n",
    "dp_count = context.query().clamp((0, 5)).count().gaussian()\n",
    "print(dp_count.release())"
   ]
  },
  {
   "cell_type": "markdown",
   "metadata": {},
   "source": [
    "The `split_evenly_over` parameter splits the privacy loss evenly across each query. If you wanted to give more of our privacy budget to one of the queries, you can do so by specifying the `split_by_weights` parameter instead."
   ]
  },
  {
   "cell_type": "code",
   "execution_count": 29,
   "metadata": {},
   "outputs": [],
   "source": [
    "context = dp.Context.sequential_composition(\n",
    "        data=[1, 2, 3],\n",
    "        privacy_unit=dp.unit_of(contributions=1),\n",
    "        # Rho DP this time\n",
    "        privacy_loss=dp.loss_of(rho=1.0),\n",
    "        domain=dp.domain_of(List[int]),\n",
    "        # Give more privacy loss to the second query\n",
    "        split_by_weights=[1, 2]\n",
    "    )"
   ]
  },
  {
   "cell_type": "code",
   "execution_count": 30,
   "metadata": {},
   "outputs": [
    {
     "name": "stdout",
     "output_type": "stream",
     "text": [
      "14\n",
      "3\n"
     ]
    }
   ],
   "source": [
    "# Release a DP sum, using 1/3 of the privacy loss\n",
    "dp_sum = context.query().clamp((0, 5)).sum().laplace()\n",
    "print(dp_sum.release())\n",
    "\n",
    "# Release a DP count, using 2/3 of the privacy loss\n",
    "dp_count = context.query().clamp((0, 5)).count().laplace()\n",
    "print(dp_count.release())"
   ]
  }
 ],
 "metadata": {
  "kernelspec": {
   "display_name": "opendp",
   "language": "python",
   "name": "python3"
  },
  "language_info": {
   "codemirror_mode": {
    "name": "ipython",
    "version": 3
   },
   "file_extension": ".py",
   "mimetype": "text/x-python",
   "name": "python",
   "nbconvert_exporter": "python",
   "pygments_lexer": "ipython3",
   "version": "3.11.4"
  },
  "orig_nbformat": 4
 },
 "nbformat": 4,
 "nbformat_minor": 2
}
