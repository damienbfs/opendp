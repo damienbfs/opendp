{
 "cells": [
  {
   "cell_type": "markdown",
   "metadata": {},
   "source": [
    "## Working with Booleans\n",
    "\n",
    "Demonstrates some simple data processing primitives that use booleans."
   ]
  },
  {
   "cell_type": "code",
   "execution_count": 17,
   "metadata": {},
   "outputs": [
    {
     "data": {
      "text/plain": [
       "[1, 3]"
      ]
     },
     "execution_count": 17,
     "metadata": {},
     "output_type": "execute_result"
    }
   ],
   "source": [
    "from opendp.transformations import *\n",
    "from opendp.measurements import *\n",
    "from opendp.combinators import *\n",
    "from opendp.typing import *\n",
    "from opendp.mod import enable_features\n",
    "\n",
    "enable_features(\"contrib\")\n",
    "\n",
    "trans = (\n",
    "    make_is_equal(\"T\")\n",
    "    >> make_count_by_categories([True, False], null_category=False)\n",
    ")\n",
    "\n",
    "data = [\"T\", \"F\", \"NA\", \"\"]\n",
    "trans(data)"
   ]
  },
  {
   "cell_type": "code",
   "execution_count": 25,
   "metadata": {},
   "outputs": [
    {
     "data": {
      "text/plain": [
       "['Good', 'Good', 'Good', 'Unknown']"
      ]
     },
     "execution_count": 25,
     "metadata": {},
     "output_type": "execute_result"
    }
   ],
   "source": [
    "# relabeling\n",
    "data = [\"A\", \"A\", \"B\", \"E\"]\n",
    "\n",
    "categories = [\"A\", \"B\", \"C\", \"D\"]\n",
    "trans = (\n",
    "    make_find(categories) >> \n",
    "    make_impute_constant(len(categories), \"OptionNullDomain<AllDomain<usize>>\")\n",
    "    >> make_index([\"Good\", \"Good\", \"Bad\", \"Bad\"], \"Unknown\")\n",
    ")\n",
    "trans(data)\n"
   ]
  },
  {
   "cell_type": "code",
   "execution_count": 7,
   "metadata": {},
   "outputs": [
    {
     "data": {
      "text/plain": [
       "[1, 1, 2]"
      ]
     },
     "execution_count": 7,
     "metadata": {},
     "output_type": "execute_result"
    }
   ],
   "source": [
    "# when you have an uncategorized value\n",
    "make_count_by_categories([\"T\", \"F\"])(data)"
   ]
  },
  {
   "cell_type": "code",
   "execution_count": 11,
   "metadata": {},
   "outputs": [
    {
     "data": {
      "text/plain": [
       "[6, 2]"
      ]
     },
     "execution_count": 11,
     "metadata": {},
     "output_type": "execute_result"
    }
   ],
   "source": [
    "data = [\"A\", \"B\", \"C\", \"D\", \"1\", \"2\", \"1.\", \"a1\"]\n",
    "# is null example\n",
    "trans = (\n",
    "    make_cast(str, int)\n",
    "    >> make_is_null(OptionNullDomain[AllDomain[int]])\n",
    "    >> make_count_by_categories([True, False], null_category=False)\n",
    ")\n",
    "trans(data)"
   ]
  },
  {
   "cell_type": "code",
   "execution_count": 28,
   "metadata": {},
   "outputs": [
    {
     "data": {
      "text/plain": [
       "[False, False, False, True]"
      ]
     },
     "execution_count": 28,
     "metadata": {},
     "output_type": "execute_result"
    }
   ],
   "source": [
    "# check if is not in a set\n",
    "data = [\"A\", \"A\", \"B\", \"E\"]\n",
    "\n",
    "categories = [\"A\", \"B\", \"C\", \"D\"]\n",
    "trans = (\n",
    "    make_find(categories) >> \n",
    "    make_is_null(OptionNullDomain[AllDomain[usize]])\n",
    ")\n",
    "trans(data)"
   ]
  },
  {
   "cell_type": "code",
   "execution_count": 20,
   "metadata": {},
   "outputs": [
    {
     "data": {
      "text/plain": [
       "2.0"
      ]
     },
     "execution_count": 20,
     "metadata": {},
     "output_type": "execute_result"
    }
   ],
   "source": [
    "path = \"../data/PUMS_california_demographics_1000/data.csv\"\n",
    "\n",
    "columns = [\"age\", \"sex\", \"educ\", \"race\", \"income\", \"married\"]\n",
    "trans_married = (\n",
    "    make_split_dataframe(\",\", columns)\n",
    "    >> make_df_is_equal(\"married\", \"1\")\n",
    "    >> make_subset_by(\"married\", columns)\n",
    ")\n",
    "\n",
    "counter = (\n",
    "    make_select_column(\"age\", str)\n",
    "    >> make_cast_default(str, int)\n",
    "    >> make_count(int)\n",
    "    >> make_base_discrete_laplace(1.0)\n",
    ")\n",
    "\n",
    "meas = trans_married >> make_basic_composition([counter, counter])\n",
    "\n",
    "meas(open(path).read())\n",
    "\n",
    "meas.map(1)\n"
   ]
  }
 ],
 "metadata": {
  "kernelspec": {
   "display_name": "Python 3.8.13 ('psi')",
   "language": "python",
   "name": "python3"
  },
  "language_info": {
   "codemirror_mode": {
    "name": "ipython",
    "version": 3
   },
   "file_extension": ".py",
   "mimetype": "text/x-python",
   "name": "python",
   "nbconvert_exporter": "python",
   "pygments_lexer": "ipython3",
   "version": "3.8.13"
  },
  "orig_nbformat": 4,
  "vscode": {
   "interpreter": {
    "hash": "3220da548452ac41acb293d0d6efded0f046fab635503eb911c05f743e930f34"
   }
  }
 },
 "nbformat": 4,
 "nbformat_minor": 2
}
