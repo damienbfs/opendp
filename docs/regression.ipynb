{
 "cells": [
  {
   "cell_type": "markdown",
   "metadata": {},
   "source": [
    "# Regression"
   ]
  },
  {
   "cell_type": "markdown",
   "metadata": {},
   "source": [
    "## Introduction"
   ]
  },
  {
   "cell_type": "markdown",
   "metadata": {},
   "source": [
    "In this tutorial, we will be using the Theil-Sen estimator to create differentially private regressions. \n",
    "\n",
    "The Theil-Sen estimator is a robust method to fit a line to sample points by choosing the median of the slopes of all the lines through all the pairs of the points. Some of the advantages Theil-Sen has compared to ordinary least squares regression are that it is insensitive to outliers, significantly more accurate for skewed and heteroskedastic data, and fast algorithms for efficiently computing its parameters. It's been labled as \"the most popular nonparametric technique for estimating a linear trend.\"\n",
    "\n",
    "Source: [Wikipedia](https://en.wikipedia.org/wiki/Theil–Sen_estimator)"
   ]
  },
  {
   "cell_type": "markdown",
   "metadata": {},
   "source": [
    "Let's get started! We will only need a few libraries for this tutorial. This tutorial has two parts: \n",
    "\n",
    "1. Define the Regression Functions and Test on Synthetic Data\n",
    "2. Apply to Real Dataset"
   ]
  },
  {
   "cell_type": "code",
   "execution_count": 7,
   "metadata": {},
   "outputs": [],
   "source": [
    "import opendp.prelude as dp\n",
    "import numpy as np\n",
    "import polars as pl \n",
    "\n",
    "dp.enable_features(\"honest-but-curious\")\n",
    "dp.assert_features(\"honest-but-curious\")"
   ]
  },
  {
   "cell_type": "markdown",
   "metadata": {},
   "source": [
    "## Defining Regression Functions"
   ]
  },
  {
   "cell_type": "markdown",
   "metadata": {},
   "source": [
    "The following code defines alpha values that represent the 25th and 75th percentiles of the distribution of slopes computed from the random points in the dataset. \n",
    "\n",
    "Moreover, the 25th and 75th percentiles provide a nuanced understanding of the variability present in the dataset. "
   ]
  },
  {
   "cell_type": "markdown",
   "metadata": {},
   "source": [
    "### 1) Define Alphas"
   ]
  },
  {
   "cell_type": "code",
   "execution_count": 2,
   "metadata": {},
   "outputs": [],
   "source": [
    "alphas = np.array([[0.25], [0.75]])"
   ]
  },
  {
   "cell_type": "markdown",
   "metadata": {},
   "source": [
    "### 2) Define a Function to Compute Points on the Percentile Lines"
   ]
  },
  {
   "cell_type": "markdown",
   "metadata": {},
   "source": [
    "This function partitions a dataset into random pairs, calculates a slope for each pair, and computes points on the slopes on the lines of the percentiles we specified. "
   ]
  },
  {
   "cell_type": "code",
   "execution_count": 3,
   "metadata": {},
   "outputs": [],
   "source": [
    "def f_match(data):\n",
    "    #get an even number of rows\n",
    "    data = np.array(data, copy=True)[:len(data) // 2 * 2]\n",
    "    #shuffle the data for robustness\n",
    "    np.random.shuffle(data)\n",
    "    #split the data into pairs\n",
    "    p1, p2 = np.array_split(data, 2)\n",
    "    #compute differences\n",
    "    dx, dy = (p2 - p1).T\n",
    "    #compute slopes\n",
    "    slope = dy / dx\n",
    "    x_bar, y_bar = (p1 + p2).T / 2\n",
    "    #compute points on line of percentiles\n",
    "    points = slope * (alphas - x_bar) + y_bar\n",
    "    #keep only pairs where the x difference is positive\n",
    "    return points.T[dx > 0]\n"
   ]
  },
  {
   "cell_type": "markdown",
   "metadata": {},
   "source": [
    "### 3) Define a Function to Compute Differentially Private Percentiles"
   ]
  },
  {
   "cell_type": "markdown",
   "metadata": {},
   "source": [
    "what is k\n",
    "\n",
    "This function creates a differentially private transformation for computing Theil-Sen percentiles by repeatedly calling the function 'f_match'. \n",
    "\n",
    "but f'match returns points"
   ]
  },
  {
   "cell_type": "code",
   "execution_count": 58,
   "metadata": {},
   "outputs": [],
   "source": [
    "def make_theil_sen_percentiles(k: int=1):\n",
    "    return dp.t.make_user_transformation(\n",
    "        input_domain=dp.np_array2_domain(T=int, num_columns=2),\n",
    "        input_metric=dp.symmetric_distance(),\n",
    "        output_domain=dp.np_array2_domain(T=int, num_columns=2),\n",
    "        output_metric=dp.symmetric_distance(),\n",
    "        function=lambda x: np.vstack([f_match(x) for _ in range(int(k))]),\n",
    "        stability_map=lambda b_in: k * b_in)\n"
   ]
  },
  {
   "cell_type": "code",
   "execution_count": 68,
   "metadata": {},
   "outputs": [
    {
     "data": {
      "text/plain": [
       "Transformation(\n",
       "    input_domain   = NPArray2Domain(num_columns=2, T=i32),\n",
       "    output_domain  = NPArray2Domain(num_columns=2, T=i32),\n",
       "    input_metric   = SymmetricDistance(),\n",
       "    output_metric  = SymmetricDistance()\n",
       ")"
      ]
     },
     "execution_count": 68,
     "metadata": {},
     "output_type": "execute_result"
    }
   ],
   "source": [
    "make_theil_sen_percentiles(1)"
   ]
  },
  {
   "cell_type": "markdown",
   "metadata": {},
   "source": [
    "### 4) Create a Function to Select a Specific Column"
   ]
  },
  {
   "cell_type": "markdown",
   "metadata": {},
   "source": [
    "This function creates a transformation to select a specific column from a dataset. "
   ]
  },
  {
   "cell_type": "code",
   "execution_count": 21,
   "metadata": {},
   "outputs": [],
   "source": [
    "def make_select_column(j):\n",
    "    return dp.t.make_user_transformation(\n",
    "        input_domain=dp.np_array2_domain(T=int, num_columns=2),\n",
    "        input_metric=dp.symmetric_distance(),\n",
    "        output_domain=dp.vector_domain(dp.atom_domain(T=int)),\n",
    "        output_metric=dp.symmetric_distance(),\n",
    "        function=lambda x: x[:, j],\n",
    "        stability_map=lambda b_in: b_in)\n"
   ]
  },
  {
   "cell_type": "code",
   "execution_count": 69,
   "metadata": {},
   "outputs": [
    {
     "data": {
      "text/plain": [
       "Transformation(\n",
       "    input_domain   = NPArray2Domain(num_columns=2, T=i32),\n",
       "    output_domain  = VectorDomain(AtomDomain(T=i32)),\n",
       "    input_metric   = SymmetricDistance(),\n",
       "    output_metric  = SymmetricDistance()\n",
       ")"
      ]
     },
     "execution_count": 69,
     "metadata": {},
     "output_type": "execute_result"
    }
   ],
   "source": [
    "make_select_column(1)"
   ]
  },
  {
   "cell_type": "markdown",
   "metadata": {},
   "source": [
    "### 5) Create a Function to Make Private Quantiles in Bounds"
   ]
  },
  {
   "cell_type": "markdown",
   "metadata": {},
   "source": [
    "This script will need a bit of an adjustment: make_private_quantile_in_bounds should instead use the quantile scorer + RNM"
   ]
  },
  {
   "cell_type": "code",
   "execution_count": 71,
   "metadata": {},
   "outputs": [
    {
     "data": {
      "text/plain": [
       "Transformation(\n",
       "    input_domain   = VectorDomain(AtomDomain(T=i32)),\n",
       "    output_domain  = VectorDomain(AtomDomain(T=usize), size=100),\n",
       "    input_metric   = SymmetricDistance(),\n",
       "    output_metric  = LInfDistance(T=usize)\n",
       ")"
      ]
     },
     "execution_count": 71,
     "metadata": {},
     "output_type": "execute_result"
    }
   ],
   "source": [
    "discrete_scores = dp.t.make_quantile_score_candidates(dp.vector_domain(dp.atom_domain(T=int)), \n",
    "                                    dp.symmetric_distance(), \n",
    "                                    list(range(100)), \n",
    "                                    0.5)\n",
    "discrete_scores"
   ]
  },
  {
   "cell_type": "code",
   "execution_count": 72,
   "metadata": {},
   "outputs": [
    {
     "data": {
      "text/plain": [
       "Measurement(\n",
       "    input_domain   = VectorDomain(AtomDomain(T=usize), size=100),\n",
       "    input_metric   = LInfDistance(T=usize),\n",
       "    output_measure = MaxDivergence(f64))"
      ]
     },
     "execution_count": 72,
     "metadata": {},
     "output_type": "execute_result"
    }
   ],
   "source": [
    "input_space = dp.vector_domain(dp.atom_domain(T=dp.usize), 100), dp.linf_distance(T=dp.usize)\n",
    "\n",
    "#adding noise is the measurement\n",
    "select_index_measurement = dp.m.make_report_noisy_max_gumbel(*input_space, scale=1.0, optimize='min')\n",
    "select_index_measurement"
   ]
  },
  {
   "cell_type": "code",
   "execution_count": 73,
   "metadata": {},
   "outputs": [
    {
     "data": {
      "text/plain": [
       "Measurement(\n",
       "    input_domain   = VectorDomain(AtomDomain(T=i32)),\n",
       "    input_metric   = SymmetricDistance(),\n",
       "    output_measure = MaxDivergence(f64))"
      ]
     },
     "execution_count": 73,
     "metadata": {},
     "output_type": "execute_result"
    }
   ],
   "source": [
    "private_quantiles = discrete_scores >> select_index_measurement\n",
    "private_quantiles"
   ]
  },
  {
   "cell_type": "markdown",
   "metadata": {},
   "source": [
    "### 6) Create a Differentially Private Theil-Sen Estimator"
   ]
  },
  {
   "cell_type": "markdown",
   "metadata": {},
   "source": [
    "Using the functions already defined, this function privately computes the median slope, selects the appropriate column, and applies post-processing steps to compute the final regression coefficients."
   ]
  },
  {
   "cell_type": "code",
   "execution_count": 105,
   "metadata": {},
   "outputs": [],
   "source": [
    "def make_private_theil_sen(bounds, k, scale):\n",
    "    # Released percentiles relate to regression coefficients by a system:\n",
    "    #     p25 = .25 α + β\n",
    "    #     p75 = .75 α + β\n",
    "    # Equivalently:\n",
    "    #     p = [[.25, 1.0], [.75, 1.0]] @ [[α], [β]]\n",
    "\n",
    "    def postprocess(p):\n",
    "        return int(-2 * np.array([[1, -1], [-.75, .25]]) @ p)\n",
    "\n",
    "    m_median = discrete_scores >> select_index_measurement\n",
    "\n",
    "    return make_theil_sen_percentiles(k) >> dp.c.make_basic_composition([\n",
    "        make_select_column(0) >> m_median,\n",
    "        make_select_column(1) >> m_median,\n",
    "    ]) >> postprocess"
   ]
  },
  {
   "cell_type": "code",
   "execution_count": null,
   "metadata": {},
   "outputs": [],
   "source": [
    "# sc_meas = dp.c.make_sequential_composition(\n",
    "#     input_domain=dp.vector_domain(dp.atom_domain(T=int)),\n",
    "#     input_metric=dp.symmetric_distance(),\n",
    "#     output_measure=dp.max_divergence(T=float),\n",
    "#     d_in=1,\n",
    "#     d_mids=[2., 1.]\n",
    "# )"
   ]
  },
  {
   "cell_type": "markdown",
   "metadata": {},
   "source": [
    "## Creating and Applying the Mechanism to Synthetic Data"
   ]
  },
  {
   "cell_type": "code",
   "execution_count": 109,
   "metadata": {},
   "outputs": [
    {
     "data": {
      "text/plain": [
       "numpy.int32"
      ]
     },
     "execution_count": 109,
     "metadata": {},
     "output_type": "execute_result"
    }
   ],
   "source": [
    "type(data[0][0])"
   ]
  },
  {
   "cell_type": "code",
   "execution_count": 106,
   "metadata": {},
   "outputs": [
    {
     "name": "stdout",
     "output_type": "stream",
     "text": [
      "Measurement(\n",
      "    input_domain   = NPArray2Domain(num_columns=2, T=i32),\n",
      "    input_metric   = SymmetricDistance(),\n",
      "    output_measure = MaxDivergence(f64))\n"
     ]
    },
    {
     "name": "stderr",
     "output_type": "stream",
     "text": [
      "/var/folders/dg/nlwnz_jj7rsblr2tzwj962b40000gn/T/ipykernel_1066/4065506905.py:11: RuntimeWarning: divide by zero encountered in divide\n",
      "  slope = dy / dx\n",
      "/var/folders/dg/nlwnz_jj7rsblr2tzwj962b40000gn/T/ipykernel_1066/4065506905.py:11: RuntimeWarning: invalid value encountered in divide\n",
      "  slope = dy / dx\n"
     ]
    },
    {
     "ename": "OpenDPException",
     "evalue": "\n  FFI(\"Continued stack trace from Exception in user-defined function:\nTraceback (most recent call last):\n  File \"/Library/Frameworks/Python.framework/Versions/3.12/lib/python3.12/site-packages/opendp/_convert.py\", line 596, in wrapper_func\n    c_out = py_to_c(py_out, c_type=AnyObjectPtr, type_name=TO)\n            ^^^^^^^^^^^^^^^^^^^^^^^^^^^^^^^^^^^^^^^^^^^^^^^^^^\n  File \"/Library/Frameworks/Python.framework/Versions/3.12/lib/python3.12/site-packages/opendp/_convert.py\", line 111, in py_to_c\n    return slice_as_object(value, type_name) # type: ignore[arg-type]\n           ^^^^^^^^^^^^^^^^^^^^^^^^^^^^^^^^^\n  File \"/Library/Frameworks/Python.framework/Versions/3.12/lib/python3.12/site-packages/opendp/_data.py\", line 335, in slice_as_object\n    c_raw = py_to_c(raw, c_type=FfiSlicePtr, type_name=T)\n            ^^^^^^^^^^^^^^^^^^^^^^^^^^^^^^^^^^^^^^^^^^^^^\n  File \"/Library/Frameworks/Python.framework/Versions/3.12/lib/python3.12/site-packages/opendp/_convert.py\", line 116, in py_to_c\n    return _py_to_slice(value, RuntimeType.parse(type_name))\n           ^^^^^^^^^^^^^^^^^^^^^^^^^^^^^^^^^^^^^^^^^^^^^^^^^\n  File \"/Library/Frameworks/Python.framework/Versions/3.12/lib/python3.12/site-packages/opendp/_convert.py\", line 268, in _py_to_slice\n    return _vector_to_slice(value, type_name)\n           ^^^^^^^^^^^^^^^^^^^^^^^^^^^^^^^^^^\n  File \"/Library/Frameworks/Python.framework/Versions/3.12/lib/python3.12/site-packages/opendp/_convert.py\", line 354, in _vector_to_slice\n    check_similar_scalar(inner_type_name, v)\n  File \"/Library/Frameworks/Python.framework/Versions/3.12/lib/python3.12/site-packages/opendp/_convert.py\", line 45, in check_similar_scalar\n    raise TypeError(f\"inferred type is {inferred}, expected {expected}. See {_ERROR_URL_298}\")\nTypeError: inferred type is f64, expected i32. See https://github.com/opendp/opendp/discussions/298\n\")",
     "output_type": "error",
     "traceback": [
      "\u001b[0;31m---------------------------------------------------------------------------\u001b[0m",
      "\u001b[0;31mOpenDPException\u001b[0m                           Traceback (most recent call last)",
      "Cell \u001b[0;32mIn[106], line 15\u001b[0m\n\u001b[1;32m     11\u001b[0m data \u001b[38;5;241m=\u001b[39m data\u001b[38;5;241m.\u001b[39mastype(np\u001b[38;5;241m.\u001b[39mint32)\n\u001b[1;32m     12\u001b[0m \u001b[38;5;66;03m# data = data.astype(np.float64)\u001b[39;00m\n\u001b[0;32m---> 15\u001b[0m \u001b[38;5;28mprint\u001b[39m(\u001b[43mmeas\u001b[49m\u001b[43m(\u001b[49m\u001b[43mdata\u001b[49m\u001b[43m)\u001b[49m)\n",
      "File \u001b[0;32m/Library/Frameworks/Python.framework/Versions/3.12/lib/python3.12/site-packages/opendp/mod.py:74\u001b[0m, in \u001b[0;36mMeasurement.__call__\u001b[0;34m(self, arg)\u001b[0m\n\u001b[1;32m     72\u001b[0m \u001b[38;5;28;01mdef\u001b[39;00m \u001b[38;5;21m__call__\u001b[39m(\u001b[38;5;28mself\u001b[39m, arg):\n\u001b[1;32m     73\u001b[0m     \u001b[38;5;28;01mfrom\u001b[39;00m \u001b[38;5;21;01mopendp\u001b[39;00m\u001b[38;5;21;01m.\u001b[39;00m\u001b[38;5;21;01mcore\u001b[39;00m \u001b[38;5;28;01mimport\u001b[39;00m measurement_invoke\n\u001b[0;32m---> 74\u001b[0m     \u001b[38;5;28;01mreturn\u001b[39;00m \u001b[43mmeasurement_invoke\u001b[49m\u001b[43m(\u001b[49m\u001b[38;5;28;43mself\u001b[39;49m\u001b[43m,\u001b[49m\u001b[43m \u001b[49m\u001b[43marg\u001b[49m\u001b[43m)\u001b[49m\n",
      "File \u001b[0;32m/Library/Frameworks/Python.framework/Versions/3.12/lib/python3.12/site-packages/opendp/core.py:370\u001b[0m, in \u001b[0;36mmeasurement_invoke\u001b[0;34m(this, arg)\u001b[0m\n\u001b[1;32m    367\u001b[0m lib_function\u001b[38;5;241m.\u001b[39margtypes \u001b[38;5;241m=\u001b[39m [Measurement, AnyObjectPtr]\n\u001b[1;32m    368\u001b[0m lib_function\u001b[38;5;241m.\u001b[39mrestype \u001b[38;5;241m=\u001b[39m FfiResult\n\u001b[0;32m--> 370\u001b[0m output \u001b[38;5;241m=\u001b[39m c_to_py(\u001b[43munwrap\u001b[49m\u001b[43m(\u001b[49m\u001b[43mlib_function\u001b[49m\u001b[43m(\u001b[49m\u001b[43mc_this\u001b[49m\u001b[43m,\u001b[49m\u001b[43m \u001b[49m\u001b[43mc_arg\u001b[49m\u001b[43m)\u001b[49m\u001b[43m,\u001b[49m\u001b[43m \u001b[49m\u001b[43mAnyObjectPtr\u001b[49m\u001b[43m)\u001b[49m)\n\u001b[1;32m    372\u001b[0m \u001b[38;5;28;01mreturn\u001b[39;00m output\n",
      "File \u001b[0;32m/Library/Frameworks/Python.framework/Versions/3.12/lib/python3.12/site-packages/opendp/_lib.py:249\u001b[0m, in \u001b[0;36munwrap\u001b[0;34m(result, type_)\u001b[0m\n\u001b[1;32m    246\u001b[0m     \u001b[38;5;28;01mraise\u001b[39;00m OpenDPException(\u001b[38;5;124m\"\u001b[39m\u001b[38;5;124mFailed to free error.\u001b[39m\u001b[38;5;124m\"\u001b[39m)\n\u001b[1;32m    248\u001b[0m \u001b[38;5;66;03m# Rust stack traces follow from here:\u001b[39;00m\n\u001b[0;32m--> 249\u001b[0m \u001b[38;5;28;01mraise\u001b[39;00m OpenDPException(variant, message, backtrace)\n",
      "\u001b[0;31mOpenDPException\u001b[0m: \n  FFI(\"Continued stack trace from Exception in user-defined function:\nTraceback (most recent call last):\n  File \"/Library/Frameworks/Python.framework/Versions/3.12/lib/python3.12/site-packages/opendp/_convert.py\", line 596, in wrapper_func\n    c_out = py_to_c(py_out, c_type=AnyObjectPtr, type_name=TO)\n            ^^^^^^^^^^^^^^^^^^^^^^^^^^^^^^^^^^^^^^^^^^^^^^^^^^\n  File \"/Library/Frameworks/Python.framework/Versions/3.12/lib/python3.12/site-packages/opendp/_convert.py\", line 111, in py_to_c\n    return slice_as_object(value, type_name) # type: ignore[arg-type]\n           ^^^^^^^^^^^^^^^^^^^^^^^^^^^^^^^^^\n  File \"/Library/Frameworks/Python.framework/Versions/3.12/lib/python3.12/site-packages/opendp/_data.py\", line 335, in slice_as_object\n    c_raw = py_to_c(raw, c_type=FfiSlicePtr, type_name=T)\n            ^^^^^^^^^^^^^^^^^^^^^^^^^^^^^^^^^^^^^^^^^^^^^\n  File \"/Library/Frameworks/Python.framework/Versions/3.12/lib/python3.12/site-packages/opendp/_convert.py\", line 116, in py_to_c\n    return _py_to_slice(value, RuntimeType.parse(type_name))\n           ^^^^^^^^^^^^^^^^^^^^^^^^^^^^^^^^^^^^^^^^^^^^^^^^^\n  File \"/Library/Frameworks/Python.framework/Versions/3.12/lib/python3.12/site-packages/opendp/_convert.py\", line 268, in _py_to_slice\n    return _vector_to_slice(value, type_name)\n           ^^^^^^^^^^^^^^^^^^^^^^^^^^^^^^^^^^\n  File \"/Library/Frameworks/Python.framework/Versions/3.12/lib/python3.12/site-packages/opendp/_convert.py\", line 354, in _vector_to_slice\n    check_similar_scalar(inner_type_name, v)\n  File \"/Library/Frameworks/Python.framework/Versions/3.12/lib/python3.12/site-packages/opendp/_convert.py\", line 45, in check_similar_scalar\n    raise TypeError(f\"inferred type is {inferred}, expected {expected}. See {_ERROR_URL_298}\")\nTypeError: inferred type is f64, expected i32. See https://github.com/opendp/opendp/discussions/298\n\")"
     ]
    }
   ],
   "source": [
    "#create the mechanism\n",
    "meas = make_private_theil_sen((-10, 10), k=1, scale=1.0) \n",
    "print(meas)\n",
    "\n",
    "#generate synthetic data \n",
    "#this data is designed to simulate a linera relationship \n",
    "#noise is also added\n",
    "x = np.random.normal(size=1_000)\n",
    "y = 2 * x + 3 + np.random.normal(size=1_000)\n",
    "data = np.stack([x, y], axis=1)\n",
    "data = data.astype(np.int32)\n",
    "# data = data.astype(np.float64)\n",
    "\n",
    "\n",
    "print(meas(data))"
   ]
  }
 ],
 "metadata": {
  "kernelspec": {
   "display_name": "Python 3",
   "language": "python",
   "name": "python3"
  },
  "language_info": {
   "codemirror_mode": {
    "name": "ipython",
    "version": 3
   },
   "file_extension": ".py",
   "mimetype": "text/x-python",
   "name": "python",
   "nbconvert_exporter": "python",
   "pygments_lexer": "ipython3",
   "version": "3.12.3"
  }
 },
 "nbformat": 4,
 "nbformat_minor": 2
}
