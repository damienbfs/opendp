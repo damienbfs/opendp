{
 "cells": [
  {
   "attachments": {},
   "cell_type": "markdown",
   "metadata": {},
   "source": [
    "# OpenDP Library Exercise\n",
    "\n",
    "You can work [here in Colab](https://colab.research.google.com/github/opendp/opendp/blob/ppai-notebook/ppai-exercise.ipynb), or download this notebook and edit \n",
    "locally.\n",
    "Use `Shift+Enter` to execute a cell. \n",
    "Don't hesitate to look at the linked documentation and examples!\n",
    "\n",
    "### Install dependencies\n",
    "`python-dp` is a second, separate DP library that will be used in the last exercise."
   ]
  },
  {
   "cell_type": "code",
   "execution_count": 1,
   "metadata": {},
   "outputs": [
    {
     "name": "stdout",
     "output_type": "stream",
     "text": [
      "Requirement already satisfied: opendp in /home/shoe/anaconda3/lib/python3.9/site-packages (0.0.0+development)\n",
      "Requirement already satisfied: python-dp in /home/shoe/anaconda3/lib/python3.9/site-packages (1.1.1)\n",
      "Requirement already satisfied: seaborn in /home/shoe/anaconda3/lib/python3.9/site-packages (0.11.2)\n",
      "Requirement already satisfied: numpy>=1.15 in /home/shoe/anaconda3/lib/python3.9/site-packages (from seaborn) (1.21.5)\n",
      "Requirement already satisfied: scipy>=1.0 in /home/shoe/anaconda3/lib/python3.9/site-packages (from seaborn) (1.9.1)\n",
      "Requirement already satisfied: pandas>=0.23 in /home/shoe/anaconda3/lib/python3.9/site-packages (from seaborn) (1.4.4)\n",
      "Requirement already satisfied: matplotlib>=2.2 in /home/shoe/anaconda3/lib/python3.9/site-packages (from seaborn) (3.5.2)\n",
      "Requirement already satisfied: packaging>=20.0 in /home/shoe/anaconda3/lib/python3.9/site-packages (from matplotlib>=2.2->seaborn) (21.3)\n",
      "Requirement already satisfied: python-dateutil>=2.7 in /home/shoe/anaconda3/lib/python3.9/site-packages (from matplotlib>=2.2->seaborn) (2.8.2)\n",
      "Requirement already satisfied: pillow>=6.2.0 in /home/shoe/anaconda3/lib/python3.9/site-packages (from matplotlib>=2.2->seaborn) (9.2.0)\n",
      "Requirement already satisfied: pyparsing>=2.2.1 in /home/shoe/anaconda3/lib/python3.9/site-packages (from matplotlib>=2.2->seaborn) (3.0.9)\n",
      "Requirement already satisfied: cycler>=0.10 in /home/shoe/anaconda3/lib/python3.9/site-packages (from matplotlib>=2.2->seaborn) (0.11.0)\n",
      "Requirement already satisfied: fonttools>=4.22.0 in /home/shoe/anaconda3/lib/python3.9/site-packages (from matplotlib>=2.2->seaborn) (4.25.0)\n",
      "Requirement already satisfied: kiwisolver>=1.0.1 in /home/shoe/anaconda3/lib/python3.9/site-packages (from matplotlib>=2.2->seaborn) (1.4.2)\n",
      "Requirement already satisfied: pytz>=2020.1 in /home/shoe/anaconda3/lib/python3.9/site-packages (from pandas>=0.23->seaborn) (2022.1)\n",
      "Requirement already satisfied: six>=1.5 in /home/shoe/anaconda3/lib/python3.9/site-packages (from python-dateutil>=2.7->matplotlib>=2.2->seaborn) (1.16.0)\n",
      "Note: you may need to restart the kernel to use updated packages.\n"
     ]
    }
   ],
   "source": [
    "%pip install opendp python-dp seaborn"
   ]
  },
  {
   "attachments": {},
   "cell_type": "markdown",
   "metadata": {},
   "source": [
    "## Exercise 1: DP Sum\n",
    "\n",
    "### 1.1. Enable \"contrib\" flag. \n",
    "\n",
    "Any constructors that have not completed the proof-writing and vetting process may still be accessed if you opt-in to \"contrib\".\n",
    "Please contact us if you are interested in proof-writing. Thank you!\n",
    "\n",
    "[[Documentation]](https://github.com/opendp/opendp/discussions/304)"
   ]
  },
  {
   "cell_type": "code",
   "execution_count": 2,
   "metadata": {},
   "outputs": [],
   "source": [
    "# TODO: enable \"contrib\"\n",
    "from opendp.mod import enable_features\n",
    "enable_features(\"contrib\")\n",
    "\n",
    "# (this assertion should pass)\n",
    "from opendp.mod import GLOBAL_FEATURES\n",
    "assert \"contrib\" in GLOBAL_FEATURES"
   ]
  },
  {
   "attachments": {},
   "cell_type": "markdown",
   "metadata": {},
   "source": [
    "### 1.2. Data Preprocessing\n",
    "\n",
    "Write a transformation to cast the data to a vector of floating-point numbers, \n",
    "and then clamp the data with bounds of your choosing.\n",
    "\n",
    "[[Cast Example]](https://docs.opendp.org/en/stable/examples/pums-data-analysis.html#Casting)\n",
    "[[Clamp Example]](https://docs.opendp.org/en/stable/user/getting-started.html#Transformation-Example:-Clamp)"
   ]
  },
  {
   "cell_type": "code",
   "execution_count": 3,
   "metadata": {},
   "outputs": [
    {
     "data": {
      "text/plain": [
       "[0.06684902086786026,\n",
       " 0.8527914798437328,\n",
       " 0.07331023513349999,\n",
       " 0.3037395182295832,\n",
       " 0.1957530825909216,\n",
       " 0.9117439967804957,\n",
       " 0.5529437277308142,\n",
       " 0.5826976085023571,\n",
       " 0.8153788763512871,\n",
       " 0.8392116208522172]"
      ]
     },
     "execution_count": 3,
     "metadata": {},
     "output_type": "execute_result"
    }
   ],
   "source": [
    "from opendp.transformations import make_cast_default, make_clamp\n",
    "import numpy as np\n",
    "mock_dataset = [str(v) for v in np.random.uniform(low=0., high=1., size=100)]\n",
    "\n",
    "caster = make_cast_default(str, float)\n",
    "\n",
    "# set bounds to be used for the rest of our computation:\n",
    "bounds = (0., 2.)\n",
    "\n",
    "# construct a clamper!\n",
    "clamper = make_clamp(bounds)\n",
    "\n",
    "# chain the caster and clamper together!\n",
    "bounded_data_trans = caster >> clamper\n",
    "\n",
    "# print out the first ten values in the parsed data\n",
    "bounded_data_trans(mock_dataset)[:10]  # this print keeps only ten elements"
   ]
  },
  {
   "attachments": {},
   "cell_type": "markdown",
   "metadata": {},
   "source": [
    "## 1.3. Construct a non-DP Sum Transformation\n",
    "\n",
    "This sum transformation should be able to chain with the clamp transformation in the previous section.\n",
    "\n",
    "[[Documentation]](https://docs.opendp.org/en/stable/user/getting-started.html#Transformation-Example:-Sum)"
   ]
  },
  {
   "cell_type": "code",
   "execution_count": 4,
   "metadata": {},
   "outputs": [],
   "source": [
    "from opendp.transformations import make_bounded_sum\n",
    "\n",
    "sum_trans = make_bounded_sum(bounds)\n",
    "\n",
    "# chain the two transformations you've made!\n",
    "bounded_sum_trans = bounded_data_trans >> sum_trans"
   ]
  },
  {
   "attachments": {},
   "cell_type": "markdown",
   "metadata": {},
   "source": [
    "## 1.5. Apply a Differentially Private Mechanism\n",
    "Build a DP Sum measurement by chaining the exact sum with a laplace noise measurement.\n",
    "\n",
    "[[Documentation]](https://docs.opendp.org/en/stable/user/getting-started.html#The-Laplace-Mechanism)"
   ]
  },
  {
   "cell_type": "code",
   "execution_count": 5,
   "metadata": {},
   "outputs": [
    {
     "name": "stdout",
     "output_type": "stream",
     "text": [
      "epsilon: 2.000000018626452\n",
      "dp sum 1: 49.992214934474795\n",
      "dp sum 2: 50.08344963267436\n",
      "dp sum 3: 50.77737363560543\n"
     ]
    }
   ],
   "source": [
    "from opendp.measurements import make_base_laplace\n",
    "\n",
    "base_laplace = make_base_laplace(scale=1.)\n",
    "\n",
    "# chain the bounded sum transformation\n",
    "dp_sum_meas = bounded_sum_trans >> base_laplace\n",
    "\n",
    "# since you used laplace noise, you should be able to pass in a bound on contributions and get back an ε\n",
    "print(\"epsilon:\", dp_sum_meas.map(1))\n",
    "\n",
    "# each release is a random draw from the laplace distribution\n",
    "print(\"dp sum 1:\", dp_sum_meas(mock_dataset))\n",
    "print(\"dp sum 2:\", dp_sum_meas(mock_dataset))\n",
    "print(\"dp sum 3:\", dp_sum_meas(mock_dataset))"
   ]
  },
  {
   "attachments": {},
   "cell_type": "markdown",
   "metadata": {},
   "source": [
    "## Exercise 2: Private Histogram of Poll Results\n",
    "This code snip downloads a dataset that we'll use for this exercise. Don't forget to comment out the lines indicated by the `TODO`!"
   ]
  },
  {
   "cell_type": "code",
   "execution_count": 6,
   "metadata": {},
   "outputs": [],
   "source": [
    "# download a dataset\n",
    "dataset_url = \"https://raw.githubusercontent.com/opendp/opendp/ppai-notebook/poll-data.csv\"\n",
    "dataset_path = \"poll-data.csv\"\n",
    "\n",
    "# TODO: comment these lines to use the poll data instead\n",
    "# dataset_url = \"https://raw.githubusercontent.com/opendp/dp-test-datasets/master/data/PUMS_california_demographics_1000/data.csv\"\n",
    "# dataset_path = \"pums_1000.csv\"\n",
    "\n",
    "# download the data\n",
    "import os, requests\n",
    "if not os.path.exists(dataset_path):\n",
    "    open(dataset_path, \"wb\").write(requests.get(dataset_url).content)    \n",
    "\n",
    "dataset_file = open(dataset_path)\n",
    "next(dataset_file) # discard header\n",
    "csv_dataset = dataset_file.read()"
   ]
  },
  {
   "attachments": {},
   "cell_type": "markdown",
   "metadata": {},
   "source": [
    "### 2.1. Load data from a CSV\n",
    "\n",
    "Construct a transformation that loads data from a CSV and selects a column.\n",
    "\n",
    "[[Example]](https://docs.opendp.org/en/stable/examples/pums-data-analysis.html#Working-with-CSV-data)"
   ]
  },
  {
   "cell_type": "code",
   "execution_count": 7,
   "metadata": {},
   "outputs": [
    {
     "data": {
      "text/plain": [
       "['Africa',\n",
       " 'South America',\n",
       " 'North America',\n",
       " 'North America',\n",
       " 'North America',\n",
       " 'North America',\n",
       " 'South America',\n",
       " 'North America',\n",
       " 'Asia',\n",
       " 'North America']"
      ]
     },
     "execution_count": 7,
     "metadata": {},
     "output_type": "execute_result"
    }
   ],
   "source": [
    "from opendp.transformations import make_split_dataframe, make_select_column\n",
    "\n",
    "# TODO: replace the column names with col_names = [\"Continent\"]\n",
    "col_names = [\"Continent\"]\n",
    "df_loader = make_split_dataframe(\",\", col_names=col_names)\n",
    "\n",
    "# TODO: replace \"age\" with the column of interest\n",
    "column_selector = make_select_column(\"Continent\", TOA=str)\n",
    "\n",
    "# chain the transformations together!\n",
    "csv_loader_trans = df_loader >> column_selector\n",
    "\n",
    "# you should be able to pass the csv dataset in and get a vector of strings\n",
    "csv_loader_trans(csv_dataset)[:10]"
   ]
  },
  {
   "attachments": {},
   "cell_type": "markdown",
   "metadata": {},
   "source": [
    "### 2.2. Compute non-DP Histogram\n",
    "\n",
    "[[Documentation]](https://docs.opendp.org/en/stable/examples/histograms.html#Private-histogram-via-make_count_by_categories)"
   ]
  },
  {
   "cell_type": "code",
   "execution_count": 8,
   "metadata": {},
   "outputs": [],
   "source": [
    "from opendp.transformations import make_count_by_categories\n",
    "categories = [\"North America\", \"South America\", \"Asia\", \"Europe\", \"Africa\", \"Australia\", \"Antarctica\"]\n",
    "histogram_trans = make_count_by_categories(categories)\n",
    "\n",
    "# this assertion should pass:\n",
    "assert histogram_trans([\"North America\"] * 2 + [\"South America\"]) == [2, 1, 0, 0, 0, 0, 0, 0]"
   ]
  },
  {
   "attachments": {},
   "cell_type": "markdown",
   "metadata": {},
   "source": [
    "The 8th count is the number of rows that are not in the category set."
   ]
  },
  {
   "attachments": {},
   "cell_type": "markdown",
   "metadata": {},
   "source": [
    "### 2.3. Apply a Differentially Private Mechanism\n",
    "\n",
    "In this case, we'll need to make two adjustments to the Laplace mechanism: the noise should be over the integers, and vector-valued.\n",
    "\n",
    "[[Documentation: Integer]](https://docs.opendp.org/en/stable/user/measurements/additive-noise-mechanisms.html#Support:-Float-vs.%C2%A0Integer)\n",
    "[[Documentation: Vector]](https://docs.opendp.org/en/stable/user/measurements/additive-noise-mechanisms.html#Domain:-Scalar-vs.%C2%A0Vector)\n",
    "\n",
    "Choose any valid scale parameter."
   ]
  },
  {
   "cell_type": "code",
   "execution_count": 9,
   "metadata": {},
   "outputs": [
    {
     "name": "stdout",
     "output_type": "stream",
     "text": [
      "epsilon: 1.0\n"
     ]
    }
   ],
   "source": [
    "from opendp.measurements import make_base_discrete_laplace\n",
    "base_vector_laplace = make_base_discrete_laplace(scale=1., D=\"VectorDomain<AllDomain<int>>\")\n",
    "\n",
    "# chain the csv_loader_trans, histogram_trans and vector laplace mechanism:\n",
    "dp_histogram = csv_loader_trans >> histogram_trans >> base_vector_laplace\n",
    "\n",
    "print(\"epsilon:\", dp_histogram.map(1))\n",
    "\n",
    "dp_release = dp_histogram(csv_dataset)\n",
    "exact_vals = (csv_loader_trans >> histogram_trans)(csv_dataset) "
   ]
  },
  {
   "cell_type": "code",
   "execution_count": 10,
   "metadata": {},
   "outputs": [
    {
     "data": {
      "image/png": "[encoded data removed]",
      "text/plain": [
       "<Figure size 640x480 with 1 Axes>"
      ]
     },
     "metadata": {},
     "output_type": "display_data"
    }
   ],
   "source": [
    "import pandas as pd\n",
    "import seaborn as sns\n",
    "\n",
    "data = pd.DataFrame({\n",
    "    \"continent\": categories + [\"NA\"] + categories + [\"NA\"],\n",
    "    \"kind\": [\"exact\"] * 8 + [\"noisy\"] * 8,\n",
    "    \"data\": exact_vals + dp_release\n",
    "})\n",
    "\n",
    "sns.barplot(x=\"continent\", hue=\"kind\", y=\"data\", data=data);"
   ]
  },
  {
   "attachments": {},
   "cell_type": "markdown",
   "metadata": {},
   "source": [
    "## Exercise 3: Combinators\n",
    "\n",
    "### 3.1. Non-Interactive Composition\n",
    "\n",
    "More than one measurement can be composed together into a single measurement:\n",
    "[[Documentation]](https://docs.opendp.org/en/stable/user/combinators.html#composition)\n",
    "\n",
    "You can reuse measurements we've previously constructed as arguments to the basic composition combinator."
   ]
  },
  {
   "cell_type": "code",
   "execution_count": 12,
   "metadata": {},
   "outputs": [
    {
     "name": "stdout",
     "output_type": "stream",
     "text": [
      "release: [13, [8, 2, 1, 0, 2, 0, 1, -1]]\n",
      "epsilon: 2.0\n"
     ]
    }
   ],
   "source": [
    "from opendp.transformations import make_count\n",
    "count_meas = csv_loader_trans >> make_count(str) >> make_base_discrete_laplace(1.)\n",
    "\n",
    "from opendp.combinators import make_basic_composition\n",
    "basic_composition_meas = make_basic_composition([count_meas, dp_histogram])\n",
    "\n",
    "# contains the DP histogram and count\n",
    "print(\"release:\", basic_composition_meas(csv_dataset))\n",
    "print(\"epsilon:\", basic_composition_meas.map(1))"
   ]
  },
  {
   "attachments": {},
   "cell_type": "markdown",
   "metadata": {},
   "source": [
    "### 3.2. Privacy Measure Casting\n",
    "\n",
    "You can use a measure-cast combinator to wrap a measurement in a new measurement that gives a privacy guarantee under a different definition of privacy.\n",
    "\n",
    "[[Documentation]](https://docs.opendp.org/en/stable/user/combinators.html#measure-casting)\n",
    "\n",
    "The Gaussian measurement gives a guarantee in terms of zero-Concentrated Differential Privacy.\n",
    "Can you write the equivalent measurement in terms of ε(δ)-DP?"
   ]
  },
  {
   "cell_type": "code",
   "execution_count": 13,
   "metadata": {},
   "outputs": [],
   "source": [
    "from opendp.measurements import make_base_gaussian\n",
    "base_zCDP_gaussian = make_base_gaussian(scale=4.)\n",
    "\n",
    "from opendp.combinators import make_zCDP_to_approxDP\n",
    "base_approxDP_gaussian = make_zCDP_to_approxDP(base_zCDP_gaussian)"
   ]
  },
  {
   "attachments": {},
   "cell_type": "markdown",
   "metadata": {},
   "source": [
    "Can you determine $\\epsilon$ when $scale = 4.$, $\\delta = 1e-7$ and sensitivity $d_{in} = 0.5$?"
   ]
  },
  {
   "cell_type": "code",
   "execution_count": 14,
   "metadata": {},
   "outputs": [
    {
     "data": {
      "text/plain": [
       "0.6057285745359845"
      ]
     },
     "execution_count": 14,
     "metadata": {},
     "output_type": "execute_result"
    }
   ],
   "source": [
    "delta = 1e-7\n",
    "curve = base_approxDP_gaussian.map(d_in=0.5)\n",
    "epsilon = curve.epsilon(delta)\n",
    "epsilon"
   ]
  },
  {
   "attachments": {},
   "cell_type": "markdown",
   "metadata": {},
   "source": [
    "### 3.3 User-Defined Measurement\n",
    "\n",
    "The OpenDP Library can incorporate measurements defined by other libraries.\n",
    "In this exercise, you will write your own measurement that wraps a mechanism in PyDP.\n",
    "\n",
    "This code snip uses [PyDP](https://github.com/OpenMined/PyDP) to release a DP Count:"
   ]
  },
  {
   "cell_type": "code",
   "execution_count": 15,
   "metadata": {},
   "outputs": [
    {
     "data": {
      "text/plain": [
       "1"
      ]
     },
     "execution_count": 15,
     "metadata": {},
     "output_type": "execute_result"
    }
   ],
   "source": [
    "# import the Count algorithm from py-DP\n",
    "from pydp.algorithms.laplacian import Count\n",
    "\n",
    "x = Count(epsilon=0.6)\n",
    "\n",
    "x.quick_result([1, 2, 3])"
   ]
  },
  {
   "attachments": {},
   "cell_type": "markdown",
   "metadata": {},
   "source": [
    "Now complete the function and privacy map.\n",
    "\n",
    "[[Documentation]](https://docs.opendp.org/en/stable/user/combinators.html#user-defined-callbacks)"
   ]
  },
  {
   "cell_type": "code",
   "execution_count": 16,
   "metadata": {},
   "outputs": [
    {
     "data": {
      "text/plain": [
       "4"
      ]
     },
     "execution_count": 16,
     "metadata": {},
     "output_type": "execute_result"
    }
   ],
   "source": [
    "from opendp.typing import *\n",
    "from opendp.combinators import make_default_user_measurement\n",
    "from opendp.mod import enable_features\n",
    "enable_features(\"honest-but-curious\")\n",
    "\n",
    "\n",
    "def make_pyDP_count(epsilon):\n",
    "\n",
    "    from pydp.algorithms.laplacian import Count\n",
    "    x = Count(epsilon=epsilon)\n",
    "\n",
    "    def function(data):\n",
    "        return x.quick_result(data)\n",
    "\n",
    "    def privacy_map(d_in):\n",
    "        return d_in * epsilon\n",
    "\n",
    "    return make_default_user_measurement(\n",
    "        function,\n",
    "        privacy_map,\n",
    "        DI=VectorDomain[AllDomain[i32]],\n",
    "        DO=AllDomain[i32],\n",
    "        MI=SymmetricDistance,\n",
    "        MO=MaxDivergence[f64]\n",
    "    )\n",
    "\n",
    "wrapped_meas = make_pyDP_count(epsilon=1.)\n",
    "wrapped_meas([1, 2, 3])"
   ]
  },
  {
   "cell_type": "code",
   "execution_count": null,
   "metadata": {},
   "outputs": [],
   "source": [
    "# If implemented properly, this assertion should pass.\n",
    "assert wrapped_meas.map(2) == 2."
   ]
  }
 ],
 "metadata": {
  "kernelspec": {
   "display_name": "psi",
   "language": "python",
   "name": "python3"
  },
  "language_info": {
   "codemirror_mode": {
    "name": "ipython",
    "version": 3
   },
   "file_extension": ".py",
   "mimetype": "text/x-python",
   "name": "python",
   "nbconvert_exporter": "python",
   "pygments_lexer": "ipython3",
   "version": "3.9.13"
  },
  "orig_nbformat": 4,
  "vscode": {
   "interpreter": {
    "hash": "3220da548452ac41acb293d0d6efded0f046fab635503eb911c05f743e930f34"
   }
  }
 },
 "nbformat": 4,
 "nbformat_minor": 2
}
